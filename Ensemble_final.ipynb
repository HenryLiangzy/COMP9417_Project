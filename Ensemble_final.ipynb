{
 "cells": [
  {
   "cell_type": "markdown",
   "metadata": {},
   "source": [
    "# Ensemble Model Prediction\n",
    "Combine all models and predict with a ensemble approach"
   ]
  },
  {
   "cell_type": "code",
   "execution_count": 1,
   "metadata": {},
   "outputs": [],
   "source": [
    "import warnings\n",
    "warnings.filterwarnings(\"ignore\")\n",
    "\n",
    "import numpy as np\n",
    "import pandas as pd\n",
    "import scipy\n",
    "import json\n",
    "import seaborn as sns\n",
    "from collections import namedtuple\n",
    "from sklearn.base import TransformerMixin\n",
    "from sklearn import preprocessing\n",
    "from sklearn import metrics\n",
    "from sklearn.feature_extraction.text import CountVectorizer, TfidfVectorizer\n",
    "from sklearn.model_selection import train_test_split, learning_curve, StratifiedKFold\n",
    "from sklearn.metrics import roc_auc_score, roc_curve, classification_report, confusion_matrix, plot_confusion_matrix\n",
    "from sklearn.pipeline import make_pipeline, Pipeline\n",
    "import joblib\n",
    "import matplotlib.pyplot as plt"
   ]
  },
  {
   "cell_type": "markdown",
   "metadata": {},
   "source": [
    "### Basic values"
   ]
  },
  {
   "cell_type": "code",
   "execution_count": 2,
   "metadata": {},
   "outputs": [],
   "source": [
    "model_path = 'Choesn_model/'\n",
    "configure_file_path = 'Choesn_model/Configuration.json'\n",
    "\n",
    "TRAINFILE = 'keyword.csv'\n",
    "TESTFILE = 'key_word_test.csv'\n",
    "boolean = 'True'"
   ]
  },
  {
   "cell_type": "markdown",
   "metadata": {},
   "source": [
    "## MODEL object\n",
    "```class Model(object)``` records information of each model to ensemble"
   ]
  },
  {
   "cell_type": "code",
   "execution_count": 3,
   "metadata": {},
   "outputs": [],
   "source": [
    "class Model(object):\n",
    "\n",
    "    def  __init__(self, model, name, test_set, topic, is_preprocess, level):\n",
    "        self.model = model\n",
    "        self.name = name\n",
    "        self.test_set = test_set\n",
    "        self.topic = topic\n",
    "        self.is_preprocess = is_preprocess\n",
    "        self.level = level\n",
    "        self.encoding = None\n",
    "\n",
    "    # for debug use\n",
    "    def show(self):\n",
    "        print(\n",
    "            self.name,'\\t',\n",
    "            self.test_set,'\\t',\n",
    "            self.topic,'\\t',\n",
    "            self.is_preprocess,'\\t',\n",
    "            self.level\n",
    "        )\n",
    "\n",
    "    def predict(self, x):\n",
    "        if self.level == 1:\n",
    "            pred_y = self.model.predict(x)\n",
    "            for i in range(pred_y.shape[0]):\n",
    "                pred_y[i] = self.convert(str(pred_y[i]))\n",
    "            \n",
    "            return pred_y.astype(int)\n",
    "        else:\n",
    "            return self.model.predict(x)\n",
    "        \n",
    "    def predict_proba(self, x):\n",
    "        return self.model.predict_proba(x)\n",
    "\n",
    "    def set_encoding(self, encoding):\n",
    "        self.encoding = encoding\n",
    "\n",
    "    def convert(self, x):\n",
    "        return int(self.encoding[x])"
   ]
  },
  {
   "cell_type": "markdown",
   "metadata": {},
   "source": [
    "# Load model details from ```.json``` configuration file\n",
    "create model objects from ```.json``` file"
   ]
  },
  {
   "cell_type": "code",
   "execution_count": 4,
   "metadata": {},
   "outputs": [],
   "source": [
    "def load_configuration_to_model(file_path):\n",
    "    '''\n",
    "    Load the json file and figure the parameter of each model\n",
    "\n",
    "    Return: (Tuple Object) with two sub-list\n",
    "            sub-list_1: Model for layer one (For revelent and irrevelent)\n",
    "            sub-list_2: Model for layer two (For topic decision)\n",
    "    '''\n",
    "\n",
    "    with open(configure_file_path, 'r') as json_fp:\n",
    "        configuration = json.load(json_fp)\n",
    "\n",
    "    layer_1 = []\n",
    "    layer_2 = []\n",
    "    \n",
    "    for model_figure in configuration:\n",
    "\n",
    "        # read the figure\n",
    "        model_file = joblib.load(model_path + model_figure['model_name'])\n",
    "        name = model_figure['model_name']\n",
    "        test_set = model_figure['test_set']\n",
    "        topic = model_figure['topic']\n",
    "        is_preprocess = boolean == model_figure['preprocess']\n",
    "        level = int(model_figure['level'])\n",
    "\n",
    "        # New model object to save those arguments\n",
    "        model = Model(model_file, name, test_set, topic, is_preprocess, level)\n",
    "\n",
    "        # append to model list for futher processing\n",
    "        if level == 1:\n",
    "            model.set_encoding(model_figure['encoding'])\n",
    "            layer_1.append(model)\n",
    "        elif level == 2:\n",
    "            layer_2.append(model)\n",
    "\n",
    "    return layer_1,layer_2"
   ]
  },
  {
   "cell_type": "markdown",
   "metadata": {},
   "source": [
    "## Prepare testing data and preprocess vectors"
   ]
  },
  {
   "cell_type": "code",
   "execution_count": 5,
   "metadata": {},
   "outputs": [],
   "source": [
    "def get_vector(column_name, special=False):\n",
    "    '''\n",
    "    df                      str: The train df\n",
    "    fit_column              str: The column for vector to fit\n",
    "\n",
    "    Return: (Vectorizer Object)\n",
    "            Vectorizer of current column\n",
    "    '''\n",
    "    train_df = pd.read_csv(TRAINFILE)\n",
    "    if special is not False:\n",
    "        train_df = train_df.dropna()\n",
    "        train_df[special] = train_df[special].apply(lambda x: x.replace('_', ''))\n",
    "\n",
    "    # prepare the tranform vector\n",
    "    vector = TfidfVectorizer().fit(train_df[column_name])\n",
    "\n",
    "    return vector\n",
    "\n",
    "def preprocess(df, column_name_list):\n",
    "    '''\n",
    "    This function to use to prepare all the data for ensemble system running\n",
    "    including RAW data and Vector-preprocess data\n",
    "\n",
    "    Return: (Dict object)\n",
    "            A after preprocessing data dict, it order by column_name_list\n",
    "        \n",
    "            ext:\n",
    "            Input: column_name_list: ['key_word_100', 'article_words']\n",
    "            Output: test_data_dict: test_data_dict['key_word_100'] --> key_word_100\n",
    "                                    test_data_dict['article_words'] -> article_words\n",
    "                                    test_data_dict['raw']          --> original data\n",
    "    '''\n",
    "\n",
    "    test_data_dict = {}\n",
    "\n",
    "    # first add original data\n",
    "    test_data_dict['raw'] = df\n",
    "\n",
    "    vector = get_vector('article_words', special='article_words')\n",
    "    \n",
    "    for column in column_name_list:\n",
    "        en_data = vector.transform(df[column])\n",
    "        test_data_dict[str(column)] = en_data\n",
    "\n",
    "    # for special data, add it by manul\n",
    "    vector = get_vector('key_word_100')\n",
    "    test_data_dict['key_word_100_1'] = vector.transform(df['key_word_100'])\n",
    "\n",
    "    return test_data_dict"
   ]
  },
  {
   "cell_type": "code",
   "execution_count": 6,
   "metadata": {},
   "outputs": [],
   "source": [
    "df = pd.read_csv(TESTFILE)\n",
    "dict_data = preprocess(df, ['key_word_100', 'article_words'])"
   ]
  },
  {
   "cell_type": "markdown",
   "metadata": {},
   "source": [
    "## Ensemble part"
   ]
  },
  {
   "cell_type": "markdown",
   "metadata": {},
   "source": [
    "### Load lists of models"
   ]
  },
  {
   "cell_type": "code",
   "execution_count": 7,
   "metadata": {},
   "outputs": [],
   "source": [
    "model_list_1, model_list_2 = load_configuration_to_model(configure_file_path)"
   ]
  },
  {
   "cell_type": "markdown",
   "metadata": {},
   "source": [
    "### Utilisation function and values for ensemble model"
   ]
  },
  {
   "cell_type": "code",
   "execution_count": 8,
   "metadata": {},
   "outputs": [],
   "source": [
    "# create a Vote structure include following information:\n",
    "#    model: which model votes             - int\n",
    "#    cate:  which category it votes       - int\n",
    "#    proba: the probability it provides   - float\n",
    "Vote = namedtuple(\"Vote\", \"model cate proba\")"
   ]
  },
  {
   "cell_type": "code",
   "execution_count": 9,
   "metadata": {},
   "outputs": [],
   "source": [
    "topic_list = list(set(df['topic']))\n",
    "topic_list.sort()\n",
    "\n",
    "def create_encode(topics):\n",
    "    encode_list = dict()\n",
    "    decode_list = dict()\n",
    "\n",
    "    for num, topic in enumerate(topics):\n",
    "        decode_list[num] = topic\n",
    "        encode_list[topic] = num\n",
    "        \n",
    "    return encode_list, decode_list\n",
    "\n",
    "topic_encode, topic_decode = create_encode(topic_list)\n",
    "sample_size = len(df)"
   ]
  },
  {
   "cell_type": "code",
   "execution_count": 10,
   "metadata": {},
   "outputs": [],
   "source": [
    "def create_weights(topics):\n",
    "    topic_count = {}\n",
    "    for topic in topics:\n",
    "        topic_count[topic] = 0\n",
    "\n",
    "    for model in model_list_1 + model_list_2:\n",
    "        for topic in model.topic:\n",
    "            topic_count[topic] += 1\n",
    "    return [topic_count[max(topic_count)]/i for i in topic_count.values()]\n",
    "\n",
    "weight_list = create_weights(topic_list)"
   ]
  },
  {
   "cell_type": "markdown",
   "metadata": {},
   "source": [
    "### ensemble core code"
   ]
  },
  {
   "cell_type": "code",
   "execution_count": 11,
   "metadata": {},
   "outputs": [],
   "source": [
    "def vote_proba(votes, topic_dict, weights=None):\n",
    "    cate_count = len(topic_dict)\n",
    "\n",
    "    column_names = ['predict', 'mean_proba', 'models', 'probas']\n",
    "    df = pd.DataFrame(columns = column_names)\n",
    "\n",
    "    for num, sample in enumerate(votes): \n",
    "        # vote_list to count vote, init with 11 zeros\n",
    "        vote_list = [[] for _ in range(cate_count)]\n",
    "        vote_probas = [[] for _ in range(cate_count)]\n",
    "        for vote in sample:\n",
    "            vote_list[vote.cate].append(vote.model)\n",
    "            vote_probas[vote.cate].append(vote.proba)\n",
    "        vote_count = [len(cate_list) for cate_list in vote_list]\n",
    "        vote_proba_mean = [0 for _ in range(cate_count)]\n",
    "        for i in range(cate_count):\n",
    "            if len(vote_probas[i]) > 0:\n",
    "                vote_proba_mean[i] = sum(vote_probas[i])/len(vote_probas[i])\n",
    "                \n",
    "        if weights is not None:\n",
    "            for i in range(len(vote_count)):\n",
    "                vote_count[i] *= weights[i]\n",
    "            \n",
    "        # get category chosen by vote\n",
    "        max_vote = max(vote_count)\n",
    "        \n",
    "        # if no vote, create None column, else, create column by vote.\n",
    "        if max_vote == 0:\n",
    "            res = [None, None, None, None]\n",
    "        else:\n",
    "            # check count\n",
    "            # if draw vote, check proba\n",
    "            if vote_list.count(max_vote) > 1:\n",
    "                chosen_cate = vote_proba_mean.index(max(vote_proba_mean))\n",
    "\n",
    "            # if not draw\n",
    "            else:\n",
    "                chosen_cate = vote_count.index(max_vote)\n",
    "\n",
    "            # append to result DataFrame\n",
    "            res = [topic_dict[chosen_cate], vote_proba_mean[chosen_cate], vote_list[chosen_cate], vote_probas[chosen_cate]]\n",
    "        new_row = pd.Series(res, index=column_names)\n",
    "        df = df.append(new_row, ignore_index=True)\n",
    "        \n",
    "    return df"
   ]
  },
  {
   "cell_type": "code",
   "execution_count": 12,
   "metadata": {},
   "outputs": [],
   "source": [
    "def irre_vote(model_list, sample_size):\n",
    "    all_votes = [[] for _ in range(sample_size)]\n",
    "    for clf in model_list:\n",
    "            if clf.is_preprocess is True:\n",
    "                test_x = dict_data[clf.test_set]\n",
    "            else:\n",
    "                test_x = dict_data['raw'][clf.test_set]\n",
    "            y_pred = clf.predict(test_x)\n",
    "            y_pred_proba = clf.predict_proba(test_x)\n",
    "            for i in range(sample_size):\n",
    "                cate, proba = y_pred[i], y_pred_proba[i]\n",
    "\n",
    "                clf_name = clf.name.split('.')[0]\n",
    "                # create namedtuple (model_name, category, category_proba)\n",
    "                all_votes[i].append(Vote(clf_name, cate, proba.max()))\n",
    "    topic_dict = {0: 'IRRELEVANT', 1: 'RELEVANT'}\n",
    "    return vote_proba(all_votes, topic_dict)"
   ]
  },
  {
   "cell_type": "code",
   "execution_count": 13,
   "metadata": {},
   "outputs": [],
   "source": [
    "def cate_vote(model_list, sample_size, irre_res, truth):\n",
    "    global weight_list\n",
    "    \n",
    "    column_names = ['label', 'predict', 'mean_proba', 'models', 'probas']\n",
    "    final_df = pd.DataFrame(columns = column_names)\n",
    "    \n",
    "    all_votes = [[] for _ in range(sample_size)]\n",
    "    for clf in model_list:\n",
    "        if clf.is_preprocess is True:\n",
    "            test_x = dict_data[clf.test_set]\n",
    "        else:\n",
    "            test_x = dict_data['raw'][clf.test_set]\n",
    "        y_pred = clf.predict(test_x)\n",
    "        y_pred_proba = clf.predict_proba(test_x)\n",
    "        for i in range(sample_size):\n",
    "            cate, proba = y_pred[i], y_pred_proba[i]\n",
    "            if topic_decode[cate] in clf.topic:\n",
    "                            \n",
    "                clf_name = clf.name.split('.')[0]\n",
    "\n",
    "                all_votes[i].append(Vote(clf_name, cate, proba.max()))\n",
    "    rela_res = vote_proba(all_votes, topic_decode, weight_list)\n",
    "    for i in range(sample_size):\n",
    "        if irre_res['predict'].iloc[i] == 'IRRELEVANT':\n",
    "            final_res = [truth[i]] + irre_res.iloc[i].tolist()\n",
    "        else:\n",
    "            final_res = [truth[i]] + rela_res.iloc[i].tolist()\n",
    "        new_row = pd.Series(final_res, index=column_names)\n",
    "        final_df = final_df.append(new_row, ignore_index=True)\n",
    "\n",
    "    return final_df"
   ]
  },
  {
   "cell_type": "code",
   "execution_count": 14,
   "metadata": {},
   "outputs": [],
   "source": [
    "res_df = cate_vote(model_list_2, sample_size, irre_vote(model_list_1, sample_size), df['topic'])\n",
    "res_df = res_df.set_index(df.article_number)"
   ]
  },
  {
   "cell_type": "code",
   "execution_count": 15,
   "metadata": {},
   "outputs": [
    {
     "data": {
      "text/html": [
       "<div>\n",
       "<style scoped>\n",
       "    .dataframe tbody tr th:only-of-type {\n",
       "        vertical-align: middle;\n",
       "    }\n",
       "\n",
       "    .dataframe tbody tr th {\n",
       "        vertical-align: top;\n",
       "    }\n",
       "\n",
       "    .dataframe thead th {\n",
       "        text-align: right;\n",
       "    }\n",
       "</style>\n",
       "<table border=\"1\" class=\"dataframe\">\n",
       "  <thead>\n",
       "    <tr style=\"text-align: right;\">\n",
       "      <th></th>\n",
       "      <th>label</th>\n",
       "      <th>predict</th>\n",
       "      <th>mean_proba</th>\n",
       "      <th>models</th>\n",
       "      <th>probas</th>\n",
       "    </tr>\n",
       "    <tr>\n",
       "      <th>article_number</th>\n",
       "      <th></th>\n",
       "      <th></th>\n",
       "      <th></th>\n",
       "      <th></th>\n",
       "      <th></th>\n",
       "    </tr>\n",
       "  </thead>\n",
       "  <tbody>\n",
       "    <tr>\n",
       "      <th>9501</th>\n",
       "      <td>IRRELEVANT</td>\n",
       "      <td>IRRELEVANT</td>\n",
       "      <td>0.855460</td>\n",
       "      <td>[svm_ir_clf, rel_clf_tfidf_NB, best_logi]</td>\n",
       "      <td>[0.9415586552948044, 1.0, 0.6248227956728621]</td>\n",
       "    </tr>\n",
       "    <tr>\n",
       "      <th>9502</th>\n",
       "      <td>IRRELEVANT</td>\n",
       "      <td>IRRELEVANT</td>\n",
       "      <td>0.798582</td>\n",
       "      <td>[svm_ir_clf, rel_clf_tfidf_NB, best_logi]</td>\n",
       "      <td>[0.9294322124011538, 1.0, 0.46631374746266774]</td>\n",
       "    </tr>\n",
       "    <tr>\n",
       "      <th>9503</th>\n",
       "      <td>FOREX MARKETS</td>\n",
       "      <td>MONEY MARKETS</td>\n",
       "      <td>1.000000</td>\n",
       "      <td>[clf_NB_2]</td>\n",
       "      <td>[0.9999999999997726]</td>\n",
       "    </tr>\n",
       "    <tr>\n",
       "      <th>9504</th>\n",
       "      <td>IRRELEVANT</td>\n",
       "      <td>IRRELEVANT</td>\n",
       "      <td>0.783383</td>\n",
       "      <td>[svm_ir_clf, rel_clf_tfidf_NB, best_logi]</td>\n",
       "      <td>[0.8360490328877616, 1.0, 0.5140987736785823]</td>\n",
       "    </tr>\n",
       "    <tr>\n",
       "      <th>9505</th>\n",
       "      <td>IRRELEVANT</td>\n",
       "      <td>IRRELEVANT</td>\n",
       "      <td>0.984085</td>\n",
       "      <td>[svm_ir_clf, rel_clf_tfidf_NB, best_logi]</td>\n",
       "      <td>[0.9852943113674895, 1.0, 0.9669618390243637]</td>\n",
       "    </tr>\n",
       "  </tbody>\n",
       "</table>\n",
       "</div>"
      ],
      "text/plain": [
       "                        label        predict  mean_proba  \\\n",
       "article_number                                             \n",
       "9501               IRRELEVANT     IRRELEVANT    0.855460   \n",
       "9502               IRRELEVANT     IRRELEVANT    0.798582   \n",
       "9503            FOREX MARKETS  MONEY MARKETS    1.000000   \n",
       "9504               IRRELEVANT     IRRELEVANT    0.783383   \n",
       "9505               IRRELEVANT     IRRELEVANT    0.984085   \n",
       "\n",
       "                                                   models  \\\n",
       "article_number                                              \n",
       "9501            [svm_ir_clf, rel_clf_tfidf_NB, best_logi]   \n",
       "9502            [svm_ir_clf, rel_clf_tfidf_NB, best_logi]   \n",
       "9503                                           [clf_NB_2]   \n",
       "9504            [svm_ir_clf, rel_clf_tfidf_NB, best_logi]   \n",
       "9505            [svm_ir_clf, rel_clf_tfidf_NB, best_logi]   \n",
       "\n",
       "                                                        probas  \n",
       "article_number                                                  \n",
       "9501             [0.9415586552948044, 1.0, 0.6248227956728621]  \n",
       "9502            [0.9294322124011538, 1.0, 0.46631374746266774]  \n",
       "9503                                      [0.9999999999997726]  \n",
       "9504             [0.8360490328877616, 1.0, 0.5140987736785823]  \n",
       "9505             [0.9852943113674895, 1.0, 0.9669618390243637]  "
      ]
     },
     "execution_count": 15,
     "metadata": {},
     "output_type": "execute_result"
    }
   ],
   "source": [
    "res_df.head(5)"
   ]
  },
  {
   "cell_type": "markdown",
   "metadata": {},
   "source": [
    "## Evaluation"
   ]
  },
  {
   "cell_type": "code",
   "execution_count": 16,
   "metadata": {},
   "outputs": [
    {
     "name": "stdout",
     "output_type": "stream",
     "text": [
      "Classification Report:\n",
      "                                  precision    recall  f1-score   support\n",
      "\n",
      "      ARTS CULTURE ENTERTAINMENT       0.43      1.00      0.60         3\n",
      "BIOGRAPHIES PERSONALITIES PEOPLE       0.64      0.47      0.54        15\n",
      "                         DEFENCE       0.90      0.69      0.78        13\n",
      "                DOMESTIC MARKETS       0.50      0.50      0.50         2\n",
      "                   FOREX MARKETS       0.59      0.79      0.68        48\n",
      "                          HEALTH       0.67      0.57      0.62        14\n",
      "                      IRRELEVANT       0.91      0.87      0.89       266\n",
      "                   MONEY MARKETS       0.64      0.64      0.64        69\n",
      "          SCIENCE AND TECHNOLOGY       0.00      0.00      0.00         3\n",
      "                  SHARE LISTINGS       0.56      0.71      0.63         7\n",
      "                          SPORTS       0.95      0.97      0.96        60\n",
      "\n",
      "                        accuracy                           0.81       500\n",
      "                       macro avg       0.62      0.66      0.62       500\n",
      "                    weighted avg       0.82      0.81      0.81       500\n",
      "\n",
      "[[  3   0   0   0   0   0   0   0   0   0   0]\n",
      " [  3   7   0   0   0   0   5   0   0   0   0]\n",
      " [  0   0   9   0   0   0   4   0   0   0   0]\n",
      " [  0   0   0   1   0   0   1   0   0   0   0]\n",
      " [  0   0   0   0  38   0   2   7   0   1   0]\n",
      " [  0   0   0   1   0   8   4   0   1   0   0]\n",
      " [  0   2   1   0   4   3 232  18   0   3   3]\n",
      " [  0   0   0   0  22   0   3  44   0   0   0]\n",
      " [  1   0   0   0   0   1   1   0   0   0   0]\n",
      " [  0   0   0   0   0   0   2   0   0   5   0]\n",
      " [  0   2   0   0   0   0   0   0   0   0  58]]\n"
     ]
    },
    {
     "data": {
      "image/png": "[encoded data removed]",
      "text/plain": [
       "<Figure size 936x504 with 2 Axes>"
      ]
     },
     "metadata": {
      "needs_background": "light"
     },
     "output_type": "display_data"
    },
    {
     "name": "stdout",
     "output_type": "stream",
     "text": [
      "ARTS CULTURE ENTERTAINMENT accuarcy is: \t 1.0\n",
      "BIOGRAPHIES PERSONALITIES PEOPLE accuarcy is: \t 0.4666666666666667\n",
      "DEFENCE accuarcy is: \t\t\t\t 0.6923076923076923\n",
      "DOMESTIC MARKETS accuarcy is: \t\t\t 0.5\n",
      "FOREX MARKETS accuarcy is: \t\t\t 0.7916666666666666\n",
      "HEALTH accuarcy is: \t\t\t\t 0.5714285714285714\n",
      "IRRELEVANT accuarcy is: \t\t\t 0.8721804511278195\n",
      "MONEY MARKETS accuarcy is: \t\t\t 0.6376811594202898\n",
      "SCIENCE AND TECHNOLOGY accuarcy is: \t\t 0.0\n",
      "SHARE LISTINGS accuarcy is: \t\t\t 0.7142857142857143\n",
      "SPORTS accuarcy is: \t\t\t\t 0.9666666666666667\n"
     ]
    },
    {
     "data": {
      "image/png": "[encoded data removed]",
      "text/plain": [
       "<Figure size 864x432 with 1 Axes>"
      ]
     },
     "metadata": {
      "needs_background": "light"
     },
     "output_type": "display_data"
    }
   ],
   "source": [
    "def report(res_df, y_true_label, y_pred_label):\n",
    "    '''\n",
    "    Here is for the evaluate the ensamble model\n",
    "\n",
    "    Input: (DataFrame Object) Should be result of the prediction\n",
    "    Output: \n",
    "    '''\n",
    "    global topic_list\n",
    "\n",
    "    test_y = res_df[y_true_label]\n",
    "    y_pred = res_df[y_pred_label]\n",
    "    \n",
    "    print(f\"Classification Report:\\n{classification_report(test_y, y_pred)}\")\n",
    "    conf_matrix = confusion_matrix(test_y, y_pred)\n",
    "    print(conf_matrix)\n",
    "    fig1 = plt.figure(figsize=(13,7))\n",
    "    sns.heatmap(conf_matrix,\n",
    "                annot=True, # show numbers in each cell\n",
    "                fmt='d', # set number format to integer in each cell\n",
    "                yticklabels=topic_list,\n",
    "                cmap=\"Blues\",\n",
    "                linewidths=.1,\n",
    "               )\n",
    "    plt.title(\n",
    "              f\"Confusion Matrix on Test Set | \" \n",
    "              f\"Classifier: Ensemble Model\", \n",
    "              fontsize=14)\n",
    "    plt.xlabel(\"Actual: False positives for y != x\", fontsize=12)\n",
    "    plt.ylabel(\"Prediction: False negatives for x != y\", fontsize=12)\n",
    "    plt.show()\n",
    "\n",
    "    report = []\n",
    "    for topic in topic_list:\n",
    "\n",
    "        # prepare the record\n",
    "        topic_report = {}\n",
    "        topic_report['name'] = str(topic)\n",
    "\n",
    "        # prepare the evaluate data\n",
    "        test_df = res_df[test_y == topic]\n",
    "\n",
    "        #evaluate each part\n",
    "        topic_report['f1_score'] = metrics.f1_score(test_df[y_true_label], test_df[y_pred_label], average='macro')\n",
    "        topic_report['accuracy'] = metrics.accuracy_score(test_df[y_true_label], test_df[y_pred_label])\n",
    "        topic_report['recall_score'] = metrics.recall_score(test_df[y_true_label], test_df[y_pred_label], average='macro')\n",
    "        print(topic,'accuarcy is:', '\\t'* (5-(len(topic)+6)//8), topic_report['accuracy'])\n",
    "\n",
    "        # append t total report for further\n",
    "        report.append(topic_report)\n",
    "        \n",
    "\n",
    "    # sort the report for plt\n",
    "    report.sort(reverse=True, key=lambda x: x['accuracy'])\n",
    "\n",
    "    #plt.style.use('ggplot')\n",
    "    figure = plt.figure(figsize=(12,6))\n",
    "    #plt.xticks(rotation=90)\n",
    "    plt.title('Accuracy in each topic')\n",
    "    plt.barh([i['name'] for i in report], [j['accuracy'] for j in report])\n",
    "\n",
    "    plt.show()\n",
    "\n",
    "report(res_df, 'label', 'predict')"
   ]
  },
  {
   "cell_type": "markdown",
   "metadata": {},
   "source": [
    "## Recomandation"
   ]
  },
  {
   "cell_type": "code",
   "execution_count": 17,
   "metadata": {},
   "outputs": [
    {
     "name": "stdout",
     "output_type": "stream",
     "text": [
      "ARTS CULTURE ENTERTAINMENT\n",
      "[9834, 9952, 9604, 9703, 9789, 9933, 9830]\n",
      "BIOGRAPHIES PERSONALITIES PEOPLE\n",
      "[9582, 9645, 9854, 9526, 9988, 9758, 9811, 9940, 9575, 9878]\n",
      "DEFENCE\n",
      "[9670, 9721, 9842, 9607, 9987, 9773, 9770, 9616, 9576, 9559]\n",
      "DOMESTIC MARKETS\n",
      "[9833, 9994]\n",
      "FOREX MARKETS\n",
      "[9751, 9892, 9529, 9564, 9647, 9531, 9894, 9542, 9943, 9554]\n",
      "HEALTH\n",
      "[9621, 9982, 9929, 9911, 9978, 9947, 9661, 9926, 9873, 9807]\n",
      "MONEY MARKETS\n",
      "[9808, 9599, 9753, 9677, 9587, 9665, 9883, 9959, 9550, 9916]\n",
      "SCIENCE AND TECHNOLOGY\n",
      "[9617]\n",
      "SHARE LISTINGS\n",
      "[9999, 9667, 9972, 9655, 9668, 9601, 9715, 9666, 9518]\n",
      "SPORTS\n",
      "[9809, 9608, 9695, 9801, 9701, 9862, 9757, 9931, 9818, 9736]\n"
     ]
    }
   ],
   "source": [
    "# recommandation\n",
    "for topic in topic_list:\n",
    "    if topic != \"IRRELEVANT\":\n",
    "        df_filter = res_df[res_df['predict'] == topic]\n",
    "        \n",
    "        print(topic)\n",
    "        print(df_filter.sort_values(by=\"mean_proba\").head(10).index.tolist())"
   ]
  },
  {
   "cell_type": "code",
   "execution_count": 18,
   "metadata": {},
   "outputs": [
    {
     "name": "stdout",
     "output_type": "stream",
     "text": [
      "ARTS CULTURE ENTERTAINMENT\n",
      "\tARTS CULTURE ENTERTAINMENT\n",
      "\tARTS CULTURE ENTERTAINMENT\n",
      "\tSCIENCE AND TECHNOLOGY\n",
      "\tARTS CULTURE ENTERTAINMENT\n",
      "\tBIOGRAPHIES PERSONALITIES PEOPLE\n",
      "\tBIOGRAPHIES PERSONALITIES PEOPLE\n",
      "\tBIOGRAPHIES PERSONALITIES PEOPLE\n",
      "BIOGRAPHIES PERSONALITIES PEOPLE\n",
      "\tSPORTS\n",
      "\tBIOGRAPHIES PERSONALITIES PEOPLE\n",
      "\tBIOGRAPHIES PERSONALITIES PEOPLE\n",
      "\tBIOGRAPHIES PERSONALITIES PEOPLE\n",
      "\tBIOGRAPHIES PERSONALITIES PEOPLE\n",
      "\tBIOGRAPHIES PERSONALITIES PEOPLE\n",
      "\tSPORTS\n",
      "\tBIOGRAPHIES PERSONALITIES PEOPLE\n",
      "\tIRRELEVANT\n",
      "\tBIOGRAPHIES PERSONALITIES PEOPLE\n",
      "DEFENCE\n",
      "\tDEFENCE\n",
      "\tDEFENCE\n",
      "\tDEFENCE\n",
      "\tIRRELEVANT\n",
      "\tDEFENCE\n",
      "\tDEFENCE\n",
      "\tDEFENCE\n",
      "\tDEFENCE\n",
      "\tDEFENCE\n",
      "\tDEFENCE\n",
      "DOMESTIC MARKETS\n",
      "\tHEALTH\n",
      "\tDOMESTIC MARKETS\n",
      "FOREX MARKETS\n",
      "\tFOREX MARKETS\n",
      "\tMONEY MARKETS\n",
      "\tFOREX MARKETS\n",
      "\tIRRELEVANT\n",
      "\tIRRELEVANT\n",
      "\tMONEY MARKETS\n",
      "\tMONEY MARKETS\n",
      "\tMONEY MARKETS\n",
      "\tFOREX MARKETS\n",
      "\tFOREX MARKETS\n",
      "HEALTH\n",
      "\tHEALTH\n",
      "\tHEALTH\n",
      "\tSCIENCE AND TECHNOLOGY\n",
      "\tHEALTH\n",
      "\tHEALTH\n",
      "\tHEALTH\n",
      "\tHEALTH\n",
      "\tIRRELEVANT\n",
      "\tHEALTH\n",
      "\tHEALTH\n",
      "MONEY MARKETS\n",
      "\tMONEY MARKETS\n",
      "\tMONEY MARKETS\n",
      "\tMONEY MARKETS\n",
      "\tMONEY MARKETS\n",
      "\tMONEY MARKETS\n",
      "\tFOREX MARKETS\n",
      "\tIRRELEVANT\n",
      "\tIRRELEVANT\n",
      "\tMONEY MARKETS\n",
      "\tMONEY MARKETS\n",
      "SCIENCE AND TECHNOLOGY\n",
      "\tHEALTH\n",
      "SHARE LISTINGS\n",
      "\tSHARE LISTINGS\n",
      "\tSHARE LISTINGS\n",
      "\tSHARE LISTINGS\n",
      "\tIRRELEVANT\n",
      "\tFOREX MARKETS\n",
      "\tSHARE LISTINGS\n",
      "\tIRRELEVANT\n",
      "\tIRRELEVANT\n",
      "\tSHARE LISTINGS\n",
      "SPORTS\n",
      "\tSPORTS\n",
      "\tSPORTS\n",
      "\tSPORTS\n",
      "\tSPORTS\n",
      "\tSPORTS\n",
      "\tSPORTS\n",
      "\tSPORTS\n",
      "\tSPORTS\n",
      "\tSPORTS\n",
      "\tSPORTS\n"
     ]
    }
   ],
   "source": [
    "for topic in topic_list:\n",
    "    if topic != \"IRRELEVANT\":\n",
    "        df_filter = res_df[res_df['predict'] == topic]\n",
    "        \n",
    "        print(topic)\n",
    "        print('\\t', end='')\n",
    "        print('\\n\\t'.join(df_filter.sort_values(by=\"mean_proba\").head(10).label.values))"
   ]
  },
  {
   "cell_type": "code",
   "execution_count": 19,
   "metadata": {},
   "outputs": [
    {
     "name": "stdout",
     "output_type": "stream",
     "text": [
      "Classification Report:\n",
      "                                  precision    recall  f1-score   support\n",
      "\n",
      "      ARTS CULTURE ENTERTAINMENT       0.43      1.00      0.60         3\n",
      "BIOGRAPHIES PERSONALITIES PEOPLE       0.70      0.70      0.70        10\n",
      "                         DEFENCE       0.90      1.00      0.95         9\n",
      "                DOMESTIC MARKETS       0.50      1.00      0.67         1\n",
      "                   FOREX MARKETS       0.40      0.67      0.50         6\n",
      "                          HEALTH       0.80      0.80      0.80        10\n",
      "                      IRRELEVANT       0.00      0.00      0.00        10\n",
      "                   MONEY MARKETS       0.70      0.64      0.67        11\n",
      "          SCIENCE AND TECHNOLOGY       0.00      0.00      0.00         2\n",
      "                  SHARE LISTINGS       0.56      1.00      0.71         5\n",
      "                          SPORTS       1.00      0.83      0.91        12\n",
      "\n",
      "                        accuracy                           0.68        79\n",
      "                       macro avg       0.54      0.69      0.59        79\n",
      "                    weighted avg       0.63      0.68      0.64        79\n",
      "\n",
      "[[ 3  0  0  0  0  0  0  0  0  0  0]\n",
      " [ 3  7  0  0  0  0  0  0  0  0  0]\n",
      " [ 0  0  9  0  0  0  0  0  0  0  0]\n",
      " [ 0  0  0  1  0  0  0  0  0  0  0]\n",
      " [ 0  0  0  0  4  0  0  1  0  1  0]\n",
      " [ 0  0  0  1  0  8  0  0  1  0  0]\n",
      " [ 0  1  1  0  2  1  0  2  0  3  0]\n",
      " [ 0  0  0  0  4  0  0  7  0  0  0]\n",
      " [ 1  0  0  0  0  1  0  0  0  0  0]\n",
      " [ 0  0  0  0  0  0  0  0  0  5  0]\n",
      " [ 0  2  0  0  0  0  0  0  0  0 10]]\n"
     ]
    },
    {
     "data": {
      "image/png": "[encoded data removed]",
      "text/plain": [
       "<Figure size 936x504 with 2 Axes>"
      ]
     },
     "metadata": {
      "needs_background": "light"
     },
     "output_type": "display_data"
    },
    {
     "name": "stdout",
     "output_type": "stream",
     "text": [
      "ARTS CULTURE ENTERTAINMENT accuarcy is: \t 1.0\n",
      "BIOGRAPHIES PERSONALITIES PEOPLE accuarcy is: \t 0.7\n",
      "DEFENCE accuarcy is: \t\t\t\t 1.0\n",
      "DOMESTIC MARKETS accuarcy is: \t\t\t 1.0\n",
      "FOREX MARKETS accuarcy is: \t\t\t 0.6666666666666666\n",
      "HEALTH accuarcy is: \t\t\t\t 0.8\n",
      "IRRELEVANT accuarcy is: \t\t\t 0.0\n",
      "MONEY MARKETS accuarcy is: \t\t\t 0.6363636363636364\n",
      "SCIENCE AND TECHNOLOGY accuarcy is: \t\t 0.0\n",
      "SHARE LISTINGS accuarcy is: \t\t\t 1.0\n",
      "SPORTS accuarcy is: \t\t\t\t 0.8333333333333334\n"
     ]
    },
    {
     "data": {
      "image/png": "[encoded data removed]",
      "text/plain": [
       "<Figure size 864x432 with 1 Axes>"
      ]
     },
     "metadata": {
      "needs_background": "light"
     },
     "output_type": "display_data"
    }
   ],
   "source": [
    "article_list = []\n",
    "for topic in topic_list: \n",
    "    if topic != \"IRRELEVANT\":\n",
    "        df_filter = res_df[res_df['predict'] == topic]\n",
    "        \n",
    "        article_list += df_filter.sort_values(by=\"mean_proba\").head(10).index.tolist()\n",
    "report(res_df.loc[article_list, :], 'label', 'predict')"
   ]
  },
  {
   "cell_type": "code",
   "execution_count": null,
   "metadata": {},
   "outputs": [],
   "source": []
  }
 ],
 "metadata": {
  "kernelspec": {
   "display_name": "Python 3.7.4 64-bit",
   "language": "python",
   "name": "python37464bit54f3a551cc7b4ff589218c6160942c64"
  },
  "language_info": {
   "codemirror_mode": {
    "name": "ipython",
    "version": 3
   },
   "file_extension": ".py",
   "mimetype": "text/x-python",
   "name": "python",
   "nbconvert_exporter": "python",
   "pygments_lexer": "ipython3",
   "version": "3.7.4"
  }
 },
 "nbformat": 4,
 "nbformat_minor": 4
}
