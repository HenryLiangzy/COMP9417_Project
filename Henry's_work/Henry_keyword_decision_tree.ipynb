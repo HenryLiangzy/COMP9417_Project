{
 "cells": [
  {
   "cell_type": "markdown",
   "metadata": {},
   "source": [
    "# Henry's work\n",
    "\n",
    "Testin the new training data while not dataset split"
   ]
  },
  {
   "cell_type": "code",
   "execution_count": 3,
   "metadata": {},
   "outputs": [],
   "source": [
    "import numpy as np\n",
    "import pandas as pd\n",
    "import datetime\n",
    "from sklearn.base import TransformerMixin\n",
    "from sklearn import tree\n",
    "from sklearn import preprocessing\n",
    "from sklearn import metrics\n",
    "from sklearn.feature_extraction.text import CountVectorizer, TfidfVectorizer, HashingVectorizer\n",
    "from sklearn.model_selection import train_test_split, GridSearchCV, learning_curve\n",
    "from sklearn.metrics import roc_auc_score, roc_curve, classification_report\n",
    "from sklearn.tree import DecisionTreeClassifier\n",
    "import matplotlib.pyplot as plt\n",
    "from sklearn.externals import joblib"
   ]
  },
  {
   "cell_type": "markdown",
   "metadata": {},
   "source": [
    "Initialize the output format and the output key dictionary\n",
    "\n",
    "\n",
    "In the follow cell, will using the keyword traning set to explore the accurcy improvement"
   ]
  },
  {
   "cell_type": "code",
   "execution_count": 12,
   "metadata": {},
   "outputs": [],
   "source": [
    "np.random.seed(1)\n",
    "\n",
    "# useing different keyword\n",
    "# TRAINING_FILE = \"training.csv\"\n",
    "TRAINING_FILE = \"keyword.csv\"\n",
    "TEST_FILE = \"key_word_test.csv\"\n",
    "time_format = '%Y-%m-%d*%H:%M:%S'\n",
    "\n",
    "x_label = 'key_word_50'\n",
    "# x_label = 'key_word_100'\n",
    "# x_label = 'topic'\n",
    "\n",
    "topic_code = {\n",
    "    'ARTS CULTURE ENTERTAINMENT': 1,\n",
    "    'BIOGRAPHIES PERSONALITIES PEOPLE': 2,\n",
    "    'DEFENCE': 3,\n",
    "    'DOMESTIC MARKETS': 4,\n",
    "    'FOREX MARKETS': 5,\n",
    "    'HEALTH': 6,\n",
    "    'MONEY MARKETS': 7,\n",
    "    'SCIENCE AND TECHNOLOGY': 8,\n",
    "    'SHARE LISTINGS': 9,\n",
    "    'SPORTS': 10,\n",
    "    'IRRELEVANT': 0\n",
    "}"
   ]
  },
  {
   "cell_type": "markdown",
   "metadata": {},
   "source": [
    "### Try to implement with key word"
   ]
  },
  {
   "cell_type": "code",
   "execution_count": 13,
   "metadata": {},
   "outputs": [],
   "source": [
    "def preprocess(df):\n",
    "    df['topic_code'] = df['topic'].apply(lambda x: topic_code[x])\n",
    "\n",
    "    return df[['article_words', 'topic_code', 'key_word_50', 'key_word_100', 'topic']]\n",
    "\n",
    "def bag_of_word(train_set, test_set, model, label_model):\n",
    "    vector = model\n",
    "    train_x = vector.transform(train_set[x_label].values)\n",
    "    train_y = label_model.transform(train_set['topic'])\n",
    "    test_x = vector.transform(test_set[x_label].values)\n",
    "    test_y = label_model.transform(test_set['topic'])\n",
    "\n",
    "    return train_x, train_y, test_x, test_y\n",
    "\n",
    "def convert_word(bag_of_word_model, label_model, data_set):\n",
    "    act_x = bag_of_word_model.transform(data_set[x_label].values)\n",
    "    act_y = label_model.transform(data_set['topic'])\n",
    "\n",
    "    return act_x, act_y"
   ]
  },
  {
   "cell_type": "markdown",
   "metadata": {},
   "source": [
    "## Main program part, pre-processing in model"
   ]
  },
  {
   "cell_type": "code",
   "execution_count": 14,
   "metadata": {},
   "outputs": [
    {
     "output_type": "stream",
     "name": "stdout",
     "text": "Training set size: (9500, 487)\n"
    }
   ],
   "source": [
    "# load data from file\n",
    "df = pd.read_csv(TRAINING_FILE)\n",
    "\n",
    "# pre process the y\n",
    "df = preprocess(df)\n",
    "\n",
    "# split the data\n",
    "#train_set, test_set = train_test_split(df, test_size=0.1)\n",
    "\n",
    "# Using different model to convert word\n",
    "vector_model = TfidfVectorizer().fit(df[x_label])\n",
    "label_model = preprocessing.LabelEncoder().fit(df['topic'])\n",
    "#train_x, train_y, test_x, test_y = bag_of_word(train_set, test_set, CountVectorizer().fit(df['article_words']))\n",
    "#train_x, train_y, test_x, test_y = bag_of_word(train_set, test_set, vector_model, label_model)\n",
    "#train_x, train_y, test_x, test_y = bag_of_word(train_set, test_set, HashingVectorizer())\n",
    "\n",
    "train_x, train_y = convert_word(vector_model, label_model, df)\n",
    "\n",
    "print('Training set size:', train_x.shape)\n",
    "# print('Test set size:', test_x.shape)"
   ]
  },
  {
   "cell_type": "markdown",
   "metadata": {},
   "source": [
    "### using pervious result to first detected the result of model\n",
    "\n",
    "---\n",
    "pervious is when min_samples_leaf equal to 29 can get the best AUC"
   ]
  },
  {
   "cell_type": "code",
   "execution_count": 15,
   "metadata": {},
   "outputs": [
    {
     "output_type": "stream",
     "name": "stdout",
     "text": "The accuracy of Training set is: 0.7643157894736842\nCPU times: user 867 ms, sys: 4.2 ms, total: 871 ms\nWall time: 871 ms\n"
    }
   ],
   "source": [
    "%%time\n",
    "\n",
    "# train\n",
    "test_record = []\n",
    "\n",
    "dtc = DecisionTreeClassifier(min_samples_leaf=29)\n",
    "dtc.fit(train_x, train_y)\n",
    "\n",
    "print(\"The accuracy of Training set is:\", dtc.score(train_x, train_y))\n",
    "#print(\"The accuracy of Test set is:\", dtc.score(test_x, test_y))"
   ]
  },
  {
   "cell_type": "code",
   "execution_count": 16,
   "metadata": {},
   "outputs": [
    {
     "output_type": "stream",
     "name": "stdout",
     "text": "Current auc is: 0.9669437250549634\n"
    }
   ],
   "source": [
    "predict_proba = dtc.predict_proba(train_x)\n",
    "auc = roc_auc_score(train_y, predict_proba, multi_class='ovr')\n",
    "print(\"Current auc is:\", auc)"
   ]
  },
  {
   "cell_type": "markdown",
   "metadata": {},
   "source": [
    "## Try to implement in a range\n",
    "\n",
    "in the range between 21-50"
   ]
  },
  {
   "cell_type": "code",
   "execution_count": 17,
   "metadata": {},
   "outputs": [
    {
     "output_type": "stream",
     "name": "stdout",
     "text": "fiting with leaf value = 1 ......Done!\nfiting with leaf value = 2 ......Done!\nfiting with leaf value = 3 ......Done!\nfiting with leaf value = 4 ......Done!\nfiting with leaf value = 5 ......Done!\nfiting with leaf value = 6 ......Done!\nfiting with leaf value = 7 ......Done!\nfiting with leaf value = 8 ......Done!\nfiting with leaf value = 9 ......Done!\nfiting with leaf value = 10 ......Done!\nfiting with leaf value = 11 ......Done!\nfiting with leaf value = 12 ......Done!\nfiting with leaf value = 13 ......Done!\nfiting with leaf value = 14 ......Done!\nfiting with leaf value = 15 ......Done!\nfiting with leaf value = 16 ......Done!\nfiting with leaf value = 17 ......Done!\nfiting with leaf value = 18 ......Done!\nfiting with leaf value = 19 ......Done!\nfiting with leaf value = 20 ......Done!\nfiting with leaf value = 21 ......Done!\nfiting with leaf value = 22 ......Done!\nfiting with leaf value = 23 ......Done!\nfiting with leaf value = 24 ......Done!\nfiting with leaf value = 25 ......Done!\nfiting with leaf value = 26 ......Done!\nfiting with leaf value = 27 ......Done!\nfiting with leaf value = 28 ......Done!\nfiting with leaf value = 29 ......Done!\nfiting with leaf value = 30 ......Done!\nfiting with leaf value = 31 ......Done!\nfiting with leaf value = 32 ......Done!\nfiting with leaf value = 33 ......Done!\nfiting with leaf value = 34 ......Done!\nfiting with leaf value = 35 ......Done!\nfiting with leaf value = 36 ......Done!\nfiting with leaf value = 37 ......Done!\nfiting with leaf value = 38 ......Done!\nfiting with leaf value = 39 ......Done!\nfiting with leaf value = 40 ......Done!\nfiting with leaf value = 41 ......Done!\nfiting with leaf value = 42 ......Done!\nfiting with leaf value = 43 ......Done!\nfiting with leaf value = 44 ......Done!\nfiting with leaf value = 45 ......Done!\nfiting with leaf value = 46 ......Done!\nfiting with leaf value = 47 ......Done!\nfiting with leaf value = 48 ......Done!\nfiting with leaf value = 49 ......Done!\nThe optimal number of min_samples_leaf by TEST set is: 1\nWith max AUC by TEST is: 0.9998861951779265\nThe accuracy of BEST model in Training set is: 0.9857894736842105\n"
    },
    {
     "output_type": "display_data",
     "data": {
      "text/plain": "<Figure size 432x288 with 1 Axes>",
      "image/svg+xml": "<?xml version=\"1.0\" encoding=\"utf-8\" standalone=\"no\"?>\n<!DOCTYPE svg PUBLIC \"-//W3C//DTD SVG 1.1//EN\"\n  \"http://www.w3.org/Graphics/SVG/1.1/DTD/svg11.dtd\">\n<!-- Created with matplotlib (https://matplotlib.org/) -->\n<svg height=\"281.407375pt\" version=\"1.1\" viewBox=\"0 0 394.079375 281.407375\" width=\"394.079375pt\" xmlns=\"http://www.w3.org/2000/svg\" xmlns:xlink=\"http://www.w3.org/1999/xlink\">\n <defs>\n  <style type=\"text/css\">\n*{stroke-linecap:butt;stroke-linejoin:round;}\n  </style>\n </defs>\n <g id=\"figure_1\">\n  <g id=\"patch_1\">\n   <path d=\"M -0 281.407375 \nL 394.079375 281.407375 \nL 394.079375 0 \nL -0 0 \nz\n\" style=\"fill:#ffffff;\"/>\n  </g>\n  <g id=\"axes_1\">\n   <g id=\"patch_2\">\n    <path d=\"M 52.079375 241.58175 \nL 386.879375 241.58175 \nL 386.879375 24.14175 \nL 52.079375 24.14175 \nz\n\" style=\"fill:#e5e5e5;\"/>\n   </g>\n   <g id=\"matplotlib.axis_1\">\n    <g id=\"xtick_1\">\n     <g id=\"line2d_1\">\n      <path clip-path=\"url(#p05438b253a)\" d=\"M 60.956648 241.58175 \nL 60.956648 24.14175 \n\" style=\"fill:none;stroke:#ffffff;stroke-linecap:square;stroke-width:0.8;\"/>\n     </g>\n     <g id=\"line2d_2\">\n      <defs>\n       <path d=\"M 0 0 \nL 0 3.5 \n\" id=\"m83e9454fa5\" style=\"stroke:#555555;stroke-width:0.8;\"/>\n      </defs>\n      <g>\n       <use style=\"fill:#555555;stroke:#555555;stroke-width:0.8;\" x=\"60.956648\" xlink:href=\"#m83e9454fa5\" y=\"241.58175\"/>\n      </g>\n     </g>\n     <g id=\"text_1\">\n      <!-- 0 -->\n      <defs>\n       <path d=\"M 31.78125 66.40625 \nQ 24.171875 66.40625 20.328125 58.90625 \nQ 16.5 51.421875 16.5 36.375 \nQ 16.5 21.390625 20.328125 13.890625 \nQ 24.171875 6.390625 31.78125 6.390625 \nQ 39.453125 6.390625 43.28125 13.890625 \nQ 47.125 21.390625 47.125 36.375 \nQ 47.125 51.421875 43.28125 58.90625 \nQ 39.453125 66.40625 31.78125 66.40625 \nz\nM 31.78125 74.21875 \nQ 44.046875 74.21875 50.515625 64.515625 \nQ 56.984375 54.828125 56.984375 36.375 \nQ 56.984375 17.96875 50.515625 8.265625 \nQ 44.046875 -1.421875 31.78125 -1.421875 \nQ 19.53125 -1.421875 13.0625 8.265625 \nQ 6.59375 17.96875 6.59375 36.375 \nQ 6.59375 54.828125 13.0625 64.515625 \nQ 19.53125 74.21875 31.78125 74.21875 \nz\n\" id=\"DejaVuSans-48\"/>\n      </defs>\n      <g style=\"fill:#555555;\" transform=\"translate(57.775398 256.180187)scale(0.1 -0.1)\">\n       <use xlink:href=\"#DejaVuSans-48\"/>\n      </g>\n     </g>\n    </g>\n    <g id=\"xtick_2\">\n     <g id=\"line2d_3\">\n      <path clip-path=\"url(#p05438b253a)\" d=\"M 124.365739 241.58175 \nL 124.365739 24.14175 \n\" style=\"fill:none;stroke:#ffffff;stroke-linecap:square;stroke-width:0.8;\"/>\n     </g>\n     <g id=\"line2d_4\">\n      <g>\n       <use style=\"fill:#555555;stroke:#555555;stroke-width:0.8;\" x=\"124.365739\" xlink:href=\"#m83e9454fa5\" y=\"241.58175\"/>\n      </g>\n     </g>\n     <g id=\"text_2\">\n      <!-- 10 -->\n      <defs>\n       <path d=\"M 12.40625 8.296875 \nL 28.515625 8.296875 \nL 28.515625 63.921875 \nL 10.984375 60.40625 \nL 10.984375 69.390625 \nL 28.421875 72.90625 \nL 38.28125 72.90625 \nL 38.28125 8.296875 \nL 54.390625 8.296875 \nL 54.390625 0 \nL 12.40625 0 \nz\n\" id=\"DejaVuSans-49\"/>\n      </defs>\n      <g style=\"fill:#555555;\" transform=\"translate(118.003239 256.180187)scale(0.1 -0.1)\">\n       <use xlink:href=\"#DejaVuSans-49\"/>\n       <use x=\"63.623047\" xlink:href=\"#DejaVuSans-48\"/>\n      </g>\n     </g>\n    </g>\n    <g id=\"xtick_3\">\n     <g id=\"line2d_5\">\n      <path clip-path=\"url(#p05438b253a)\" d=\"M 187.77483 241.58175 \nL 187.77483 24.14175 \n\" style=\"fill:none;stroke:#ffffff;stroke-linecap:square;stroke-width:0.8;\"/>\n     </g>\n     <g id=\"line2d_6\">\n      <g>\n       <use style=\"fill:#555555;stroke:#555555;stroke-width:0.8;\" x=\"187.77483\" xlink:href=\"#m83e9454fa5\" y=\"241.58175\"/>\n      </g>\n     </g>\n     <g id=\"text_3\">\n      <!-- 20 -->\n      <defs>\n       <path d=\"M 19.1875 8.296875 \nL 53.609375 8.296875 \nL 53.609375 0 \nL 7.328125 0 \nL 7.328125 8.296875 \nQ 12.9375 14.109375 22.625 23.890625 \nQ 32.328125 33.6875 34.8125 36.53125 \nQ 39.546875 41.84375 41.421875 45.53125 \nQ 43.3125 49.21875 43.3125 52.78125 \nQ 43.3125 58.59375 39.234375 62.25 \nQ 35.15625 65.921875 28.609375 65.921875 \nQ 23.96875 65.921875 18.8125 64.3125 \nQ 13.671875 62.703125 7.8125 59.421875 \nL 7.8125 69.390625 \nQ 13.765625 71.78125 18.9375 73 \nQ 24.125 74.21875 28.421875 74.21875 \nQ 39.75 74.21875 46.484375 68.546875 \nQ 53.21875 62.890625 53.21875 53.421875 \nQ 53.21875 48.921875 51.53125 44.890625 \nQ 49.859375 40.875 45.40625 35.40625 \nQ 44.1875 33.984375 37.640625 27.21875 \nQ 31.109375 20.453125 19.1875 8.296875 \nz\n\" id=\"DejaVuSans-50\"/>\n      </defs>\n      <g style=\"fill:#555555;\" transform=\"translate(181.41233 256.180187)scale(0.1 -0.1)\">\n       <use xlink:href=\"#DejaVuSans-50\"/>\n       <use x=\"63.623047\" xlink:href=\"#DejaVuSans-48\"/>\n      </g>\n     </g>\n    </g>\n    <g id=\"xtick_4\">\n     <g id=\"line2d_7\">\n      <path clip-path=\"url(#p05438b253a)\" d=\"M 251.18392 241.58175 \nL 251.18392 24.14175 \n\" style=\"fill:none;stroke:#ffffff;stroke-linecap:square;stroke-width:0.8;\"/>\n     </g>\n     <g id=\"line2d_8\">\n      <g>\n       <use style=\"fill:#555555;stroke:#555555;stroke-width:0.8;\" x=\"251.18392\" xlink:href=\"#m83e9454fa5\" y=\"241.58175\"/>\n      </g>\n     </g>\n     <g id=\"text_4\">\n      <!-- 30 -->\n      <defs>\n       <path d=\"M 40.578125 39.3125 \nQ 47.65625 37.796875 51.625 33 \nQ 55.609375 28.21875 55.609375 21.1875 \nQ 55.609375 10.40625 48.1875 4.484375 \nQ 40.765625 -1.421875 27.09375 -1.421875 \nQ 22.515625 -1.421875 17.65625 -0.515625 \nQ 12.796875 0.390625 7.625 2.203125 \nL 7.625 11.71875 \nQ 11.71875 9.328125 16.59375 8.109375 \nQ 21.484375 6.890625 26.8125 6.890625 \nQ 36.078125 6.890625 40.9375 10.546875 \nQ 45.796875 14.203125 45.796875 21.1875 \nQ 45.796875 27.640625 41.28125 31.265625 \nQ 36.765625 34.90625 28.71875 34.90625 \nL 20.21875 34.90625 \nL 20.21875 43.015625 \nL 29.109375 43.015625 \nQ 36.375 43.015625 40.234375 45.921875 \nQ 44.09375 48.828125 44.09375 54.296875 \nQ 44.09375 59.90625 40.109375 62.90625 \nQ 36.140625 65.921875 28.71875 65.921875 \nQ 24.65625 65.921875 20.015625 65.03125 \nQ 15.375 64.15625 9.8125 62.3125 \nL 9.8125 71.09375 \nQ 15.4375 72.65625 20.34375 73.4375 \nQ 25.25 74.21875 29.59375 74.21875 \nQ 40.828125 74.21875 47.359375 69.109375 \nQ 53.90625 64.015625 53.90625 55.328125 \nQ 53.90625 49.265625 50.4375 45.09375 \nQ 46.96875 40.921875 40.578125 39.3125 \nz\n\" id=\"DejaVuSans-51\"/>\n      </defs>\n      <g style=\"fill:#555555;\" transform=\"translate(244.82142 256.180187)scale(0.1 -0.1)\">\n       <use xlink:href=\"#DejaVuSans-51\"/>\n       <use x=\"63.623047\" xlink:href=\"#DejaVuSans-48\"/>\n      </g>\n     </g>\n    </g>\n    <g id=\"xtick_5\">\n     <g id=\"line2d_9\">\n      <path clip-path=\"url(#p05438b253a)\" d=\"M 314.593011 241.58175 \nL 314.593011 24.14175 \n\" style=\"fill:none;stroke:#ffffff;stroke-linecap:square;stroke-width:0.8;\"/>\n     </g>\n     <g id=\"line2d_10\">\n      <g>\n       <use style=\"fill:#555555;stroke:#555555;stroke-width:0.8;\" x=\"314.593011\" xlink:href=\"#m83e9454fa5\" y=\"241.58175\"/>\n      </g>\n     </g>\n     <g id=\"text_5\">\n      <!-- 40 -->\n      <defs>\n       <path d=\"M 37.796875 64.3125 \nL 12.890625 25.390625 \nL 37.796875 25.390625 \nz\nM 35.203125 72.90625 \nL 47.609375 72.90625 \nL 47.609375 25.390625 \nL 58.015625 25.390625 \nL 58.015625 17.1875 \nL 47.609375 17.1875 \nL 47.609375 0 \nL 37.796875 0 \nL 37.796875 17.1875 \nL 4.890625 17.1875 \nL 4.890625 26.703125 \nz\n\" id=\"DejaVuSans-52\"/>\n      </defs>\n      <g style=\"fill:#555555;\" transform=\"translate(308.230511 256.180187)scale(0.1 -0.1)\">\n       <use xlink:href=\"#DejaVuSans-52\"/>\n       <use x=\"63.623047\" xlink:href=\"#DejaVuSans-48\"/>\n      </g>\n     </g>\n    </g>\n    <g id=\"xtick_6\">\n     <g id=\"line2d_11\">\n      <path clip-path=\"url(#p05438b253a)\" d=\"M 378.002102 241.58175 \nL 378.002102 24.14175 \n\" style=\"fill:none;stroke:#ffffff;stroke-linecap:square;stroke-width:0.8;\"/>\n     </g>\n     <g id=\"line2d_12\">\n      <g>\n       <use style=\"fill:#555555;stroke:#555555;stroke-width:0.8;\" x=\"378.002102\" xlink:href=\"#m83e9454fa5\" y=\"241.58175\"/>\n      </g>\n     </g>\n     <g id=\"text_6\">\n      <!-- 50 -->\n      <defs>\n       <path d=\"M 10.796875 72.90625 \nL 49.515625 72.90625 \nL 49.515625 64.59375 \nL 19.828125 64.59375 \nL 19.828125 46.734375 \nQ 21.96875 47.46875 24.109375 47.828125 \nQ 26.265625 48.1875 28.421875 48.1875 \nQ 40.625 48.1875 47.75 41.5 \nQ 54.890625 34.8125 54.890625 23.390625 \nQ 54.890625 11.625 47.5625 5.09375 \nQ 40.234375 -1.421875 26.90625 -1.421875 \nQ 22.3125 -1.421875 17.546875 -0.640625 \nQ 12.796875 0.140625 7.71875 1.703125 \nL 7.71875 11.625 \nQ 12.109375 9.234375 16.796875 8.0625 \nQ 21.484375 6.890625 26.703125 6.890625 \nQ 35.15625 6.890625 40.078125 11.328125 \nQ 45.015625 15.765625 45.015625 23.390625 \nQ 45.015625 31 40.078125 35.4375 \nQ 35.15625 39.890625 26.703125 39.890625 \nQ 22.75 39.890625 18.8125 39.015625 \nQ 14.890625 38.140625 10.796875 36.28125 \nz\n\" id=\"DejaVuSans-53\"/>\n      </defs>\n      <g style=\"fill:#555555;\" transform=\"translate(371.639602 256.180187)scale(0.1 -0.1)\">\n       <use xlink:href=\"#DejaVuSans-53\"/>\n       <use x=\"63.623047\" xlink:href=\"#DejaVuSans-48\"/>\n      </g>\n     </g>\n    </g>\n    <g id=\"text_7\">\n     <!-- Min_samples_leaf_value -->\n     <defs>\n      <path d=\"M 9.8125 72.90625 \nL 24.515625 72.90625 \nL 43.109375 23.296875 \nL 61.8125 72.90625 \nL 76.515625 72.90625 \nL 76.515625 0 \nL 66.890625 0 \nL 66.890625 64.015625 \nL 48.09375 14.015625 \nL 38.1875 14.015625 \nL 19.390625 64.015625 \nL 19.390625 0 \nL 9.8125 0 \nz\n\" id=\"DejaVuSans-77\"/>\n      <path d=\"M 9.421875 54.6875 \nL 18.40625 54.6875 \nL 18.40625 0 \nL 9.421875 0 \nz\nM 9.421875 75.984375 \nL 18.40625 75.984375 \nL 18.40625 64.59375 \nL 9.421875 64.59375 \nz\n\" id=\"DejaVuSans-105\"/>\n      <path d=\"M 54.890625 33.015625 \nL 54.890625 0 \nL 45.90625 0 \nL 45.90625 32.71875 \nQ 45.90625 40.484375 42.875 44.328125 \nQ 39.84375 48.1875 33.796875 48.1875 \nQ 26.515625 48.1875 22.3125 43.546875 \nQ 18.109375 38.921875 18.109375 30.90625 \nL 18.109375 0 \nL 9.078125 0 \nL 9.078125 54.6875 \nL 18.109375 54.6875 \nL 18.109375 46.1875 \nQ 21.34375 51.125 25.703125 53.5625 \nQ 30.078125 56 35.796875 56 \nQ 45.21875 56 50.046875 50.171875 \nQ 54.890625 44.34375 54.890625 33.015625 \nz\n\" id=\"DejaVuSans-110\"/>\n      <path d=\"M 50.984375 -16.609375 \nL 50.984375 -23.578125 \nL -0.984375 -23.578125 \nL -0.984375 -16.609375 \nz\n\" id=\"DejaVuSans-95\"/>\n      <path d=\"M 44.28125 53.078125 \nL 44.28125 44.578125 \nQ 40.484375 46.53125 36.375 47.5 \nQ 32.28125 48.484375 27.875 48.484375 \nQ 21.1875 48.484375 17.84375 46.4375 \nQ 14.5 44.390625 14.5 40.28125 \nQ 14.5 37.15625 16.890625 35.375 \nQ 19.28125 33.59375 26.515625 31.984375 \nL 29.59375 31.296875 \nQ 39.15625 29.25 43.1875 25.515625 \nQ 47.21875 21.78125 47.21875 15.09375 \nQ 47.21875 7.46875 41.1875 3.015625 \nQ 35.15625 -1.421875 24.609375 -1.421875 \nQ 20.21875 -1.421875 15.453125 -0.5625 \nQ 10.6875 0.296875 5.421875 2 \nL 5.421875 11.28125 \nQ 10.40625 8.6875 15.234375 7.390625 \nQ 20.0625 6.109375 24.8125 6.109375 \nQ 31.15625 6.109375 34.5625 8.28125 \nQ 37.984375 10.453125 37.984375 14.40625 \nQ 37.984375 18.0625 35.515625 20.015625 \nQ 33.0625 21.96875 24.703125 23.78125 \nL 21.578125 24.515625 \nQ 13.234375 26.265625 9.515625 29.90625 \nQ 5.8125 33.546875 5.8125 39.890625 \nQ 5.8125 47.609375 11.28125 51.796875 \nQ 16.75 56 26.8125 56 \nQ 31.78125 56 36.171875 55.265625 \nQ 40.578125 54.546875 44.28125 53.078125 \nz\n\" id=\"DejaVuSans-115\"/>\n      <path d=\"M 34.28125 27.484375 \nQ 23.390625 27.484375 19.1875 25 \nQ 14.984375 22.515625 14.984375 16.5 \nQ 14.984375 11.71875 18.140625 8.90625 \nQ 21.296875 6.109375 26.703125 6.109375 \nQ 34.1875 6.109375 38.703125 11.40625 \nQ 43.21875 16.703125 43.21875 25.484375 \nL 43.21875 27.484375 \nz\nM 52.203125 31.203125 \nL 52.203125 0 \nL 43.21875 0 \nL 43.21875 8.296875 \nQ 40.140625 3.328125 35.546875 0.953125 \nQ 30.953125 -1.421875 24.3125 -1.421875 \nQ 15.921875 -1.421875 10.953125 3.296875 \nQ 6 8.015625 6 15.921875 \nQ 6 25.140625 12.171875 29.828125 \nQ 18.359375 34.515625 30.609375 34.515625 \nL 43.21875 34.515625 \nL 43.21875 35.40625 \nQ 43.21875 41.609375 39.140625 45 \nQ 35.0625 48.390625 27.6875 48.390625 \nQ 23 48.390625 18.546875 47.265625 \nQ 14.109375 46.140625 10.015625 43.890625 \nL 10.015625 52.203125 \nQ 14.9375 54.109375 19.578125 55.046875 \nQ 24.21875 56 28.609375 56 \nQ 40.484375 56 46.34375 49.84375 \nQ 52.203125 43.703125 52.203125 31.203125 \nz\n\" id=\"DejaVuSans-97\"/>\n      <path d=\"M 52 44.1875 \nQ 55.375 50.25 60.0625 53.125 \nQ 64.75 56 71.09375 56 \nQ 79.640625 56 84.28125 50.015625 \nQ 88.921875 44.046875 88.921875 33.015625 \nL 88.921875 0 \nL 79.890625 0 \nL 79.890625 32.71875 \nQ 79.890625 40.578125 77.09375 44.375 \nQ 74.3125 48.1875 68.609375 48.1875 \nQ 61.625 48.1875 57.5625 43.546875 \nQ 53.515625 38.921875 53.515625 30.90625 \nL 53.515625 0 \nL 44.484375 0 \nL 44.484375 32.71875 \nQ 44.484375 40.625 41.703125 44.40625 \nQ 38.921875 48.1875 33.109375 48.1875 \nQ 26.21875 48.1875 22.15625 43.53125 \nQ 18.109375 38.875 18.109375 30.90625 \nL 18.109375 0 \nL 9.078125 0 \nL 9.078125 54.6875 \nL 18.109375 54.6875 \nL 18.109375 46.1875 \nQ 21.1875 51.21875 25.484375 53.609375 \nQ 29.78125 56 35.6875 56 \nQ 41.65625 56 45.828125 52.96875 \nQ 50 49.953125 52 44.1875 \nz\n\" id=\"DejaVuSans-109\"/>\n      <path d=\"M 18.109375 8.203125 \nL 18.109375 -20.796875 \nL 9.078125 -20.796875 \nL 9.078125 54.6875 \nL 18.109375 54.6875 \nL 18.109375 46.390625 \nQ 20.953125 51.265625 25.265625 53.625 \nQ 29.59375 56 35.59375 56 \nQ 45.5625 56 51.78125 48.09375 \nQ 58.015625 40.1875 58.015625 27.296875 \nQ 58.015625 14.40625 51.78125 6.484375 \nQ 45.5625 -1.421875 35.59375 -1.421875 \nQ 29.59375 -1.421875 25.265625 0.953125 \nQ 20.953125 3.328125 18.109375 8.203125 \nz\nM 48.6875 27.296875 \nQ 48.6875 37.203125 44.609375 42.84375 \nQ 40.53125 48.484375 33.40625 48.484375 \nQ 26.265625 48.484375 22.1875 42.84375 \nQ 18.109375 37.203125 18.109375 27.296875 \nQ 18.109375 17.390625 22.1875 11.75 \nQ 26.265625 6.109375 33.40625 6.109375 \nQ 40.53125 6.109375 44.609375 11.75 \nQ 48.6875 17.390625 48.6875 27.296875 \nz\n\" id=\"DejaVuSans-112\"/>\n      <path d=\"M 9.421875 75.984375 \nL 18.40625 75.984375 \nL 18.40625 0 \nL 9.421875 0 \nz\n\" id=\"DejaVuSans-108\"/>\n      <path d=\"M 56.203125 29.59375 \nL 56.203125 25.203125 \nL 14.890625 25.203125 \nQ 15.484375 15.921875 20.484375 11.0625 \nQ 25.484375 6.203125 34.421875 6.203125 \nQ 39.59375 6.203125 44.453125 7.46875 \nQ 49.3125 8.734375 54.109375 11.28125 \nL 54.109375 2.78125 \nQ 49.265625 0.734375 44.1875 -0.34375 \nQ 39.109375 -1.421875 33.890625 -1.421875 \nQ 20.796875 -1.421875 13.15625 6.1875 \nQ 5.515625 13.8125 5.515625 26.8125 \nQ 5.515625 40.234375 12.765625 48.109375 \nQ 20.015625 56 32.328125 56 \nQ 43.359375 56 49.78125 48.890625 \nQ 56.203125 41.796875 56.203125 29.59375 \nz\nM 47.21875 32.234375 \nQ 47.125 39.59375 43.09375 43.984375 \nQ 39.0625 48.390625 32.421875 48.390625 \nQ 24.90625 48.390625 20.390625 44.140625 \nQ 15.875 39.890625 15.1875 32.171875 \nz\n\" id=\"DejaVuSans-101\"/>\n      <path d=\"M 37.109375 75.984375 \nL 37.109375 68.5 \nL 28.515625 68.5 \nQ 23.6875 68.5 21.796875 66.546875 \nQ 19.921875 64.59375 19.921875 59.515625 \nL 19.921875 54.6875 \nL 34.71875 54.6875 \nL 34.71875 47.703125 \nL 19.921875 47.703125 \nL 19.921875 0 \nL 10.890625 0 \nL 10.890625 47.703125 \nL 2.296875 47.703125 \nL 2.296875 54.6875 \nL 10.890625 54.6875 \nL 10.890625 58.5 \nQ 10.890625 67.625 15.140625 71.796875 \nQ 19.390625 75.984375 28.609375 75.984375 \nz\n\" id=\"DejaVuSans-102\"/>\n      <path d=\"M 2.984375 54.6875 \nL 12.5 54.6875 \nL 29.59375 8.796875 \nL 46.6875 54.6875 \nL 56.203125 54.6875 \nL 35.6875 0 \nL 23.484375 0 \nz\n\" id=\"DejaVuSans-118\"/>\n      <path d=\"M 8.5 21.578125 \nL 8.5 54.6875 \nL 17.484375 54.6875 \nL 17.484375 21.921875 \nQ 17.484375 14.15625 20.5 10.265625 \nQ 23.53125 6.390625 29.59375 6.390625 \nQ 36.859375 6.390625 41.078125 11.03125 \nQ 45.3125 15.671875 45.3125 23.6875 \nL 45.3125 54.6875 \nL 54.296875 54.6875 \nL 54.296875 0 \nL 45.3125 0 \nL 45.3125 8.40625 \nQ 42.046875 3.421875 37.71875 1 \nQ 33.40625 -1.421875 27.6875 -1.421875 \nQ 18.265625 -1.421875 13.375 4.4375 \nQ 8.5 10.296875 8.5 21.578125 \nz\nM 31.109375 56 \nz\n\" id=\"DejaVuSans-117\"/>\n     </defs>\n     <g style=\"fill:#555555;\" transform=\"translate(147.355625 271.378)scale(0.12 -0.12)\">\n      <use xlink:href=\"#DejaVuSans-77\"/>\n      <use x=\"86.279297\" xlink:href=\"#DejaVuSans-105\"/>\n      <use x=\"114.0625\" xlink:href=\"#DejaVuSans-110\"/>\n      <use x=\"177.441406\" xlink:href=\"#DejaVuSans-95\"/>\n      <use x=\"227.441406\" xlink:href=\"#DejaVuSans-115\"/>\n      <use x=\"279.541016\" xlink:href=\"#DejaVuSans-97\"/>\n      <use x=\"340.820312\" xlink:href=\"#DejaVuSans-109\"/>\n      <use x=\"438.232422\" xlink:href=\"#DejaVuSans-112\"/>\n      <use x=\"501.708984\" xlink:href=\"#DejaVuSans-108\"/>\n      <use x=\"529.492188\" xlink:href=\"#DejaVuSans-101\"/>\n      <use x=\"591.015625\" xlink:href=\"#DejaVuSans-115\"/>\n      <use x=\"643.115234\" xlink:href=\"#DejaVuSans-95\"/>\n      <use x=\"693.115234\" xlink:href=\"#DejaVuSans-108\"/>\n      <use x=\"720.898438\" xlink:href=\"#DejaVuSans-101\"/>\n      <use x=\"782.421875\" xlink:href=\"#DejaVuSans-97\"/>\n      <use x=\"843.701172\" xlink:href=\"#DejaVuSans-102\"/>\n      <use x=\"878.90625\" xlink:href=\"#DejaVuSans-95\"/>\n      <use x=\"928.90625\" xlink:href=\"#DejaVuSans-118\"/>\n      <use x=\"988.085938\" xlink:href=\"#DejaVuSans-97\"/>\n      <use x=\"1049.365234\" xlink:href=\"#DejaVuSans-108\"/>\n      <use x=\"1077.148438\" xlink:href=\"#DejaVuSans-117\"/>\n      <use x=\"1140.527344\" xlink:href=\"#DejaVuSans-101\"/>\n     </g>\n    </g>\n   </g>\n   <g id=\"matplotlib.axis_2\">\n    <g id=\"ytick_1\">\n     <g id=\"line2d_13\">\n      <path clip-path=\"url(#p05438b253a)\" d=\"M 52.079375 203.161694 \nL 386.879375 203.161694 \n\" style=\"fill:none;stroke:#ffffff;stroke-linecap:square;stroke-width:0.8;\"/>\n     </g>\n     <g id=\"line2d_14\">\n      <defs>\n       <path d=\"M 0 0 \nL -3.5 0 \n\" id=\"m7362ead81b\" style=\"stroke:#555555;stroke-width:0.8;\"/>\n      </defs>\n      <g>\n       <use style=\"fill:#555555;stroke:#555555;stroke-width:0.8;\" x=\"52.079375\" xlink:href=\"#m7362ead81b\" y=\"203.161694\"/>\n      </g>\n     </g>\n     <g id=\"text_8\">\n      <!-- 0.96 -->\n      <defs>\n       <path d=\"M 10.6875 12.40625 \nL 21 12.40625 \nL 21 0 \nL 10.6875 0 \nz\n\" id=\"DejaVuSans-46\"/>\n       <path d=\"M 10.984375 1.515625 \nL 10.984375 10.5 \nQ 14.703125 8.734375 18.5 7.8125 \nQ 22.3125 6.890625 25.984375 6.890625 \nQ 35.75 6.890625 40.890625 13.453125 \nQ 46.046875 20.015625 46.78125 33.40625 \nQ 43.953125 29.203125 39.59375 26.953125 \nQ 35.25 24.703125 29.984375 24.703125 \nQ 19.046875 24.703125 12.671875 31.3125 \nQ 6.296875 37.9375 6.296875 49.421875 \nQ 6.296875 60.640625 12.9375 67.421875 \nQ 19.578125 74.21875 30.609375 74.21875 \nQ 43.265625 74.21875 49.921875 64.515625 \nQ 56.59375 54.828125 56.59375 36.375 \nQ 56.59375 19.140625 48.40625 8.859375 \nQ 40.234375 -1.421875 26.421875 -1.421875 \nQ 22.703125 -1.421875 18.890625 -0.6875 \nQ 15.09375 0.046875 10.984375 1.515625 \nz\nM 30.609375 32.421875 \nQ 37.25 32.421875 41.125 36.953125 \nQ 45.015625 41.5 45.015625 49.421875 \nQ 45.015625 57.28125 41.125 61.84375 \nQ 37.25 66.40625 30.609375 66.40625 \nQ 23.96875 66.40625 20.09375 61.84375 \nQ 16.21875 57.28125 16.21875 49.421875 \nQ 16.21875 41.5 20.09375 36.953125 \nQ 23.96875 32.421875 30.609375 32.421875 \nz\n\" id=\"DejaVuSans-57\"/>\n       <path d=\"M 33.015625 40.375 \nQ 26.375 40.375 22.484375 35.828125 \nQ 18.609375 31.296875 18.609375 23.390625 \nQ 18.609375 15.53125 22.484375 10.953125 \nQ 26.375 6.390625 33.015625 6.390625 \nQ 39.65625 6.390625 43.53125 10.953125 \nQ 47.40625 15.53125 47.40625 23.390625 \nQ 47.40625 31.296875 43.53125 35.828125 \nQ 39.65625 40.375 33.015625 40.375 \nz\nM 52.59375 71.296875 \nL 52.59375 62.3125 \nQ 48.875 64.0625 45.09375 64.984375 \nQ 41.3125 65.921875 37.59375 65.921875 \nQ 27.828125 65.921875 22.671875 59.328125 \nQ 17.53125 52.734375 16.796875 39.40625 \nQ 19.671875 43.65625 24.015625 45.921875 \nQ 28.375 48.1875 33.59375 48.1875 \nQ 44.578125 48.1875 50.953125 41.515625 \nQ 57.328125 34.859375 57.328125 23.390625 \nQ 57.328125 12.15625 50.6875 5.359375 \nQ 44.046875 -1.421875 33.015625 -1.421875 \nQ 20.359375 -1.421875 13.671875 8.265625 \nQ 6.984375 17.96875 6.984375 36.375 \nQ 6.984375 53.65625 15.1875 63.9375 \nQ 23.390625 74.21875 37.203125 74.21875 \nQ 40.921875 74.21875 44.703125 73.484375 \nQ 48.484375 72.75 52.59375 71.296875 \nz\n\" id=\"DejaVuSans-54\"/>\n      </defs>\n      <g style=\"fill:#555555;\" transform=\"translate(22.81375 206.960913)scale(0.1 -0.1)\">\n       <use xlink:href=\"#DejaVuSans-48\"/>\n       <use x=\"63.623047\" xlink:href=\"#DejaVuSans-46\"/>\n       <use x=\"95.410156\" xlink:href=\"#DejaVuSans-57\"/>\n       <use x=\"159.033203\" xlink:href=\"#DejaVuSans-54\"/>\n      </g>\n     </g>\n    </g>\n    <g id=\"ytick_2\">\n     <g id=\"line2d_15\">\n      <path clip-path=\"url(#p05438b253a)\" d=\"M 52.079375 160.75697 \nL 386.879375 160.75697 \n\" style=\"fill:none;stroke:#ffffff;stroke-linecap:square;stroke-width:0.8;\"/>\n     </g>\n     <g id=\"line2d_16\">\n      <g>\n       <use style=\"fill:#555555;stroke:#555555;stroke-width:0.8;\" x=\"52.079375\" xlink:href=\"#m7362ead81b\" y=\"160.75697\"/>\n      </g>\n     </g>\n     <g id=\"text_9\">\n      <!-- 0.97 -->\n      <defs>\n       <path d=\"M 8.203125 72.90625 \nL 55.078125 72.90625 \nL 55.078125 68.703125 \nL 28.609375 0 \nL 18.3125 0 \nL 43.21875 64.59375 \nL 8.203125 64.59375 \nz\n\" id=\"DejaVuSans-55\"/>\n      </defs>\n      <g style=\"fill:#555555;\" transform=\"translate(22.81375 164.556189)scale(0.1 -0.1)\">\n       <use xlink:href=\"#DejaVuSans-48\"/>\n       <use x=\"63.623047\" xlink:href=\"#DejaVuSans-46\"/>\n       <use x=\"95.410156\" xlink:href=\"#DejaVuSans-57\"/>\n       <use x=\"159.033203\" xlink:href=\"#DejaVuSans-55\"/>\n      </g>\n     </g>\n    </g>\n    <g id=\"ytick_3\">\n     <g id=\"line2d_17\">\n      <path clip-path=\"url(#p05438b253a)\" d=\"M 52.079375 118.352247 \nL 386.879375 118.352247 \n\" style=\"fill:none;stroke:#ffffff;stroke-linecap:square;stroke-width:0.8;\"/>\n     </g>\n     <g id=\"line2d_18\">\n      <g>\n       <use style=\"fill:#555555;stroke:#555555;stroke-width:0.8;\" x=\"52.079375\" xlink:href=\"#m7362ead81b\" y=\"118.352247\"/>\n      </g>\n     </g>\n     <g id=\"text_10\">\n      <!-- 0.98 -->\n      <defs>\n       <path d=\"M 31.78125 34.625 \nQ 24.75 34.625 20.71875 30.859375 \nQ 16.703125 27.09375 16.703125 20.515625 \nQ 16.703125 13.921875 20.71875 10.15625 \nQ 24.75 6.390625 31.78125 6.390625 \nQ 38.8125 6.390625 42.859375 10.171875 \nQ 46.921875 13.96875 46.921875 20.515625 \nQ 46.921875 27.09375 42.890625 30.859375 \nQ 38.875 34.625 31.78125 34.625 \nz\nM 21.921875 38.8125 \nQ 15.578125 40.375 12.03125 44.71875 \nQ 8.5 49.078125 8.5 55.328125 \nQ 8.5 64.0625 14.71875 69.140625 \nQ 20.953125 74.21875 31.78125 74.21875 \nQ 42.671875 74.21875 48.875 69.140625 \nQ 55.078125 64.0625 55.078125 55.328125 \nQ 55.078125 49.078125 51.53125 44.71875 \nQ 48 40.375 41.703125 38.8125 \nQ 48.828125 37.15625 52.796875 32.3125 \nQ 56.78125 27.484375 56.78125 20.515625 \nQ 56.78125 9.90625 50.3125 4.234375 \nQ 43.84375 -1.421875 31.78125 -1.421875 \nQ 19.734375 -1.421875 13.25 4.234375 \nQ 6.78125 9.90625 6.78125 20.515625 \nQ 6.78125 27.484375 10.78125 32.3125 \nQ 14.796875 37.15625 21.921875 38.8125 \nz\nM 18.3125 54.390625 \nQ 18.3125 48.734375 21.84375 45.5625 \nQ 25.390625 42.390625 31.78125 42.390625 \nQ 38.140625 42.390625 41.71875 45.5625 \nQ 45.3125 48.734375 45.3125 54.390625 \nQ 45.3125 60.0625 41.71875 63.234375 \nQ 38.140625 66.40625 31.78125 66.40625 \nQ 25.390625 66.40625 21.84375 63.234375 \nQ 18.3125 60.0625 18.3125 54.390625 \nz\n\" id=\"DejaVuSans-56\"/>\n      </defs>\n      <g style=\"fill:#555555;\" transform=\"translate(22.81375 122.151466)scale(0.1 -0.1)\">\n       <use xlink:href=\"#DejaVuSans-48\"/>\n       <use x=\"63.623047\" xlink:href=\"#DejaVuSans-46\"/>\n       <use x=\"95.410156\" xlink:href=\"#DejaVuSans-57\"/>\n       <use x=\"159.033203\" xlink:href=\"#DejaVuSans-56\"/>\n      </g>\n     </g>\n    </g>\n    <g id=\"ytick_4\">\n     <g id=\"line2d_19\">\n      <path clip-path=\"url(#p05438b253a)\" d=\"M 52.079375 75.947524 \nL 386.879375 75.947524 \n\" style=\"fill:none;stroke:#ffffff;stroke-linecap:square;stroke-width:0.8;\"/>\n     </g>\n     <g id=\"line2d_20\">\n      <g>\n       <use style=\"fill:#555555;stroke:#555555;stroke-width:0.8;\" x=\"52.079375\" xlink:href=\"#m7362ead81b\" y=\"75.947524\"/>\n      </g>\n     </g>\n     <g id=\"text_11\">\n      <!-- 0.99 -->\n      <g style=\"fill:#555555;\" transform=\"translate(22.81375 79.746742)scale(0.1 -0.1)\">\n       <use xlink:href=\"#DejaVuSans-48\"/>\n       <use x=\"63.623047\" xlink:href=\"#DejaVuSans-46\"/>\n       <use x=\"95.410156\" xlink:href=\"#DejaVuSans-57\"/>\n       <use x=\"159.033203\" xlink:href=\"#DejaVuSans-57\"/>\n      </g>\n     </g>\n    </g>\n    <g id=\"ytick_5\">\n     <g id=\"line2d_21\">\n      <path clip-path=\"url(#p05438b253a)\" d=\"M 52.079375 33.5428 \nL 386.879375 33.5428 \n\" style=\"fill:none;stroke:#ffffff;stroke-linecap:square;stroke-width:0.8;\"/>\n     </g>\n     <g id=\"line2d_22\">\n      <g>\n       <use style=\"fill:#555555;stroke:#555555;stroke-width:0.8;\" x=\"52.079375\" xlink:href=\"#m7362ead81b\" y=\"33.5428\"/>\n      </g>\n     </g>\n     <g id=\"text_12\">\n      <!-- 1.00 -->\n      <g style=\"fill:#555555;\" transform=\"translate(22.81375 37.342019)scale(0.1 -0.1)\">\n       <use xlink:href=\"#DejaVuSans-49\"/>\n       <use x=\"63.623047\" xlink:href=\"#DejaVuSans-46\"/>\n       <use x=\"95.410156\" xlink:href=\"#DejaVuSans-48\"/>\n       <use x=\"159.033203\" xlink:href=\"#DejaVuSans-48\"/>\n      </g>\n     </g>\n    </g>\n    <g id=\"text_13\">\n     <!-- AUC -->\n     <defs>\n      <path d=\"M 34.1875 63.1875 \nL 20.796875 26.90625 \nL 47.609375 26.90625 \nz\nM 28.609375 72.90625 \nL 39.796875 72.90625 \nL 67.578125 0 \nL 57.328125 0 \nL 50.6875 18.703125 \nL 17.828125 18.703125 \nL 11.1875 0 \nL 0.78125 0 \nz\n\" id=\"DejaVuSans-65\"/>\n      <path d=\"M 8.6875 72.90625 \nL 18.609375 72.90625 \nL 18.609375 28.609375 \nQ 18.609375 16.890625 22.84375 11.734375 \nQ 27.09375 6.59375 36.625 6.59375 \nQ 46.09375 6.59375 50.34375 11.734375 \nQ 54.59375 16.890625 54.59375 28.609375 \nL 54.59375 72.90625 \nL 64.5 72.90625 \nL 64.5 27.390625 \nQ 64.5 13.140625 57.4375 5.859375 \nQ 50.390625 -1.421875 36.625 -1.421875 \nQ 22.796875 -1.421875 15.734375 5.859375 \nQ 8.6875 13.140625 8.6875 27.390625 \nz\n\" id=\"DejaVuSans-85\"/>\n      <path d=\"M 64.40625 67.28125 \nL 64.40625 56.890625 \nQ 59.421875 61.53125 53.78125 63.8125 \nQ 48.140625 66.109375 41.796875 66.109375 \nQ 29.296875 66.109375 22.65625 58.46875 \nQ 16.015625 50.828125 16.015625 36.375 \nQ 16.015625 21.96875 22.65625 14.328125 \nQ 29.296875 6.6875 41.796875 6.6875 \nQ 48.140625 6.6875 53.78125 8.984375 \nQ 59.421875 11.28125 64.40625 15.921875 \nL 64.40625 5.609375 \nQ 59.234375 2.09375 53.4375 0.328125 \nQ 47.65625 -1.421875 41.21875 -1.421875 \nQ 24.65625 -1.421875 15.125 8.703125 \nQ 5.609375 18.84375 5.609375 36.375 \nQ 5.609375 53.953125 15.125 64.078125 \nQ 24.65625 74.21875 41.21875 74.21875 \nQ 47.75 74.21875 53.53125 72.484375 \nQ 59.328125 70.75 64.40625 67.28125 \nz\n\" id=\"DejaVuSans-67\"/>\n     </defs>\n     <g style=\"fill:#555555;\" transform=\"translate(16.318125 145.547063)rotate(-90)scale(0.12 -0.12)\">\n      <use xlink:href=\"#DejaVuSans-65\"/>\n      <use x=\"68.408203\" xlink:href=\"#DejaVuSans-85\"/>\n      <use x=\"141.601562\" xlink:href=\"#DejaVuSans-67\"/>\n     </g>\n    </g>\n   </g>\n   <g id=\"line2d_23\">\n    <path clip-path=\"url(#p05438b253a)\" d=\"M 67.297557 34.025386 \nL 73.638466 38.07808 \nL 79.979375 45.064316 \nL 86.320284 54.474093 \nL 92.661193 61.699195 \nL 99.002102 70.839101 \nL 105.343011 78.05329 \nL 111.68392 83.902716 \nL 118.02483 89.192161 \nL 124.365739 96.422739 \nL 130.706648 101.800861 \nL 137.047557 106.83614 \nL 143.388466 113.902189 \nL 149.729375 116.986679 \nL 156.070284 121.458047 \nL 162.411193 126.148206 \nL 168.752102 130.069215 \nL 175.093011 132.222941 \nL 181.43392 137.46521 \nL 187.77483 142.669461 \nL 194.115739 145.900983 \nL 200.456648 152.716255 \nL 206.797557 158.025202 \nL 213.138466 159.862961 \nL 219.479375 163.561502 \nL 225.820284 162.380117 \nL 232.161193 165.207401 \nL 238.502102 172.28923 \nL 244.843011 173.71702 \nL 251.18392 175.944297 \nL 257.52483 177.842788 \nL 263.865739 179.494104 \nL 270.206648 181.708809 \nL 276.547557 181.89268 \nL 282.888466 186.395861 \nL 289.229375 191.087391 \nL 295.570284 192.213002 \nL 301.911193 193.444475 \nL 308.252102 194.402255 \nL 314.593011 201.128827 \nL 320.93392 200.63757 \nL 327.27483 206.534524 \nL 333.615739 210.466566 \nL 339.956648 210.930911 \nL 346.297557 221.211056 \nL 352.638466 218.164549 \nL 358.979375 224.061678 \nL 365.320284 224.644899 \nL 371.661193 231.698114 \n\" style=\"fill:none;stroke:#e24a33;stroke-linecap:square;stroke-width:1.5;\"/>\n   </g>\n   <g id=\"patch_3\">\n    <path d=\"M 52.079375 241.58175 \nL 52.079375 24.14175 \n\" style=\"fill:none;stroke:#ffffff;stroke-linecap:square;stroke-linejoin:miter;\"/>\n   </g>\n   <g id=\"patch_4\">\n    <path d=\"M 386.879375 241.58175 \nL 386.879375 24.14175 \n\" style=\"fill:none;stroke:#ffffff;stroke-linecap:square;stroke-linejoin:miter;\"/>\n   </g>\n   <g id=\"patch_5\">\n    <path d=\"M 52.079375 241.58175 \nL 386.879375 241.58175 \n\" style=\"fill:none;stroke:#ffffff;stroke-linecap:square;stroke-linejoin:miter;\"/>\n   </g>\n   <g id=\"patch_6\">\n    <path d=\"M 52.079375 24.14175 \nL 386.879375 24.14175 \n\" style=\"fill:none;stroke:#ffffff;stroke-linecap:square;stroke-linejoin:miter;\"/>\n   </g>\n   <g id=\"text_14\">\n    <!-- AUC in TEST set -->\n    <defs>\n     <path id=\"DejaVuSans-32\"/>\n     <path d=\"M -0.296875 72.90625 \nL 61.375 72.90625 \nL 61.375 64.59375 \nL 35.5 64.59375 \nL 35.5 0 \nL 25.59375 0 \nL 25.59375 64.59375 \nL -0.296875 64.59375 \nz\n\" id=\"DejaVuSans-84\"/>\n     <path d=\"M 9.8125 72.90625 \nL 55.90625 72.90625 \nL 55.90625 64.59375 \nL 19.671875 64.59375 \nL 19.671875 43.015625 \nL 54.390625 43.015625 \nL 54.390625 34.71875 \nL 19.671875 34.71875 \nL 19.671875 8.296875 \nL 56.78125 8.296875 \nL 56.78125 0 \nL 9.8125 0 \nz\n\" id=\"DejaVuSans-69\"/>\n     <path d=\"M 53.515625 70.515625 \nL 53.515625 60.890625 \nQ 47.90625 63.578125 42.921875 64.890625 \nQ 37.9375 66.21875 33.296875 66.21875 \nQ 25.25 66.21875 20.875 63.09375 \nQ 16.5 59.96875 16.5 54.203125 \nQ 16.5 49.359375 19.40625 46.890625 \nQ 22.3125 44.4375 30.421875 42.921875 \nL 36.375 41.703125 \nQ 47.40625 39.59375 52.65625 34.296875 \nQ 57.90625 29 57.90625 20.125 \nQ 57.90625 9.515625 50.796875 4.046875 \nQ 43.703125 -1.421875 29.984375 -1.421875 \nQ 24.8125 -1.421875 18.96875 -0.25 \nQ 13.140625 0.921875 6.890625 3.21875 \nL 6.890625 13.375 \nQ 12.890625 10.015625 18.65625 8.296875 \nQ 24.421875 6.59375 29.984375 6.59375 \nQ 38.421875 6.59375 43.015625 9.90625 \nQ 47.609375 13.234375 47.609375 19.390625 \nQ 47.609375 24.75 44.3125 27.78125 \nQ 41.015625 30.8125 33.5 32.328125 \nL 27.484375 33.5 \nQ 16.453125 35.6875 11.515625 40.375 \nQ 6.59375 45.0625 6.59375 53.421875 \nQ 6.59375 63.09375 13.40625 68.65625 \nQ 20.21875 74.21875 32.171875 74.21875 \nQ 37.3125 74.21875 42.625 73.28125 \nQ 47.953125 72.359375 53.515625 70.515625 \nz\n\" id=\"DejaVuSans-83\"/>\n     <path d=\"M 18.3125 70.21875 \nL 18.3125 54.6875 \nL 36.8125 54.6875 \nL 36.8125 47.703125 \nL 18.3125 47.703125 \nL 18.3125 18.015625 \nQ 18.3125 11.328125 20.140625 9.421875 \nQ 21.96875 7.515625 27.59375 7.515625 \nL 36.8125 7.515625 \nL 36.8125 0 \nL 27.59375 0 \nQ 17.1875 0 13.234375 3.875 \nQ 9.28125 7.765625 9.28125 18.015625 \nL 9.28125 47.703125 \nL 2.6875 47.703125 \nL 2.6875 54.6875 \nL 9.28125 54.6875 \nL 9.28125 70.21875 \nz\n\" id=\"DejaVuSans-116\"/>\n    </defs>\n    <g transform=\"translate(161.90975 18.14175)scale(0.144 -0.144)\">\n     <use xlink:href=\"#DejaVuSans-65\"/>\n     <use x=\"68.408203\" xlink:href=\"#DejaVuSans-85\"/>\n     <use x=\"141.601562\" xlink:href=\"#DejaVuSans-67\"/>\n     <use x=\"211.425781\" xlink:href=\"#DejaVuSans-32\"/>\n     <use x=\"243.212891\" xlink:href=\"#DejaVuSans-105\"/>\n     <use x=\"270.996094\" xlink:href=\"#DejaVuSans-110\"/>\n     <use x=\"334.375\" xlink:href=\"#DejaVuSans-32\"/>\n     <use x=\"366.162109\" xlink:href=\"#DejaVuSans-84\"/>\n     <use x=\"427.246094\" xlink:href=\"#DejaVuSans-69\"/>\n     <use x=\"490.429688\" xlink:href=\"#DejaVuSans-83\"/>\n     <use x=\"553.90625\" xlink:href=\"#DejaVuSans-84\"/>\n     <use x=\"614.990234\" xlink:href=\"#DejaVuSans-32\"/>\n     <use x=\"646.777344\" xlink:href=\"#DejaVuSans-115\"/>\n     <use x=\"698.876953\" xlink:href=\"#DejaVuSans-101\"/>\n     <use x=\"760.400391\" xlink:href=\"#DejaVuSans-116\"/>\n    </g>\n   </g>\n  </g>\n </g>\n <defs>\n  <clipPath id=\"p05438b253a\">\n   <rect height=\"217.44\" width=\"334.8\" x=\"52.079375\" y=\"24.14175\"/>\n  </clipPath>\n </defs>\n</svg>\n",
      "image/png": "[encoded data removed]"
     },
     "metadata": {}
    }
   ],
   "source": [
    "test_record = []\n",
    "best_model = None\n",
    "\n",
    "min_samples_leaf_value = 0\n",
    "max_auc = 0\n",
    "leaf_value_range = range(1, 30)\n",
    "for leaf_value in leaf_value_range:\n",
    "    print(\"\\rfiting with leaf value = {} ...... \".format(leaf_value), end=\"\")\n",
    "    model = DecisionTreeClassifier(min_samples_leaf=leaf_value)\n",
    "    model.fit(train_x, train_y)\n",
    "    \n",
    "    print(\"Done!\")\n",
    "\n",
    "    prediction = model.predict_proba(train_x)\n",
    "    auc = roc_auc_score(train_y, prediction, multi_class='ovr')\n",
    "    test_record.append(auc)\n",
    "\n",
    "    if auc > max_auc:\n",
    "        max_auc = auc\n",
    "        min_samples_leaf_value = leaf_value\n",
    "        best_model = model\n",
    "\n",
    "print(\"The optimal number of min_samples_leaf by TEST set is:\", min_samples_leaf_value)\n",
    "print(\"With max AUC by TEST is:\", max_auc)\n",
    "print(\"The accuracy of BEST model in Training set is:\", best_model.score(train_x, train_y))\n",
    "#print(\"The accuracy of BEST model in Test set is:\", best_model.score(test_x, test_y))\n",
    "\n",
    "plt.style.use('ggplot')\n",
    "# fig = plt.figure(figsize=(12, 6))\n",
    "fig = plt.figure()\n",
    "ax1 = fig.add_subplot(111)\n",
    "ax1.plot(leaf_value_range, test_record)\n",
    "ax1.set_title('AUC in TEST set')\n",
    "ax1.set_xlabel('Min_samples_leaf_value')\n",
    "ax1.set_ylabel('AUC')\n",
    "\n",
    "plt.show()"
   ]
  },
  {
   "cell_type": "markdown",
   "metadata": {},
   "source": [
    "## Using the best model found in pervious range to check the result"
   ]
  },
  {
   "cell_type": "markdown",
   "metadata": {},
   "source": [
    "### Define the evulate function"
   ]
  },
  {
   "cell_type": "code",
   "execution_count": 24,
   "metadata": {},
   "outputs": [],
   "source": [
    "\n",
    "def topic_score(model, data_set, topic_name):\n",
    "    test_data_set = data_set[data_set['topic'] == topic_name]\n",
    "    test_x, test_y = convert_word(vector_model, label_model, test_data_set)\n",
    "    pred_y = model.predict(test_x)\n",
    "\n",
    "    f1_score = metrics.f1_score(test_y, pred_y, average='macro')\n",
    "    accuarcy = metrics.accuracy_score(test_y, pred_y)\n",
    "    recall_score = metrics.recall_score(test_y, pred_y, average='macro')\n",
    "\n",
    "    return f1_score, accuarcy, recall_score\n",
    "\n"
   ]
  },
  {
   "cell_type": "code",
   "execution_count": 27,
   "metadata": {},
   "outputs": [
    {
     "output_type": "stream",
     "name": "stdout",
     "text": "Topic\tf1\taccuarcy\trecall_score\nARTS CULTURE ENTERTAINMENT \t 1.0 \t 1.0 \t 1.0 \t\nBIOGRAPHIES PERSONALITIES PEOPLE \t 0.4984984984984985 \t 0.9940119760479041 \t 0.49700598802395207 \t\nDEFENCE \t 1.0 \t 1.0 \t 1.0 \t\nDOMESTIC MARKETS \t 1.0 \t 1.0 \t 1.0 \t\nFOREX MARKETS \t 0.4931013797240552 \t 0.9727810650887574 \t 0.4863905325443787 \t\nHEALTH \t 1.0 \t 1.0 \t 1.0 \t\nMONEY MARKETS \t 0.3243298547165951 \t 0.9473998804542738 \t 0.3157999601514246 \t\nSCIENCE AND TECHNOLOGY \t 1.0 \t 1.0 \t 1.0 \t\nSHARE LISTINGS \t 0.4976958525345622 \t 0.9908256880733946 \t 0.4954128440366973 \t\nSPORTS \t 0.3325754130665454 \t 0.9954627949183303 \t 0.33182093163944343 \t\nIRRELEVANT \t 0.24957680914092256 \t 0.9966201943388255 \t 0.24915504858470638 \t\n"
    }
   ],
   "source": [
    "print('Topic\\tf1\\taccuarcy\\trecall_score')\n",
    "report = []\n",
    "for topic in topic_code.keys():\n",
    "    result = topic_score(best_model, df, topic)\n",
    "    # print(topic,'\\t',result[0],'\\t',result[1],'\\t',result[2],'\\t')\n",
    "    report.append(result)\n",
    "\n",
    "report.sort(reverse=)"
   ]
  },
  {
   "cell_type": "markdown",
   "metadata": {},
   "source": [
    "## For test set"
   ]
  },
  {
   "cell_type": "code",
   "execution_count": 28,
   "metadata": {},
   "outputs": [
    {
     "output_type": "stream",
     "name": "stdout",
     "text": "Topic\tf1\taccuarcy\trecall_score\nARTS CULTURE ENTERTAINMENT \t 1.0 \t 1.0 \t 1.0 \t\nBIOGRAPHIES PERSONALITIES PEOPLE \t 0.0392156862745098 \t 0.13333333333333333 \t 0.022222222222222223 \t\nDEFENCE \t 0.253968253968254 \t 0.6153846153846154 \t 0.20512820512820515 \t\nDOMESTIC MARKETS \t 0.3333333333333333 \t 0.5 \t 0.25 \t\nFOREX MARKETS \t 0.2028985507246377 \t 0.4375 \t 0.14583333333333334 \t\nHEALTH \t 0.15 \t 0.42857142857142855 \t 0.10714285714285714 \t\nMONEY MARKETS \t 0.2484848484848485 \t 0.5942028985507246 \t 0.19806763285024154 \t\nSCIENCE AND TECHNOLOGY \t 0.16666666666666666 \t 0.3333333333333333 \t 0.1111111111111111 \t\nSHARE LISTINGS \t 0.14814814814814817 \t 0.2857142857142857 \t 0.09523809523809523 \t\nSPORTS \t 0.45454545454545453 \t 0.8333333333333334 \t 0.4166666666666667 \t\nIRRELEVANT \t 0.08870292887029288 \t 0.7969924812030075 \t 0.07969924812030074 \t\n"
    }
   ],
   "source": [
    "print('Topic\\tf1\\taccuarcy\\trecall_score')\n",
    "test_report = []\n",
    "\n",
    "test_df = pd.read_csv(TEST_FILE)\n",
    "test_df = preprocess(test_df)\n",
    "for topic in topic_code.keys():\n",
    "    result = topic_score(best_model, test_df, topic)\n",
    "    # print(topic,'\\t',result[0],'\\t',result[1],'\\t',result[2],'\\t')\n",
    "    test_report.append(result)"
   ]
  },
  {
   "cell_type": "markdown",
   "metadata": {},
   "source": [
    "## Save model"
   ]
  },
  {
   "cell_type": "code",
   "execution_count": null,
   "metadata": {},
   "outputs": [],
   "source": [
    "joblib.dump(best_model, )"
   ]
  }
 ],
 "metadata": {
  "language_info": {
   "codemirror_mode": {
    "name": "ipython",
    "version": 3
   },
   "file_extension": ".py",
   "mimetype": "text/x-python",
   "name": "python",
   "nbconvert_exporter": "python",
   "pygments_lexer": "ipython3",
   "version": "3.8.2-final"
  },
  "orig_nbformat": 2,
  "kernelspec": {
   "name": "python38264bit440a9b05b92d4257b31359ad5d640545",
   "display_name": "Python 3.8.2 64-bit"
  }
 },
 "nbformat": 4,
 "nbformat_minor": 2
}