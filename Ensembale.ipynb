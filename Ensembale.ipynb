{
 "cells": [
  {
   "cell_type": "markdown",
   "metadata": {},
   "source": [
    "# Ensembale Mode here\n",
    "Combine all the sub-model with Bagging method"
   ]
  },
  {
   "cell_type": "code",
   "execution_count": 29,
   "metadata": {},
   "outputs": [],
   "source": [
    "import numpy as np\n",
    "import pandas as pd\n",
    "import scipy\n",
    "import json\n",
    "import seaborn as sns\n",
    "from sklearn.base import TransformerMixin\n",
    "from sklearn import preprocessing\n",
    "from sklearn import metrics\n",
    "from sklearn.feature_extraction.text import CountVectorizer, TfidfVectorizer\n",
    "from sklearn.model_selection import train_test_split, learning_curve, StratifiedKFold\n",
    "from sklearn.metrics import roc_auc_score, roc_curve, classification_report, confusion_matrix, plot_confusion_matrix\n",
    "from sklearn.pipeline import make_pipeline, Pipeline\n",
    "import joblib\n",
    "import matplotlib.pyplot as plt"
   ]
  },
  {
   "cell_type": "markdown",
   "metadata": {},
   "source": [
    "### Figure the basic value"
   ]
  },
  {
   "cell_type": "code",
   "execution_count": 30,
   "metadata": {},
   "outputs": [],
   "source": [
    "model_path = 'Choesn_model/'\n",
    "configure_file_path = 'Choesn_model/Configuration.json'\n",
    "\n",
    "TRAINFILE = 'keyword.csv'\n",
    "TESTFILE = 'key_word_test.csv'\n",
    "boolean = 'True'"
   ]
  },
  {
   "cell_type": "markdown",
   "metadata": {},
   "source": [
    "## Define the MODEL object\n",
    "\n",
    "**!!! ATTENTION !!!**  \n",
    "Follow cell code **DO NOT** modify"
   ]
  },
  {
   "cell_type": "code",
   "execution_count": 31,
   "metadata": {},
   "outputs": [],
   "source": [
    "class Model(object):\n",
    "\n",
    "    def  __init__(self, model, name, test_set, topic, is_preprocess, level):\n",
    "        self.model = model\n",
    "        self.name = name\n",
    "        self.test_set = test_set\n",
    "        self.topic = topic\n",
    "        self.is_preprocess = is_preprocess\n",
    "        self.level = level\n",
    "\n",
    "    # for debug use\n",
    "    def show(self):\n",
    "        print(\n",
    "            self.name,'\\t',\n",
    "            self.test_set,'\\t',\n",
    "            self.topic,'\\t',\n",
    "            self.is_preprocess,'\\t',\n",
    "            self.level\n",
    "        )\n",
    "\n",
    "    def predict(self, x):\n",
    "        return self.model.predict(x)\n",
    "\n",
    "    def predict_proba(self, x):\n",
    "        return self.model.predict_proba(x)\n",
    "\n"
   ]
  },
  {
   "cell_type": "markdown",
   "metadata": {},
   "source": [
    "## Load the model detail from json figuration file"
   ]
  },
  {
   "cell_type": "code",
   "execution_count": 32,
   "metadata": {},
   "outputs": [],
   "source": [
    "def load_configuration_to_model(file_path):\n",
    "    '''\n",
    "    Load the json file and figure the parameter of each model\n",
    "\n",
    "    Return: (Tuple Object) with two sub-list\n",
    "            sub-list_1: Model for layer one (For revelent and irrevelent)\n",
    "            sub-list_2: Model for layer two (For topic decision)\n",
    "    '''\n",
    "\n",
    "    with open(configure_file_path, 'r') as json_fp:\n",
    "        configuration = json.load(json_fp)\n",
    "\n",
    "    layer_1 = []\n",
    "    layer_2 = []\n",
    "    for model_figure in configuration:\n",
    "\n",
    "        # read the figure\n",
    "        model_file = joblib.load(model_path + model_figure['model_name'])\n",
    "        name = model_figure['model_name']\n",
    "        test_set = model_figure['test_set']\n",
    "        topic = model_figure['topic']\n",
    "        is_preprocess = boolean == model_figure['preprocess']\n",
    "        level = int(model_figure['level'])\n",
    "\n",
    "        # New model object to save those arguments\n",
    "        model = Model(model_file, name, test_set, topic, is_preprocess, level)\n",
    "\n",
    "        # append to model list for futher processing\n",
    "        if level == 1:\n",
    "            layer_1.append(model)\n",
    "        else:\n",
    "            layer_2.append(model)\n",
    "\n",
    "    return layer_1,layer_2\n"
   ]
  },
  {
   "cell_type": "markdown",
   "metadata": {},
   "source": [
    "## Prepare the testing data and preprocess vector"
   ]
  },
  {
   "cell_type": "code",
   "execution_count": 49,
   "metadata": {},
   "outputs": [],
   "source": [
    "def get_vector(column_name, special=False):\n",
    "    '''\n",
    "    df                      str: The train df\n",
    "    fit_column              str: The column for vector to fit\n",
    "\n",
    "    Return: (Vectorizer Object)\n",
    "            Vectorizer of current column\n",
    "    '''\n",
    "    train_df = pd.read_csv(TRAINFILE)\n",
    "    if special is not False:\n",
    "        train_df[special] = train_df[special].apply(lambda x: x.replace('_', ''))\n",
    "\n",
    "    # prepare the tranform vector\n",
    "    vector = TfidfVectorizer().fit(train_df[column_name])\n",
    "\n",
    "    return vector\n",
    "\n",
    "def preprocess(df, column_name_list):\n",
    "    '''\n",
    "    This function to use to prepare all the data for ensemble system running\n",
    "    including RAW data and Vector-preprocess data\n",
    "\n",
    "    Return: (Dict object)\n",
    "            A after preprocessing data dict, it order by column_name_list\n",
    "        \n",
    "            ext:\n",
    "            Input: column_name_list: ['key_word_100', 'article_words']\n",
    "            Output: test_data_dict: test_data_dict['key_word_100'] --> key_word_100\n",
    "                                    test_data_dict['article_words'] -> article_words\n",
    "                                    test_data_dict['raw']          --> original data\n",
    "    '''\n",
    "\n",
    "    test_data_dict = {}\n",
    "\n",
    "    # first add original data\n",
    "    test_data_dict['raw'] = df\n",
    "\n",
    "    vector = get_vector('article_words', special='article_words')\n",
    "    \n",
    "    for column in column_name_list:\n",
    "        en_data = vector.transform(df[column])\n",
    "        test_data_dict[str(column)] = en_data\n",
    "\n",
    "    # for special data, add it by manul\n",
    "    vector = get_vector('key_word_100')\n",
    "    test_data_dict['key_word_100_1'] = vector.transform(df['key_word_100'])\n",
    "\n",
    "    return test_data_dict\n"
   ]
  },
  {
   "cell_type": "code",
   "execution_count": 51,
   "metadata": {},
   "outputs": [
    {
     "output_type": "stream",
     "name": "stdout",
     "text": "(500, 35817)\n(500, 35817)\n"
    }
   ],
   "source": [
    "df = pd.read_csv(TESTFILE)\n",
    "dict_data = preprocess(df, ['article_words', 'key_word_100'])\n",
    "print(dict_data['article_words'].shape)\n",
    "print(dict_data['key_word_100'].shape)"
   ]
  },
  {
   "cell_type": "markdown",
   "metadata": {},
   "source": [
    "### Follow is for ensemble evaluate"
   ]
  },
  {
   "cell_type": "code",
   "execution_count": null,
   "metadata": {},
   "outputs": [],
   "source": [
    "def evaluate(res_df):\n",
    "    '''\n",
    "    Here is for the evaluate the ensamble model\n",
    "\n",
    "    Input: (DataFrame Object) Should be result of the prediction\n",
    "    Output: \n",
    "    '''\n",
    "\n",
    "    report = []\n",
    "    topic_list = list(set(res_df['label']))\n",
    "    for topic in topic_list:\n",
    "        test_df = df[df['label'] == topic]\n",
    "        accuarcy = accuracy_score(test_df['label'], test_df['predict'])\n",
    "        print(topic,'accuarcy is:\\t\\t', accuarcy)\n",
    "        record.append(accuarcy)\n"
   ]
  }
 ],
 "metadata": {
  "language_info": {
   "codemirror_mode": {
    "name": "ipython",
    "version": 3
   },
   "file_extension": ".py",
   "mimetype": "text/x-python",
   "name": "python",
   "nbconvert_exporter": "python",
   "pygments_lexer": "ipython3",
   "version": "3.8.2-final"
  },
  "orig_nbformat": 2,
  "kernelspec": {
   "name": "python3",
   "display_name": "Python 3"
  }
 },
 "nbformat": 4,
 "nbformat_minor": 2
}