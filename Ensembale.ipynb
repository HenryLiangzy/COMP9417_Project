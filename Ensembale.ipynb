{
 "cells": [
  {
   "cell_type": "markdown",
   "metadata": {},
   "source": [
    "# Ensembale Mode here\n",
    "Combine all the sub-model with Bagging method"
   ]
  },
  {
   "cell_type": "code",
   "execution_count": 32,
   "metadata": {},
   "outputs": [],
   "source": [
    "import numpy as np\n",
    "import pandas as pd\n",
    "import scipy\n",
    "import json\n",
    "import seaborn as sns\n",
    "from sklearn.base import TransformerMixin\n",
    "from sklearn import tree\n",
    "from sklearn import preprocessing\n",
    "from sklearn import metrics\n",
    "from sklearn.feature_extraction.text import CountVectorizer, TfidfVectorizer, HashingVectorizer\n",
    "from sklearn.model_selection import train_test_split, GridSearchCV, learning_curve, StratifiedKFold\n",
    "from sklearn.metrics import roc_auc_score, roc_curve, classification_report, confusion_matrix, plot_confusion_matrix\n",
    "from sklearn.pipeline import make_pipeline, Pipeline\n",
    "import joblib\n",
    "import matplotlib.pyplot as plt"
   ]
  },
  {
   "cell_type": "markdown",
   "metadata": {},
   "source": [
    "### Figure the basic value"
   ]
  },
  {
   "cell_type": "code",
   "execution_count": 33,
   "metadata": {},
   "outputs": [],
   "source": [
    "model_path = 'Choesn_model/'\n",
    "configure_file_path = 'Choesn_model/Configuration.json'\n",
    "\n",
    "TESTFILE = 'keyword.csv'\n",
    "boolean = 'True'"
   ]
  },
  {
   "cell_type": "markdown",
   "metadata": {},
   "source": [
    "## Define the MODEL object"
   ]
  },
  {
   "cell_type": "code",
   "execution_count": 37,
   "metadata": {},
   "outputs": [],
   "source": [
    "class Model(object):\n",
    "\n",
    "    def  __init__(self, model, name, test_set, topic, is_preprocess):\n",
    "        self.model = model\n",
    "        self.name = name\n",
    "        self.test_set = test_set\n",
    "        self.topic = topic\n",
    "        self.is_preprocess = is_preprocess\n",
    "\n",
    "    def show(self):\n",
    "        print(\n",
    "            self.name,\n",
    "            self.test_set,\n",
    "            self.topic,\n",
    "            self.is_preprocess\n",
    "        )\n"
   ]
  },
  {
   "cell_type": "markdown",
   "metadata": {},
   "source": [
    "## Load the model detail from json figuration file"
   ]
  },
  {
   "cell_type": "code",
   "execution_count": 38,
   "metadata": {},
   "outputs": [],
   "source": [
    "def load_configuration_to_model(file_path):\n",
    "    with open(configure_file_path, 'r') as json_fp:\n",
    "        configuration = json.load(json_fp)\n",
    "\n",
    "    model_list = list()\n",
    "    for model_figure in configuration:\n",
    "        # read the figure\n",
    "        model_file = joblib.load(model_path + model_figure['model_name'])\n",
    "        name = model_figure['model_name']\n",
    "        test_set = model_figure['test_set']\n",
    "        topic = model_figure['topic']\n",
    "        is_preprocess = boolean == model_figure['preprocess']\n",
    "\n",
    "        # load to model list\n",
    "        model = Model(model_file, name, test_set, topic, is_preprocess)\n",
    "        model_list.append(model)\n",
    "\n",
    "    return model_list"
   ]
  },
  {
   "cell_type": "markdown",
   "metadata": {},
   "source": [
    "## Prepare the testing data and preprocess vector"
   ]
  },
  {
   "cell_type": "code",
   "execution_count": null,
   "metadata": {},
   "outputs": [],
   "source": []
  },
  {
   "cell_type": "code",
   "execution_count": 39,
   "metadata": {},
   "outputs": [
    {
     "output_type": "stream",
     "name": "stdout",
     "text": "tfidf_logi_pipe.joblib key_word_50 ['ARTS CULTURE ENTERTAINMENT', 'DOMESTIC MARKETS', 'SPORTS', 'SHARE LISTINGS', 'FOREX MARKETS', 'DEFENCE'] False\nclf_NB_1.joblib key_word_50 ['SHARE LISTING', 'DOMESTIC MARKETS', 'ARTS CULTURE ENTERTAINMENT', 'SPORTS', 'DEFENCE', 'FOREX MARKETS'] False\nclf_NB_2.joblib key_word_100 ['SHARE LISTING', 'DOMESTIC MARKETS', 'SPORTS', 'HEALTH', 'MONEY', 'DEFENCE'] False\nclf_NB_3.joblib key_word_50 ['BIOGRAPHIES PERSONALITIES PEOPLE'] False\nsvm_proba_1.joblib key_word_100 ['DOMESTIC MARKETS', 'SHARE LISTINGS', 'ARTS CULTURE ENTERTAINMENT', 'SPORTS', 'DEFENCE', 'FOREX MARKETS', 'BIOGRAPHIES PERSONALITIES PEOPLE'] True\nsvm_proba_2.joblib article_words ['DOMESTIC MARKETS', 'SPORTS', 'FOREX MARKETS', 'HEALTH'] True\n1_article_words.model article_words ['SPORTS', 'IRRELEVANT'] False\n1_key_word_100.model key_word_100 ['SPORTS', 'IRRELEVANT'] False\n2_article_words.model article_words ['SPORTS', 'IRRELEVANT'] False\n"
    }
   ],
   "source": [
    "model_list = load_configuration_to_model(configure_file_path)\n",
    "for model in model_list:\n",
    "    model.show()"
   ]
  },
  {
   "cell_type": "code",
   "execution_count": null,
   "metadata": {},
   "outputs": [],
   "source": []
  }
 ],
 "metadata": {
  "language_info": {
   "codemirror_mode": {
    "name": "ipython",
    "version": 3
   },
   "file_extension": ".py",
   "mimetype": "text/x-python",
   "name": "python",
   "nbconvert_exporter": "python",
   "pygments_lexer": "ipython3",
   "version": "3.8.2-final"
  },
  "orig_nbformat": 2,
  "kernelspec": {
   "name": "python3",
   "display_name": "Python 3"
  }
 },
 "nbformat": 4,
 "nbformat_minor": 2
}