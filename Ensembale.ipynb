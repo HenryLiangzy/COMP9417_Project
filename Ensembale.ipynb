{
 "cells": [
  {
   "cell_type": "markdown",
   "metadata": {},
   "source": [
    "# Ensembale Mode here\n",
    "Combine all the sub-model with Bagging method"
   ]
  },
  {
   "cell_type": "code",
   "execution_count": 43,
   "metadata": {},
   "outputs": [],
   "source": [
    "import numpy as np\n",
    "import pandas as pd\n",
    "import scipy\n",
    "import json\n",
    "import seaborn as sns\n",
    "from sklearn.base import TransformerMixin\n",
    "from sklearn import preprocessing\n",
    "from sklearn import metrics\n",
    "from sklearn.feature_extraction.text import CountVectorizer, TfidfVectorizer\n",
    "from sklearn.model_selection import train_test_split, learning_curve, StratifiedKFold\n",
    "from sklearn.metrics import roc_auc_score, roc_curve, classification_report, confusion_matrix, plot_confusion_matrix\n",
    "from sklearn.pipeline import make_pipeline, Pipeline\n",
    "import joblib\n",
    "import matplotlib.pyplot as plt"
   ]
  },
  {
   "cell_type": "markdown",
   "metadata": {},
   "source": [
    "### Figure the basic value"
   ]
  },
  {
   "cell_type": "code",
   "execution_count": 44,
   "metadata": {},
   "outputs": [],
   "source": [
    "model_path = 'Choesn_model/'\n",
    "configure_file_path = 'Choesn_model/Configuration.json'\n",
    "\n",
    "TRAINFILE = 'keyword.csv'\n",
    "TESTFILE = 'key_word_test.csv'\n",
    "boolean = 'True'"
   ]
  },
  {
   "cell_type": "markdown",
   "metadata": {},
   "source": [
    "## Define the MODEL object"
   ]
  },
  {
   "cell_type": "code",
   "execution_count": 45,
   "metadata": {},
   "outputs": [],
   "source": [
    "class Model(object):\n",
    "\n",
    "    def  __init__(self, model, name, test_set, topic, is_preprocess, level):\n",
    "        self.model = model\n",
    "        self.name = name\n",
    "        self.test_set = test_set\n",
    "        self.topic = topic\n",
    "        self.is_preprocess = is_preprocess\n",
    "        self.level = level\n",
    "\n",
    "    def show(self):\n",
    "        print(\n",
    "            self.name,'\\t',\n",
    "            self.test_set,'\\t',\n",
    "            self.topic,'\\t',\n",
    "            self.is_preprocess,'\\t',\n",
    "            self.level\n",
    "        )\n",
    "\n",
    "    def predict(self, x):\n",
    "        return self.model.predict(x)\n",
    "\n",
    "    def predict_proba(self, x):\n",
    "        return self.model.predict_proba(x)\n",
    "        \n"
   ]
  },
  {
   "cell_type": "markdown",
   "metadata": {},
   "source": [
    "## Load the model detail from json figuration file"
   ]
  },
  {
   "cell_type": "code",
   "execution_count": 46,
   "metadata": {},
   "outputs": [],
   "source": [
    "def load_configuration_to_model(file_path):\n",
    "    with open(configure_file_path, 'r') as json_fp:\n",
    "        configuration = json.load(json_fp)\n",
    "\n",
    "    layer_1 = []\n",
    "    layer_2 = []\n",
    "    for model_figure in configuration:\n",
    "        # read the figure\n",
    "        model_file = joblib.load(model_path + model_figure['model_name'])\n",
    "        name = model_figure['model_name']\n",
    "        test_set = model_figure['test_set']\n",
    "        topic = model_figure['topic']\n",
    "        is_preprocess = boolean == model_figure['preprocess']\n",
    "        level = int(model_figure['level'])\n",
    "\n",
    "        # load to model list\n",
    "        model = Model(model_file, name, test_set, topic, is_preprocess, level)\n",
    "\n",
    "        if level == 1:\n",
    "            layer_1.append(model)\n",
    "        else:\n",
    "            layer_2.append(model)\n",
    "\n",
    "    return [layer_1, layer_2]\n",
    "    "
   ]
  },
  {
   "cell_type": "markdown",
   "metadata": {},
   "source": [
    "## Prepare the testing data and preprocess vector"
   ]
  },
  {
   "cell_type": "code",
   "execution_count": 73,
   "metadata": {},
   "outputs": [],
   "source": [
    "def get_vector(df, fit_column):\n",
    "    '''\n",
    "    df                      str: The train df\n",
    "    fit_column              str: The column for vector to fit\n",
    "    '''\n",
    "\n",
    "\n",
    "    # prepare the tranform vector\n",
    "    vector = TfidfVectorizer().fit(df[fit_column])\n",
    "\n",
    "    return vector\n",
    "\n",
    "def preprocess(df, column_name_list):\n",
    "    '''\n",
    "    This function to use to prepare all the data for ensemble system running\n",
    "    including RAW data and Vector-preprocess data\n",
    "    '''\n",
    "\n",
    "    test_data_list = []\n",
    "    vector = get_vector(df, 'article_words')\n",
    "    \n",
    "    for column in column_name_list:\n",
    "        en_data = vector.transform(df[column])\n",
    "        test_data_list.append(en_data)\n",
    "\n",
    "    return test_data_list\n"
   ]
  },
  {
   "cell_type": "code",
   "execution_count": 74,
   "metadata": {},
   "outputs": [
    {
     "output_type": "stream",
     "name": "stdout",
     "text": "(500, 8112)\n(500, 8112)\n"
    }
   ],
   "source": [
    "df = pd.read_csv(TESTFILE)\n",
    "preprocess(df, ['key_word_100', 'article_words'])"
   ]
  },
  {
   "cell_type": "code",
   "execution_count": null,
   "metadata": {},
   "outputs": [],
   "source": []
  }
 ],
 "metadata": {
  "language_info": {
   "codemirror_mode": {
    "name": "ipython",
    "version": 3
   },
   "file_extension": ".py",
   "mimetype": "text/x-python",
   "name": "python",
   "nbconvert_exporter": "python",
   "pygments_lexer": "ipython3",
   "version": "3.8.2-final"
  },
  "orig_nbformat": 2,
  "kernelspec": {
   "name": "python3",
   "display_name": "Python 3"
  }
 },
 "nbformat": 4,
 "nbformat_minor": 2
}