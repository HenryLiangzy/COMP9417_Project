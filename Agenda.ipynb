{
 "cells": [
  {
   "cell_type": "markdown",
   "metadata": {},
   "source": [
    "# COMP9417 Group Project--Text Classification\n",
    "---"
   ]
  },
  {
   "cell_type": "code",
   "execution_count": 4,
   "metadata": {},
   "outputs": [],
   "source": [
    "%matplotlib inline\n",
    "import numpy as np\n",
    "import pandas as pd\n",
    "import matplotlib.pyplot as plt\n",
    "import altair as alt\n",
    "import imblearn"
   ]
  },
  {
   "cell_type": "markdown",
   "metadata": {},
   "source": [
    "## 0. Task\n",
    "1. Problem description\n",
    "    1. [x] 9000 train + 500 validating + 500 testing\n",
    "    - [x] 10 Classes + \"IRRELEVANT\"\n",
    "        1. How do we deal with \"IRRELEVANT\" in test set? Can we remove it and predict only 10 classes?\n",
    "    - [x] At least 2 classifiers\n",
    "    - [x] At most 10 suggestions above a threshold\n",
    "        1. Threshold may be relative to proportion of \"IRRELEVANT\" entries in test set        \n",
    "\n",
    "\n",
    "2. Exploratory Data Analysis\n",
    "    \n",
    "    1. [x] Data visualization\n",
    "        1. [x] Very unbalanced over classes -- Histogram\n",
    "        - [x] Some articles might have way larger vocabulary -- Box plots\n",
    "\n",
    "\n",
    "3. Feature Engineering\n",
    "    1. [x] Text representation\n",
    "        1. Word Count Vectors\n",
    "        - [x] TF-IDF Vectors -- balance word frequency and document size\n",
    "\n",
    "\n",
    "4. Label encoding\n",
    "    1. [x] Classes --> \\[0, 9\\]\n",
    "    \n",
    " \n",
    "5. Train/validation splitting\n",
    "\n",
    "\n",
    "6. GridSearchCV\n",
    "    1. [x] Models: **each with own parameters**\n",
    "        1. [x] Multinomial Naive Bayes\n",
    "        - [x] SVM\n",
    "        - KNN\n",
    "        - [x] Decision Tree / Random forest\n",
    "        - Grdient Boosting <p>...</p>\n",
    "    2. [x] Metrics\n",
    "        1. [x] Use accuracy for parameter tuning since False positive and False negative should be equally bad...\n",
    "        2. [x] Include others in report too\n",
    "        3. [x] Draw confusion matrix to visually illustrate\n",
    "        \n",
    "7. Predictions\n",
    "    1. [x] Model interpretation\n",
    "        1. [x] Need to explain misclassifications?\n",
    "    2. [x] Dimentionality reduction\n",
    "        1. [x] PCA\n",
    "        2. [x] t-SEN\n",
    "    3. [x] **Predicted Conditional Probabilities**\n",
    "        1. Set a threshold, suggest only those with a Conditional Probability above (at most 10)\n",
    "        - How to set a proper threshold? Has anything to do with \"IRRELEVANT\"?"
   ]
  },
  {
   "cell_type": "markdown",
   "metadata": {},
   "source": [
    "## 1. Data Visulization\n",
    "Check the distribution of data over classes."
   ]
  },
  {
   "cell_type": "code",
   "execution_count": 4,
   "metadata": {
    "scrolled": true
   },
   "outputs": [
    {
     "data": {
      "text/html": [
       "<div>\n",
       "<style scoped>\n",
       "    .dataframe tbody tr th:only-of-type {\n",
       "        vertical-align: middle;\n",
       "    }\n",
       "\n",
       "    .dataframe tbody tr th {\n",
       "        vertical-align: top;\n",
       "    }\n",
       "\n",
       "    .dataframe thead th {\n",
       "        text-align: right;\n",
       "    }\n",
       "</style>\n",
       "<table border=\"1\" class=\"dataframe\">\n",
       "  <thead>\n",
       "    <tr style=\"text-align: right;\">\n",
       "      <th></th>\n",
       "      <th>article_number</th>\n",
       "      <th>article_words</th>\n",
       "      <th>topic</th>\n",
       "    </tr>\n",
       "  </thead>\n",
       "  <tbody>\n",
       "    <tr>\n",
       "      <td>0</td>\n",
       "      <td>1</td>\n",
       "      <td>open,absent,cent,cent,cent,stock,inflow,rate,k...</td>\n",
       "      <td>FOREX MARKETS</td>\n",
       "    </tr>\n",
       "    <tr>\n",
       "      <td>1</td>\n",
       "      <td>2</td>\n",
       "      <td>morn,stead,end,end,day,day,day,patch,patch,pat...</td>\n",
       "      <td>MONEY MARKETS</td>\n",
       "    </tr>\n",
       "    <tr>\n",
       "      <td>2</td>\n",
       "      <td>3</td>\n",
       "      <td>socc,socc,world,world,recent,law,fifa,fifa,fif...</td>\n",
       "      <td>SPORTS</td>\n",
       "    </tr>\n",
       "    <tr>\n",
       "      <td>3</td>\n",
       "      <td>4</td>\n",
       "      <td>open,forint,forint,forint,forint,cent,cent,ste...</td>\n",
       "      <td>FOREX MARKETS</td>\n",
       "    </tr>\n",
       "    <tr>\n",
       "      <td>4</td>\n",
       "      <td>5</td>\n",
       "      <td>morn,complet,weekend,minut,minut,minut,arrow,d...</td>\n",
       "      <td>IRRELEVANT</td>\n",
       "    </tr>\n",
       "  </tbody>\n",
       "</table>\n",
       "</div>"
      ],
      "text/plain": [
       "   article_number                                      article_words  \\\n",
       "0               1  open,absent,cent,cent,cent,stock,inflow,rate,k...   \n",
       "1               2  morn,stead,end,end,day,day,day,patch,patch,pat...   \n",
       "2               3  socc,socc,world,world,recent,law,fifa,fifa,fif...   \n",
       "3               4  open,forint,forint,forint,forint,cent,cent,ste...   \n",
       "4               5  morn,complet,weekend,minut,minut,minut,arrow,d...   \n",
       "\n",
       "           topic  \n",
       "0  FOREX MARKETS  \n",
       "1  MONEY MARKETS  \n",
       "2         SPORTS  \n",
       "3  FOREX MARKETS  \n",
       "4     IRRELEVANT  "
      ]
     },
     "execution_count": 4,
     "metadata": {},
     "output_type": "execute_result"
    },
    {
     "name": "stdout",
     "output_type": "stream",
     "text": [
      "<class 'pandas.core.frame.DataFrame'>\n",
      "RangeIndex: 9500 entries, 0 to 9499\n",
      "Data columns (total 3 columns):\n",
      "article_number    9500 non-null int64\n",
      "article_words     9500 non-null object\n",
      "topic             9500 non-null object\n",
      "dtypes: int64(1), object(2)\n",
      "memory usage: 222.8+ KB\n"
     ]
    }
   ],
   "source": [
    "df = pd.read_csv(\"training.csv\")#.set_index(\"article_number\")\n",
    "df.head()\n",
    "df.info()"
   ]
  },
  {
   "cell_type": "code",
   "execution_count": 53,
   "metadata": {},
   "outputs": [
    {
     "data": {
      "image/png": "[encoded data removed]",
      "text/plain": [
       "<Figure size 432x288 with 1 Axes>"
      ]
     },
     "metadata": {
      "needs_background": "light"
     },
     "output_type": "display_data"
    }
   ],
   "source": [
    "data = df[df.topic != \"IRRELEVANT\"].reset_index(drop=True)\n",
    "distribution = data.groupby(\"topic\").article_words.count().plot(kind=\"bar\", label=\"count\", legend=\"best\")"
   ]
  },
  {
   "cell_type": "markdown",
   "metadata": {},
   "source": [
    "## 2. "
   ]
  }
 ],
 "metadata": {
  "kernelspec": {
   "display_name": "Python 3",
   "language": "python",
   "name": "python3"
  },
  "language_info": {
   "codemirror_mode": {
    "name": "ipython",
    "version": 3
   },
   "file_extension": ".py",
   "mimetype": "text/x-python",
   "name": "python",
   "nbconvert_exporter": "python",
   "pygments_lexer": "ipython3",
   "version": "3.7.6"
  }
 },
 "nbformat": 4,
 "nbformat_minor": 2
}
