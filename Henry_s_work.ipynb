{
  "nbformat": 4,
  "nbformat_minor": 0,
  "metadata": {
    "colab": {
      "name": "Henry_s_work.ipynb",
      "provenance": [],
      "authorship_tag": "ABX9TyNlXFhtQoArqV/nTMt/xhcM",
      "include_colab_link": true
    },
    "kernelspec": {
      "name": "python3",
      "display_name": "Python 3"
    }
  },
  "cells": [
    {
      "cell_type": "markdown",
      "metadata": {
        "id": "view-in-github",
        "colab_type": "text"
      },
      "source": [
        "<a href=\"https://colab.research.google.com/github/HenryLiangzy/COMP9417_Project/blob/master/Henry_s_work.ipynb\" target=\"_parent\"><img src=\"https://colab.research.google.com/assets/colab-badge.svg\" alt=\"Open In Colab\"/></a>"
      ]
    },
    {
      "cell_type": "markdown",
      "metadata": {
        "id": "jaufnEt4pmFG",
        "colab_type": "text"
      },
      "source": [
        ""
      ]
    },
    {
      "cell_type": "code",
      "metadata": {
        "id": "yRWj8y16mGl1",
        "colab_type": "code",
        "colab": {}
      },
      "source": [
        "import numpy as np\n",
        "import pandas as pd\n",
        "from sklearn.base import TransformerMixin\n",
        "from sklearn import tree\n",
        "from sklearn import preprocessing\n",
        "from sklearn import metrics\n",
        "from sklearn.feature_extraction.text import CountVectorizer, TfidfVectorizer, HashingVectorizer\n",
        "from sklearn.model_selection import train_test_split, GridSearchCV, learning_curve\n",
        "from sklearn.metrics import roc_auc_score, roc_curve\n",
        "from sklearn.tree import DecisionTreeClassifier\n",
        "import matplotlib.pyplot as plt\n"
      ],
      "execution_count": 0,
      "outputs": []
    },
    {
      "cell_type": "code",
      "metadata": {
        "id": "VR9NDtB4mcTX",
        "colab_type": "code",
        "colab": {}
      },
      "source": [
        "np.random.seed(1)\n",
        "TRAINING_FILE = \"training.csv\"\n",
        "TEST_FILE = \"test.csv\""
      ],
      "execution_count": 0,
      "outputs": []
    },
    {
      "cell_type": "code",
      "metadata": {
        "id": "e6HCr08PpT0m",
        "colab_type": "code",
        "outputId": "81244e39-e251-4b21-f02d-ae821735c688",
        "colab": {
          "base_uri": "https://localhost:8080/",
          "height": 34
        }
      },
      "source": [
        "df = pd.read_csv(TRAINING_FILE)\n",
        "print(df.shape[0], df.shape[1])"
      ],
      "execution_count": 0,
      "outputs": [
        {
          "output_type": "stream",
          "text": [
            "9500 3\n"
          ],
          "name": "stdout"
        }
      ]
    },
    {
      "cell_type": "code",
      "metadata": {
        "id": "Az3ZImk-pijn",
        "colab_type": "code",
        "outputId": "b1202ce8-e728-49a6-a9a8-3e9212449daf",
        "colab": {
          "base_uri": "https://localhost:8080/",
          "height": 255
        }
      },
      "source": [
        "train_set, test_set = train_test_split(df, test_size=0.2)\n",
        "print(train_set)"
      ],
      "execution_count": 0,
      "outputs": [
        {
          "output_type": "stream",
          "text": [
            "      article_number  ...          topic\n",
            "7786            7787  ...  FOREX MARKETS\n",
            "8777            8778  ...     IRRELEVANT\n",
            "6370            6371  ...         SPORTS\n",
            "6049            6050  ...     IRRELEVANT\n",
            "4396            4397  ...     IRRELEVANT\n",
            "...              ...  ...            ...\n",
            "2895            2896  ...  MONEY MARKETS\n",
            "7813            7814  ...     IRRELEVANT\n",
            "905              906  ...         SPORTS\n",
            "5192            5193  ...     IRRELEVANT\n",
            "235              236  ...         SPORTS\n",
            "\n",
            "[7600 rows x 3 columns]\n"
          ],
          "name": "stdout"
        }
      ]
    },
    {
      "cell_type": "code",
      "metadata": {
        "id": "BXvDg9bSqJpZ",
        "colab_type": "code",
        "colab": {}
      },
      "source": [
        ""
      ],
      "execution_count": 0,
      "outputs": []
    }
  ]
}