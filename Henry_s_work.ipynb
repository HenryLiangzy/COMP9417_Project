{
  "nbformat": 4,
  "nbformat_minor": 0,
  "metadata": {
    "colab": {
      "name": "Henry_s_work.ipynb",
      "provenance": [],
      "authorship_tag": "ABX9TyNlXFhtQoArqV/nTMt/xhcM",
      "include_colab_link": true
    },
    "kernelspec": {
      "name": "python3",
      "display_name": "Python 3"
    }
  },
  "cells": [
    {
      "cell_type": "markdown",
      "metadata": {
        "id": "view-in-github",
        "colab_type": "text"
      },
      "source": [
        "<a href=\"https://colab.research.google.com/github/HenryLiangzy/COMP9417_Project/blob/master/Henry_s_work.ipynb\" target=\"_parent\"><img src=\"https://colab.research.google.com/assets/colab-badge.svg\" alt=\"Open In Colab\"/></a>"
      ],
      "execution_count": null,
      "outputs": []
    },
    {
      "cell_type": "markdown",
      "metadata": {
        "id": "jaufnEt4pmFG",
        "colab_type": "text"
      },
      "source": [
        ""
      ],
      "execution_count": null,
      "outputs": []
    },
    {
      "cell_type": "code",
      "metadata": {
        "id": "yRWj8y16mGl1",
        "colab_type": "code",
        "colab": {}
      },
      "source": [
        "import numpy as np\n",
        "import pandas as pd\n",
        "from sklearn.base import TransformerMixin\n",
        "from sklearn import tree\n",
        "from sklearn import preprocessing\n",
        "from sklearn import metrics\n",
        "from sklearn.feature_extraction.text import CountVectorizer, TfidfVectorizer, HashingVectorizer\n",
        "from sklearn.model_selection import train_test_split, GridSearchCV, learning_curve\n",
        "from sklearn.metrics import roc_auc_score, roc_curve\n",
        "from sklearn.tree import DecisionTreeClassifier\n",
        "import matplotlib.pyplot as plt\n",
        ""
      ],
      "execution_count": 10,
      "outputs": []
    },
    {
      "cell_type": "code",
      "metadata": {
        "id": "VR9NDtB4mcTX",
        "colab_type": "code",
        "colab": {}
      },
      "source": [
        "np.random.seed(1)\n",
        "TRAINING_FILE = \"training.csv\"\n",
        "TEST_FILE = \"test.csv\"\n",
        "\n",
        "topic_code = {\n",
        "    'ARTS CULTURE ENTERTAINMENT': 1,\n",
        "    'BIOGRAPHIES PERSONALITIES PEOPLE': 2,\n",
        "    'DEFENCE': 3,\n",
        "    'DOMESTIC MARKETS': 4,\n",
        "    'FOREX MARKETS': 5,\n",
        "    'HEALTH': 6,\n",
        "    'MONEY MARKETS': 7,\n",
        "    'SCIENCE AND TECHNOLOGY': 8,\n",
        "    'SHARE LISTINGS': 9,\n",
        "    'SPORTS': 10,\n",
        "    'IRRELEVANT': 0\n",
        "}"
      ],
      "execution_count": 11,
      "outputs": []
    },
    {
      "cell_type": "code",
      "execution_count": 12,
      "metadata": {},
      "outputs": [],
      "source": [
        "def preprocess(df):\n",
        "    df['topic_code'] = df['topic'].apply(lambda x: topic_code[x])\n",
        "\n",
        "    return df[['article_words', 'topic_code']]\n",
        "\n",
        "def bag_of_word(df, model):\n",
        "    vector = model\n",
        "    df[model.__class__.__name__] = df['article_words'].apply(lambda x: vector.fit_transform(x))\n",
        "\n",
        "    return df"
      ]
    },
    {
      "cell_type": "code",
      "metadata": {
        "id": "Az3ZImk-pijn",
        "colab_type": "code",
        "outputId": "b1202ce8-e728-49a6-a9a8-3e9212449daf",
        "colab": {
          "base_uri": "https://localhost:8080/",
          "height": 255
        }
      },
      "source": [
        "# load data from file\n",
        "df = pd.read_csv(TRAINING_FILE)\n",
        "\n",
        "# pre process the y\n",
        "df = preprocess(df)\n",
        "\n",
        "# split the data\n",
        "train_set, test_set = train_test_split(df, test_size=0.1)\n",
        "\n",
        "# print(train_set)\n",
        "\n",
        "count = CountVectorizer()\n",
        "\n",
        "train_x = count.fit_transform(train_set['article_words'].values)\n",
        "train_y = train_set['topic_code']\n",
        "test_x = count.transform(test_set['article_words'].values)\n",
        "test_y = test_set['topic_code']\n",
        "\n",
        "print(train_x.shape)\n",
        "print(train_y.shape[0])\n",
        "print(test_x.shape)\n",
        "print(test_y.shape[0])"
      ],
      "execution_count": 13,
      "outputs": [
        {
          "output_type": "stream",
          "name": "stdout",
          "text": "(8550, 33913)\n8550\n(950, 33913)\n950\n"
        }
      ]
    },
    {
      "cell_type": "code",
      "execution_count": 14,
      "metadata": {},
      "outputs": [
        {
          "output_type": "stream",
          "name": "stdout",
          "text": "The accuracy of Training set is: 0.9385964912280702\nThe accuracy of Test set is: 0.6968421052631579\nTraining time: 5.693456172943115 s\nCPU times: user 5.42 s, sys: 42 ms, total: 5.46 s\nWall time: 5.49 s\n"
        }
      ],
      "source": [
        "%%time\n",
        "\n",
        "# train\n",
        "test_record = []\n",
        "trianing_record = []\n",
        "\n",
        "dtc = DecisionTreeClassifier(min_samples_leaf=2)\n",
        "dtc.fit(train_x, train_y)\n",
        "\n",
        "print(\"The accuracy of Training set is:\", dtc.score(train_x, train_y))\n",
        "print(\"The accuracy of Test set is:\", dtc.score(test_x, test_y))\n",
        "print(\"Training time: {} s\".format(end_time-start_time))"
      ]
    },
    {
      "cell_type": "code",
      "execution_count": 15,
      "metadata": {},
      "outputs": [
        {
          "output_type": "stream",
          "name": "stdout",
          "text": "Current auc is: 0.7691544315909066\n"
        }
      ],
      "source": [
        "predict_proba = dtc.predict_proba(test_x)\n",
        "auc = roc_auc_score(test_y, predict_proba, multi_class='ovr')\n",
        "print(\"Current auc is:\", auc)"
      ]
    },
    {
      "cell_type": "code",
      "execution_count": null,
      "metadata": {},
      "outputs": [],
      "source": []
    }
  ]
}