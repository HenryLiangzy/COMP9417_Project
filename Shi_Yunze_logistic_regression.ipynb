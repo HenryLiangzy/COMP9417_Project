{
 "cells": [
  {
   "cell_type": "markdown",
   "metadata": {},
   "source": [
    "# Text Classification Using Logistic Regression\n",
    "\n",
    "# 1. Load Data"
   ]
  },
  {
   "cell_type": "code",
   "execution_count": 47,
   "metadata": {},
   "outputs": [],
   "source": [
    "import warnings\n",
    "\n",
    "import numpy as np\n",
    "import pandas as pd\n",
    "import sklearn\n",
    "from sklearn.linear_model import LogisticRegression\n",
    "from sklearn.feature_extraction.text import CountVectorizer, TfidfVectorizer\n",
    "from sklearn.model_selection import cross_val_score # get a specific score of a model using CV\n",
    "from sklearn.model_selection import GridSearchCV, train_test_split, StratifiedShuffleSplit\n",
    "# from sklearn.feature_extraction.text import ENGLISH_STOP_WORDS # a list of english stop words\n",
    "from sklearn.preprocessing import LabelEncoder\n",
    "\n",
    "from sklearn.exceptions import ConvergenceWarning"
   ]
  },
  {
   "cell_type": "code",
   "execution_count": 48,
   "metadata": {
    "scrolled": false
   },
   "outputs": [
    {
     "data": {
      "text/html": [
       "<div>\n",
       "<style scoped>\n",
       "    .dataframe tbody tr th:only-of-type {\n",
       "        vertical-align: middle;\n",
       "    }\n",
       "\n",
       "    .dataframe tbody tr th {\n",
       "        vertical-align: top;\n",
       "    }\n",
       "\n",
       "    .dataframe thead th {\n",
       "        text-align: right;\n",
       "    }\n",
       "</style>\n",
       "<table border=\"1\" class=\"dataframe\">\n",
       "  <thead>\n",
       "    <tr style=\"text-align: right;\">\n",
       "      <th></th>\n",
       "      <th>article_number</th>\n",
       "      <th>article_words</th>\n",
       "      <th>topic</th>\n",
       "    </tr>\n",
       "  </thead>\n",
       "  <tbody>\n",
       "    <tr>\n",
       "      <th>0</th>\n",
       "      <td>1</td>\n",
       "      <td>open,absent,cent,cent,cent,stock,inflow,rate,k...</td>\n",
       "      <td>FOREX MARKETS</td>\n",
       "    </tr>\n",
       "    <tr>\n",
       "      <th>1</th>\n",
       "      <td>2</td>\n",
       "      <td>morn,stead,end,end,day,day,day,patch,patch,pat...</td>\n",
       "      <td>MONEY MARKETS</td>\n",
       "    </tr>\n",
       "    <tr>\n",
       "      <th>2</th>\n",
       "      <td>3</td>\n",
       "      <td>socc,socc,world,world,recent,law,fifa,fifa,fif...</td>\n",
       "      <td>SPORTS</td>\n",
       "    </tr>\n",
       "    <tr>\n",
       "      <th>3</th>\n",
       "      <td>4</td>\n",
       "      <td>open,forint,forint,forint,forint,cent,cent,ste...</td>\n",
       "      <td>FOREX MARKETS</td>\n",
       "    </tr>\n",
       "    <tr>\n",
       "      <th>4</th>\n",
       "      <td>5</td>\n",
       "      <td>morn,complet,weekend,minut,minut,minut,arrow,d...</td>\n",
       "      <td>IRRELEVANT</td>\n",
       "    </tr>\n",
       "  </tbody>\n",
       "</table>\n",
       "</div>"
      ],
      "text/plain": [
       "   article_number                                      article_words  \\\n",
       "0               1  open,absent,cent,cent,cent,stock,inflow,rate,k...   \n",
       "1               2  morn,stead,end,end,day,day,day,patch,patch,pat...   \n",
       "2               3  socc,socc,world,world,recent,law,fifa,fifa,fif...   \n",
       "3               4  open,forint,forint,forint,forint,cent,cent,ste...   \n",
       "4               5  morn,complet,weekend,minut,minut,minut,arrow,d...   \n",
       "\n",
       "           topic  \n",
       "0  FOREX MARKETS  \n",
       "1  MONEY MARKETS  \n",
       "2         SPORTS  \n",
       "3  FOREX MARKETS  \n",
       "4     IRRELEVANT  "
      ]
     },
     "execution_count": 48,
     "metadata": {},
     "output_type": "execute_result"
    },
    {
     "data": {
      "text/plain": [
       "(9500, 3)"
      ]
     },
     "execution_count": 48,
     "metadata": {},
     "output_type": "execute_result"
    },
    {
     "data": {
      "text/html": [
       "<div>\n",
       "<style scoped>\n",
       "    .dataframe tbody tr th:only-of-type {\n",
       "        vertical-align: middle;\n",
       "    }\n",
       "\n",
       "    .dataframe tbody tr th {\n",
       "        vertical-align: top;\n",
       "    }\n",
       "\n",
       "    .dataframe thead th {\n",
       "        text-align: right;\n",
       "    }\n",
       "</style>\n",
       "<table border=\"1\" class=\"dataframe\">\n",
       "  <thead>\n",
       "    <tr style=\"text-align: right;\">\n",
       "      <th></th>\n",
       "      <th>article_number</th>\n",
       "      <th>article_words</th>\n",
       "      <th>topic</th>\n",
       "    </tr>\n",
       "  </thead>\n",
       "  <tbody>\n",
       "    <tr>\n",
       "      <th>0</th>\n",
       "      <td>9501</td>\n",
       "      <td>world,complet,pharmaceut,tianjin,tianjin,chin,...</td>\n",
       "      <td>IRRELEVANT</td>\n",
       "    </tr>\n",
       "    <tr>\n",
       "      <th>1</th>\n",
       "      <td>9502</td>\n",
       "      <td>copy,sunday,weekend,ec,friday,eu,includ,limit,...</td>\n",
       "      <td>IRRELEVANT</td>\n",
       "    </tr>\n",
       "    <tr>\n",
       "      <th>2</th>\n",
       "      <td>9503</td>\n",
       "      <td>heavy,heavy,gabriel,morn,morn,equit,cent,cent,...</td>\n",
       "      <td>FOREX MARKETS</td>\n",
       "    </tr>\n",
       "    <tr>\n",
       "      <th>3</th>\n",
       "      <td>9504</td>\n",
       "      <td>research,jess,hit,anticip,comput,comput,comput...</td>\n",
       "      <td>IRRELEVANT</td>\n",
       "    </tr>\n",
       "    <tr>\n",
       "      <th>4</th>\n",
       "      <td>9505</td>\n",
       "      <td>provid,provid,luxembourg,court,court,case,opin...</td>\n",
       "      <td>IRRELEVANT</td>\n",
       "    </tr>\n",
       "  </tbody>\n",
       "</table>\n",
       "</div>"
      ],
      "text/plain": [
       "   article_number                                      article_words  \\\n",
       "0            9501  world,complet,pharmaceut,tianjin,tianjin,chin,...   \n",
       "1            9502  copy,sunday,weekend,ec,friday,eu,includ,limit,...   \n",
       "2            9503  heavy,heavy,gabriel,morn,morn,equit,cent,cent,...   \n",
       "3            9504  research,jess,hit,anticip,comput,comput,comput...   \n",
       "4            9505  provid,provid,luxembourg,court,court,case,opin...   \n",
       "\n",
       "           topic  \n",
       "0     IRRELEVANT  \n",
       "1     IRRELEVANT  \n",
       "2  FOREX MARKETS  \n",
       "3     IRRELEVANT  \n",
       "4     IRRELEVANT  "
      ]
     },
     "execution_count": 48,
     "metadata": {},
     "output_type": "execute_result"
    },
    {
     "data": {
      "text/plain": [
       "(500, 3)"
      ]
     },
     "execution_count": 48,
     "metadata": {},
     "output_type": "execute_result"
    }
   ],
   "source": [
    "df_train = pd.read_csv(\"training.csv\")\n",
    "df_train.head()\n",
    "df_train.shape\n",
    "\n",
    "df_test = pd.read_csv(\"test.csv\")\n",
    "df_test.head()\n",
    "df_test.shape"
   ]
  },
  {
   "cell_type": "markdown",
   "metadata": {},
   "source": [
    "## 1.1 Training Test Sets Building\n",
    "\"IRRELEVANT\" is included"
   ]
  },
  {
   "cell_type": "code",
   "execution_count": 49,
   "metadata": {
    "scrolled": true
   },
   "outputs": [
    {
     "data": {
      "text/plain": [
       "array([ 4,  7, 10, ...,  4,  6,  4])"
      ]
     },
     "execution_count": 49,
     "metadata": {},
     "output_type": "execute_result"
    },
    {
     "data": {
      "text/plain": [
       "numpy.ndarray"
      ]
     },
     "execution_count": 49,
     "metadata": {},
     "output_type": "execute_result"
    },
    {
     "data": {
      "text/plain": [
       "(9500,)"
      ]
     },
     "execution_count": 49,
     "metadata": {},
     "output_type": "execute_result"
    },
    {
     "data": {
      "text/html": [
       "<div>\n",
       "<style scoped>\n",
       "    .dataframe tbody tr th:only-of-type {\n",
       "        vertical-align: middle;\n",
       "    }\n",
       "\n",
       "    .dataframe tbody tr th {\n",
       "        vertical-align: top;\n",
       "    }\n",
       "\n",
       "    .dataframe thead th {\n",
       "        text-align: right;\n",
       "    }\n",
       "</style>\n",
       "<table border=\"1\" class=\"dataframe\">\n",
       "  <thead>\n",
       "    <tr style=\"text-align: right;\">\n",
       "      <th></th>\n",
       "      <th>article_number</th>\n",
       "      <th>article_words</th>\n",
       "      <th>topic</th>\n",
       "      <th>label</th>\n",
       "    </tr>\n",
       "  </thead>\n",
       "  <tbody>\n",
       "    <tr>\n",
       "      <th>0</th>\n",
       "      <td>1</td>\n",
       "      <td>open,absent,cent,cent,cent,stock,inflow,rate,k...</td>\n",
       "      <td>FOREX MARKETS</td>\n",
       "      <td>4</td>\n",
       "    </tr>\n",
       "    <tr>\n",
       "      <th>1</th>\n",
       "      <td>2</td>\n",
       "      <td>morn,stead,end,end,day,day,day,patch,patch,pat...</td>\n",
       "      <td>MONEY MARKETS</td>\n",
       "      <td>7</td>\n",
       "    </tr>\n",
       "    <tr>\n",
       "      <th>2</th>\n",
       "      <td>3</td>\n",
       "      <td>socc,socc,world,world,recent,law,fifa,fifa,fif...</td>\n",
       "      <td>SPORTS</td>\n",
       "      <td>10</td>\n",
       "    </tr>\n",
       "    <tr>\n",
       "      <th>3</th>\n",
       "      <td>4</td>\n",
       "      <td>open,forint,forint,forint,forint,cent,cent,ste...</td>\n",
       "      <td>FOREX MARKETS</td>\n",
       "      <td>4</td>\n",
       "    </tr>\n",
       "    <tr>\n",
       "      <th>4</th>\n",
       "      <td>5</td>\n",
       "      <td>morn,complet,weekend,minut,minut,minut,arrow,d...</td>\n",
       "      <td>IRRELEVANT</td>\n",
       "      <td>6</td>\n",
       "    </tr>\n",
       "  </tbody>\n",
       "</table>\n",
       "</div>"
      ],
      "text/plain": [
       "   article_number                                      article_words  \\\n",
       "0               1  open,absent,cent,cent,cent,stock,inflow,rate,k...   \n",
       "1               2  morn,stead,end,end,day,day,day,patch,patch,pat...   \n",
       "2               3  socc,socc,world,world,recent,law,fifa,fifa,fif...   \n",
       "3               4  open,forint,forint,forint,forint,cent,cent,ste...   \n",
       "4               5  morn,complet,weekend,minut,minut,minut,arrow,d...   \n",
       "\n",
       "           topic  label  \n",
       "0  FOREX MARKETS      4  \n",
       "1  MONEY MARKETS      7  \n",
       "2         SPORTS     10  \n",
       "3  FOREX MARKETS      4  \n",
       "4     IRRELEVANT      6  "
      ]
     },
     "execution_count": 49,
     "metadata": {},
     "output_type": "execute_result"
    }
   ],
   "source": [
    "text_train = df_train.article_words # training set containing text content\n",
    "label_train = df_train.topic\n",
    "\n",
    "# encode labels to integers 0-10 \n",
    "encoder = LabelEncoder().fit(label_train)\n",
    "y_train = encoder.transform(label_train)\n",
    "y_train\n",
    "type(y_train)\n",
    "y_train.shape\n",
    "\n",
    "# Insert the encoded column in to original dataframe\n",
    "df_train[\"label\"] = y_train\n",
    "df_train.head()"
   ]
  },
  {
   "cell_type": "code",
   "execution_count": 50,
   "metadata": {},
   "outputs": [
    {
     "data": {
      "text/plain": [
       "(500,)"
      ]
     },
     "execution_count": 50,
     "metadata": {},
     "output_type": "execute_result"
    },
    {
     "data": {
      "text/plain": [
       "array([  3,  15,  13,   2,  48,  14, 266,  69,   3,   7,  60])"
      ]
     },
     "execution_count": 50,
     "metadata": {},
     "output_type": "execute_result"
    },
    {
     "data": {
      "text/html": [
       "<div>\n",
       "<style scoped>\n",
       "    .dataframe tbody tr th:only-of-type {\n",
       "        vertical-align: middle;\n",
       "    }\n",
       "\n",
       "    .dataframe tbody tr th {\n",
       "        vertical-align: top;\n",
       "    }\n",
       "\n",
       "    .dataframe thead th {\n",
       "        text-align: right;\n",
       "    }\n",
       "</style>\n",
       "<table border=\"1\" class=\"dataframe\">\n",
       "  <thead>\n",
       "    <tr style=\"text-align: right;\">\n",
       "      <th></th>\n",
       "      <th>article_number</th>\n",
       "      <th>article_words</th>\n",
       "      <th>topic</th>\n",
       "      <th>label</th>\n",
       "    </tr>\n",
       "  </thead>\n",
       "  <tbody>\n",
       "    <tr>\n",
       "      <th>0</th>\n",
       "      <td>9501</td>\n",
       "      <td>world,complet,pharmaceut,tianjin,tianjin,chin,...</td>\n",
       "      <td>IRRELEVANT</td>\n",
       "      <td>6</td>\n",
       "    </tr>\n",
       "    <tr>\n",
       "      <th>1</th>\n",
       "      <td>9502</td>\n",
       "      <td>copy,sunday,weekend,ec,friday,eu,includ,limit,...</td>\n",
       "      <td>IRRELEVANT</td>\n",
       "      <td>6</td>\n",
       "    </tr>\n",
       "    <tr>\n",
       "      <th>2</th>\n",
       "      <td>9503</td>\n",
       "      <td>heavy,heavy,gabriel,morn,morn,equit,cent,cent,...</td>\n",
       "      <td>FOREX MARKETS</td>\n",
       "      <td>4</td>\n",
       "    </tr>\n",
       "    <tr>\n",
       "      <th>3</th>\n",
       "      <td>9504</td>\n",
       "      <td>research,jess,hit,anticip,comput,comput,comput...</td>\n",
       "      <td>IRRELEVANT</td>\n",
       "      <td>6</td>\n",
       "    </tr>\n",
       "    <tr>\n",
       "      <th>4</th>\n",
       "      <td>9505</td>\n",
       "      <td>provid,provid,luxembourg,court,court,case,opin...</td>\n",
       "      <td>IRRELEVANT</td>\n",
       "      <td>6</td>\n",
       "    </tr>\n",
       "  </tbody>\n",
       "</table>\n",
       "</div>"
      ],
      "text/plain": [
       "   article_number                                      article_words  \\\n",
       "0            9501  world,complet,pharmaceut,tianjin,tianjin,chin,...   \n",
       "1            9502  copy,sunday,weekend,ec,friday,eu,includ,limit,...   \n",
       "2            9503  heavy,heavy,gabriel,morn,morn,equit,cent,cent,...   \n",
       "3            9504  research,jess,hit,anticip,comput,comput,comput...   \n",
       "4            9505  provid,provid,luxembourg,court,court,case,opin...   \n",
       "\n",
       "           topic  label  \n",
       "0     IRRELEVANT      6  \n",
       "1     IRRELEVANT      6  \n",
       "2  FOREX MARKETS      4  \n",
       "3     IRRELEVANT      6  \n",
       "4     IRRELEVANT      6  "
      ]
     },
     "execution_count": 50,
     "metadata": {},
     "output_type": "execute_result"
    }
   ],
   "source": [
    "text_test = df_test.article_words\n",
    "\n",
    "# encode labels to integers 0-10 \n",
    "y_test = encoder.transform(df_test.topic)\n",
    "y_test.shape\n",
    "\n",
    "# number of entries in each calss, including irrelevant\n",
    "np.bincount(y_test)\n",
    "\n",
    "# Insert the encoded column in to original dataframe\n",
    "df_test[\"label\"] = y_test\n",
    "df_test.head()"
   ]
  },
  {
   "attachments": {
    "image.png": {
     "image/png": "[encoded data removed]"
    }
   },
   "cell_type": "markdown",
   "metadata": {},
   "source": [
    "# 2. Feature Engineering as Bag of Words (BoW)\n",
    "## 2.1 Count Vector\n",
    "Ignore shape of texts, focus on individual words (sometimes multiple words back to back)\n",
    "\n",
    "- Tokenization\n",
    "- Vocabulary building\n",
    "    - **all** words that appear in **all** of the documents in the corpus, and number them (say, in alphabetic order)\n",
    "- Encodeing\n",
    "    - for each **document**, count how often each word in the vocabulary appear in this document:\n",
    "        - 0 if not present\n",
    "    \n",
    "See the example below: adoped from the same chapter of the book\n",
    "![image.png](attachment:image.png)\n",
    "\n",
    "<div align=\"center\">\n",
    "    Process of BoW\n",
    "</div>"
   ]
  },
  {
   "cell_type": "code",
   "execution_count": 51,
   "metadata": {},
   "outputs": [
    {
     "name": "stdout",
     "output_type": "stream",
     "text": [
      "vocabulary size: 35822\n"
     ]
    }
   ],
   "source": [
    "vect = CountVectorizer().fit(text_train)\n",
    "print(f\"vocabulary size: {len(vect.vocabulary_)}\")"
   ]
  },
  {
   "cell_type": "code",
   "execution_count": 52,
   "metadata": {
    "scrolled": true
   },
   "outputs": [
    {
     "name": "stdout",
     "output_type": "stream",
     "text": [
      "The first 20 features:\n",
      "['_____', '______', '_______', '____________', '_bret', 'a1', 'a1b1', 'a2', 'a3', 'a300', 'a300b4', 'a320', 'a330', 'a340', 'a4', 'a5', 'a6', 'a7', 'a78', 'a7e']\n",
      "\n",
      "Features 20010 to 20030:\n",
      "['menzy', 'mep', 'mer', 'meralc', 'merc', 'mercad', 'mercado', 'mercantil', 'mercaton', 'merced', 'mercen', 'merch', 'merchandis', 'merci', 'mercilon', 'merck', 'merckx', 'mercosur', 'mercur', 'mercurio']\n",
      "\n",
      "Every 2000th feature:\n",
      "['_____', 'athibid', 'boulai', 'clar', 'derrick', 'essilor', 'generat', 'hochschild', 'joing', 'lepag', 'menot', 'nissim', 'persever', 'real', 'schipol', 'stamped', 'tollefson', 'vire']\n"
     ]
    }
   ],
   "source": [
    "features = vect.get_feature_names()\n",
    "print(f\"The first 20 features:\\n{features[:20]}\")\n",
    "print(\"\\nFeatures 20010 to 20030:\\n{}\".format(features[20010:20030]))\n",
    "print(\"\\nEvery 2000th feature:\\n{}\".format(features[::2000]))"
   ]
  },
  {
   "cell_type": "markdown",
   "metadata": {},
   "source": [
    "**It can be observed that there are some none alpha-numeric characters**, \n",
    "\n",
    "these features might not be very descripative so next we'll remove them:"
   ]
  },
  {
   "cell_type": "code",
   "execution_count": 53,
   "metadata": {
    "scrolled": true
   },
   "outputs": [
    {
     "name": "stdout",
     "output_type": "stream",
     "text": [
      "The first 40 features:\n",
      "['a1', 'a1b1', 'a2', 'a3', 'a300', 'a300b4', 'a320', 'a330', 'a340', 'a4', 'a5', 'a6', 'a7', 'a78', 'a7e', 'aa', 'aa1', 'aa2', 'aa3', 'aaa', 'aacount', 'aad', 'aadj', 'aag', 'aah', 'aahp', 'aair', 'aalborg', 'aalst', 'aalton', 'aaltonaa', 'aama', 'aamir', 'aamodt', 'aandewiel', 'aap', 'aapc', 'aapt', 'aaqib', 'aaquib']\n",
      "\n",
      "Features 20010 to 20050:\n",
      "['mercad', 'mercado', 'mercantil', 'mercaton', 'merced', 'mercen', 'merch', 'merchandis', 'merci', 'mercilon', 'merck', 'merckx', 'mercosur', 'mercur', 'mercurio', 'mercy', 'merdior', 'mere', 'merebank', 'meret', 'merg', 'merial', 'merid', 'meridian', 'meridor', 'merin', 'meris', 'merisel', 'merit', 'meriwether']\n",
      "\n",
      "Every 1000th feature:\n",
      "['a1', 'altamir', 'atkin', 'beke', 'boulton', 'cardiothorac', 'clarin', 'credent', 'desant', 'dump', 'est', 'flap', 'genev', 'guotai', 'hockeyroo', 'inflexibl', 'joke', 'koek', 'leppan', 'mainstay', 'mentheor', 'movie', 'nitchipourenk', 'ota', 'person', 'prevar', 'realloc', 'rollin', 'schlesing', 'silty', 'stanchart', 'tadash', 'toma', 'undon', 'virog', 'woodhead']\n"
     ]
    }
   ],
   "source": [
    "# remove \"_\" in each document\n",
    "text_train = df_train.article_words.apply(lambda x: x.replace('_', ''))\n",
    "\n",
    "# refit the vectorizer to text_train\n",
    "vect = CountVectorizer().fit(text_train)\n",
    "features = vect.get_feature_names()\n",
    "\n",
    "print(f\"The first 40 features:\\n{features[:40]}\")\n",
    "print(\"\\nFeatures 20010 to 20050:\\n{}\".format(features[20010:20040]))\n",
    "print(\"\\nEvery 1000th feature:\\n{}\".format(features[::1000]))"
   ]
  },
  {
   "cell_type": "markdown",
   "metadata": {},
   "source": [
    "Now the features are cleaner, next transform the training set into tf-idf matrix:"
   ]
  },
  {
   "cell_type": "code",
   "execution_count": 54,
   "metadata": {},
   "outputs": [
    {
     "name": "stdout",
     "output_type": "stream",
     "text": [
      "X_train:\n",
      " <9500x35817 sparse matrix of type '<class 'numpy.int64'>'\n",
      "\twith 760415 stored elements in Compressed Sparse Row format>\n",
      "Type of X_train:\n",
      " <class 'scipy.sparse.csr.csr_matrix'>\n",
      "CPU times: user 1.1 s, sys: 23.7 ms, total: 1.13 s\n",
      "Wall time: 1.14 s\n"
     ]
    }
   ],
   "source": [
    "%%time\n",
    "X_train = vect.transform(text_train)\n",
    "print(f\"X_train:\\n {repr(X_train)}\")\n",
    "print(f\"Type of X_train:\\n {type(X_train)}\")"
   ]
  },
  {
   "cell_type": "markdown",
   "metadata": {},
   "source": [
    "## 2.2 Try to fit a model\n",
    "The matrix still need to be further engineered, more on that later.\n",
    "\n",
    "For now, let’s obtain a quantitative measure of performance by actually building a classifier.\n",
    "\n",
    "### 2.2.1 logistic regression\n",
    "The data matrix is now very **high dimensional** (35817 features), and **sparse** (most values in the matrix X_train are 0). For dataset like this, linear models like `LogisticRegression` often work best."
   ]
  },
  {
   "cell_type": "code",
   "execution_count": 55,
   "metadata": {},
   "outputs": [
    {
     "name": "stdout",
     "output_type": "stream",
     "text": [
      "Mean accuracy (std):  0.751 ( 0.005)\n",
      "CPU times: user 987 ms, sys: 108 ms, total: 1.1 s\n",
      "Wall time: 43 s\n"
     ]
    }
   ],
   "source": [
    "%%time\n",
    "# Ingore convergence warnings\n",
    "warnings.filterwarnings(\"ignore\", category=ConvergenceWarning,\n",
    "                        module=\"sklearn\")\n",
    "\n",
    "# Get accuracy scores for each of 5-fold CV\n",
    "# b_jobs specifies how many processors are used in paralle, -1 means all\n",
    "\n",
    "accs = cross_val_score(LogisticRegression(n_jobs=-1), X_train, y_train, cv=5)\n",
    "print(f\"Mean accuracy (std): {np.mean(accs): .3f} ({np.std(accs): .3f})\")"
   ]
  },
  {
   "cell_type": "code",
   "execution_count": null,
   "metadata": {},
   "outputs": [],
   "source": []
  },
  {
   "cell_type": "markdown",
   "metadata": {},
   "source": [
    "### 2.2.2 Tune the model\n",
    "We get an accuracy of 0.75, let's see if it can be improved.\n",
    "\n",
    "We know that logistic regression has a regularization term $C\\sum_{i=1}^{D}\\lambda_i^2$ (l2 regularization), and 'C' is a parameter we can optimize here.\n",
    "\n",
    "C = \\[0.001, 0.01, 0.1, 1.0, 10.0\\], (C=1.0 by LogisticRegression default)"
   ]
  },
  {
   "cell_type": "code",
   "execution_count": 56,
   "metadata": {},
   "outputs": [
    {
     "data": {
      "text/plain": [
       "{'C': array([1.e-03, 1.e-02, 1.e-01, 1.e+00, 1.e+01])}"
      ]
     },
     "execution_count": 56,
     "metadata": {},
     "output_type": "execute_result"
    }
   ],
   "source": [
    "param_grid = {'C': np.geomspace(0.001,10,num=5,endpoint=True)}\n",
    "param_grid"
   ]
  },
  {
   "cell_type": "code",
   "execution_count": 57,
   "metadata": {},
   "outputs": [
    {
     "name": "stdout",
     "output_type": "stream",
     "text": [
      "CPU times: user 284 ms, sys: 49.5 ms, total: 333 ms\n",
      "Wall time: 3min 22s\n"
     ]
    },
    {
     "data": {
      "text/plain": [
       "GridSearchCV(cv=5, error_score=nan,\n",
       "             estimator=LogisticRegression(C=1.0, class_weight=None, dual=False,\n",
       "                                          fit_intercept=True,\n",
       "                                          intercept_scaling=1, l1_ratio=None,\n",
       "                                          max_iter=100, multi_class='auto',\n",
       "                                          n_jobs=-1, penalty='l2',\n",
       "                                          random_state=None, solver='lbfgs',\n",
       "                                          tol=0.0001, verbose=0,\n",
       "                                          warm_start=False),\n",
       "             iid='deprecated', n_jobs=-1,\n",
       "             param_grid={'C': array([1.e-03, 1.e-02, 1.e-01, 1.e+00, 1.e+01])},\n",
       "             pre_dispatch='2*n_jobs', refit=True, return_train_score=False,\n",
       "             scoring=None, verbose=0)"
      ]
     },
     "execution_count": 57,
     "metadata": {},
     "output_type": "execute_result"
    }
   ],
   "source": [
    "%%time\n",
    "grid = GridSearchCV(LogisticRegression(n_jobs=-1), param_grid=param_grid, cv=5, n_jobs=-1)\n",
    "grid.fit(X_train, y_train)"
   ]
  },
  {
   "cell_type": "code",
   "execution_count": 58,
   "metadata": {},
   "outputs": [
    {
     "name": "stdout",
     "output_type": "stream",
     "text": [
      "best parameter: {'C': 0.1}\n",
      "best 5-fold CV score (accuracy):  0.758\n"
     ]
    }
   ],
   "source": [
    "print(f\"best parameter: {grid.best_params_}\")\n",
    "print(f\"best 5-fold CV score (accuracy): {grid.best_score_: .3f}\")"
   ]
  },
  {
   "cell_type": "markdown",
   "metadata": {},
   "source": [
    "### 2.2.3 Test on test set\n",
    "GridSearchCV by default <font color='blue'>**refit**</font> the model passed in with best parameters, and can be used directly on test sets."
   ]
  },
  {
   "cell_type": "code",
   "execution_count": 59,
   "metadata": {},
   "outputs": [
    {
     "name": "stdout",
     "output_type": "stream",
     "text": [
      "Logistic regression accuracy on test set: 0.746\n",
      "CPU times: user 84.2 ms, sys: 4.4 ms, total: 88.6 ms\n",
      "Wall time: 91 ms\n"
     ]
    }
   ],
   "source": [
    "%%time\n",
    "X_test = vect.transform(text_test)\n",
    "acc_test = grid.score(X_test, y_test)\n",
    "print(f\"Logistic regression accuracy on test set: {acc_test:.3f}\")"
   ]
  },
  {
   "cell_type": "markdown",
   "metadata": {},
   "source": [
    "## 2.3 Improve the feature extraction\n",
    "CounterVectorizer extacts tokens use `r\"\\b\\w\\w+\\b\"` which means 2 or more conscecutive characters between two word boundaries `(\"\\'\", ',', '_', '.', ' ', '-' ...)`\n",
    "\n",
    "### 2.3.1 Set a minimum number of documents a token needs to be appear in, with the `min_df` parameter, in order to be considered as a feature."
   ]
  },
  {
   "cell_type": "code",
   "execution_count": 60,
   "metadata": {},
   "outputs": [
    {
     "name": "stdout",
     "output_type": "stream",
     "text": [
      "X_train:\n",
      " <9500x35817 sparse matrix of type '<class 'numpy.int64'>'\n",
      "\twith 760415 stored elements in Compressed Sparse Row format>\n",
      "X_train with min_df=5:\n",
      " <9500x9495 sparse matrix of type '<class 'numpy.int64'>'\n",
      "\twith 719745 stored elements in Compressed Sparse Row format>\n",
      "CPU times: user 2.37 s, sys: 60.6 ms, total: 2.43 s\n",
      "Wall time: 2.5 s\n"
     ]
    }
   ],
   "source": [
    "%%time\n",
    "vect_1 = CountVectorizer(min_df=5).fit(text_train)\n",
    "X_train_1 = vect_1.transform(text_train)\n",
    "\n",
    "print(f\"X_train:\\n {repr(X_train)}\")\n",
    "print(f\"X_train with min_df=5:\\n {repr(X_train_1)}\")"
   ]
  },
  {
   "cell_type": "code",
   "execution_count": 61,
   "metadata": {},
   "outputs": [
    {
     "name": "stdout",
     "output_type": "stream",
     "text": [
      "First 50 features:\n",
      "['a1', 'a2', 'a3', 'aa', 'aa1', 'aa2', 'aa3', 'aaa', 'aamir', 'aamodt', 'ab', 'abach', 'abandon', 'abat', 'abb', 'abba', 'abbey', 'abbrev', 'abc', 'abdel', 'abdomin', 'abduc', 'abdul', 'abdullah', 'abel', 'aberdeen', 'abid', 'abidj', 'abigail', 'abil', 'abn', 'abnorm', 'aboard', 'abol', 'abort', 'abou', 'abound', 'abraham', 'abroad', 'abrupt', 'absent', 'absolut', 'absorb', 'abstain', 'abstract', 'absurd', 'abu', 'abund', 'abus', 'ac']\n",
      "\n",
      "Features 5010 to 5050:\n",
      "['luc', 'luca', 'lucid', 'luck', 'lucky', 'lucrat', 'ludov', 'lufkin', 'lufthans', 'lui', 'luig', 'lukashenk', 'lukewarm', 'lukoil', 'lull', 'lumb', 'lump', 'lumpur', 'lunar', 'lunch', 'luncheon', 'lunchtim', 'lung', 'lurch', 'lure', 'lurk', 'luther', 'luton', 'lux', 'luxembourg', 'luxur', 'lvl', 'lvmh', 'lyddon', 'lying', 'lyl', 'lyn', 'lynch', 'lyon', 'lyonnai']\n",
      "\n",
      "Every 300th feature:\n",
      "['a1', 'amount', 'avert', 'binh', 'bumpy', 'cheer', 'congratul', 'dare', 'disney', 'els', 'fall', 'fras', 'grappl', 'hirosh', 'ingred', 'julia', 'leapt', 'maid', 'mig', 'near', 'orgill', 'persecut', 'princip', 'record', 'robertson', 'sdl', 'slic', 'stifl', 'tast', 'trevor', 'vaclav', 'wieslaw']\n"
     ]
    }
   ],
   "source": [
    "features_1 = vect_1.get_feature_names()\n",
    "print(\"First 50 features:\\n{}\".format(features_1[:50])) \n",
    "print(\"\\nFeatures 5010 to 5050:\\n{}\".format(features_1[5010:5050])) \n",
    "print(\"\\nEvery 300th feature:\\n{}\".format(features_1[::300]))"
   ]
  },
  {
   "cell_type": "markdown",
   "metadata": {},
   "source": [
    "### 2.3.2 Train the model again"
   ]
  },
  {
   "cell_type": "code",
   "execution_count": 62,
   "metadata": {},
   "outputs": [
    {
     "name": "stdout",
     "output_type": "stream",
     "text": [
      "Best cross-validation score: 0.759\n",
      "Best parameters: {'C': 0.1}\n",
      "CPU times: user 324 ms, sys: 43.4 ms, total: 367 ms\n",
      "Wall time: 1min 6s\n"
     ]
    }
   ],
   "source": [
    "%%time\n",
    "grid = GridSearchCV(LogisticRegression(n_jobs=-1), param_grid, cv=5, n_jobs=-1) \n",
    "grid.fit(X_train_1, y_train)\n",
    "print(\"Best cross-validation score: {:.3f}\".format(grid.best_score_))\n",
    "print(f\"Best parameters: {grid.best_params_}\")"
   ]
  },
  {
   "cell_type": "code",
   "execution_count": 63,
   "metadata": {},
   "outputs": [
    {
     "name": "stdout",
     "output_type": "stream",
     "text": [
      "Logistic regression accuracy on test set: 0.748\n"
     ]
    }
   ],
   "source": [
    "X_test_1 = vect_1.transform(text_test)\n",
    "acc_test = grid.score(X_test_1, y_test)\n",
    "print(f\"Logistic regression accuracy on test set: {acc_test:.3f}\")"
   ]
  },
  {
   "cell_type": "markdown",
   "metadata": {},
   "source": [
    "# 3. Optimize the Model\n",
    "\n",
    "This is a multiclass problem, logistic regression has several parameters that we can adjust:\n",
    "- `solver`. Algorithm to use in the optimization problem. For multiclass problems, only `newton-cg`, `sag`, `saga` and `lbfgs` handle multinomial loss.\n",
    "- `class_weight: {\"balanced\", None}, default=None`. \"balanced\" will adjust weights inversly proportional to class frequencies, i.e penalise large class.\n",
    "- `multi_class: {‘auto’, ‘ovr’, ‘multinomial’}, default=’auto’`. \n",
    "    - `ovr`: one-versus-rest, essentially a binary problem is fit for each label\n",
    "    - `multinomial`: the loss function is the multinomial loss fit across the entire probability distribution\n",
    "- `C: default=1.0`. Inverse of regularization strength; must be a positive float. Like in support vector machines, smaller values specify stronger regularization.\n",
    "- `penalty`: Used to specify the norm used in the penalization. The ‘newton-cg’, ‘sag’, 'saga' and ‘lbfgs’ solvers support only l2 penalties.\n",
    "\n",
    "Since tf-idf, class_weight (when set to \"balanced\") use statistical information of the whole training set, but in cross-validation we do not want the validat set (simulating unseen samples) to leak information before prediction, in order to perform a valid grid search, here we use [Pipeline](https://scikit-learn.org/stable/modules/generated/sklearn.pipeline.Pipeline.html) class."
   ]
  },
  {
   "cell_type": "code",
   "execution_count": 64,
   "metadata": {},
   "outputs": [],
   "source": [
    "from sklearn.feature_extraction.text import TfidfVectorizer\n",
    "from sklearn.pipeline import make_pipeline, Pipeline"
   ]
  },
  {
   "cell_type": "code",
   "execution_count": 68,
   "metadata": {},
   "outputs": [
    {
     "data": {
      "text/plain": [
       "Pipeline(memory=None,\n",
       "         steps=[('tfidf',\n",
       "                 TfidfVectorizer(analyzer='word', binary=False,\n",
       "                                 decode_error='strict',\n",
       "                                 dtype=<class 'numpy.float64'>,\n",
       "                                 encoding='utf-8', input='content',\n",
       "                                 lowercase=True, max_df=1.0, max_features=None,\n",
       "                                 min_df=5, ngram_range=(1, 1), norm=None,\n",
       "                                 preprocessor=None, smooth_idf=True,\n",
       "                                 stop_words=None, strip_accents=None,\n",
       "                                 sublinear_tf=False,\n",
       "                                 token_pattern='(?u)\\\\b\\\\w\\\\w+\\\\b',\n",
       "                                 tokenizer=None, use_idf=True,\n",
       "                                 vocabulary=None)),\n",
       "                ('LR',\n",
       "                 LogisticRegression(C=1.0, class_weight=None, dual=False,\n",
       "                                    fit_intercept=True, intercept_scaling=1,\n",
       "                                    l1_ratio=None, max_iter=100,\n",
       "                                    multi_class='auto', n_jobs=-1, penalty='l2',\n",
       "                                    random_state=None, solver='lbfgs',\n",
       "                                    tol=0.0001, verbose=0, warm_start=False))],\n",
       "         verbose=False)"
      ]
     },
     "execution_count": 68,
     "metadata": {},
     "output_type": "execute_result"
    }
   ],
   "source": [
    "# standard pipeline interface\n",
    "estimators = [\n",
    "              (\"tfidf\", TfidfVectorizer(min_df=5, norm=None)),\n",
    "              (\"LR\", LogisticRegression(n_jobs=-1))\n",
    "             ]\n",
    "\n",
    "pipe = Pipeline(estimators)\n",
    "\n",
    "# Notice here parameters need to be specified to which step in the pipeline they belong to\n",
    "param_grid = {\n",
    "#               \"tfidf__min_df\": [3, 5, 7],\n",
    "#               \"LR__solver\": ['newton-cg', 'sag', 'saga', 'lbfgs'],\n",
    "              \"LR__class_weight\": [\"balanced\", None],\n",
    "              \"LR__multi_class\": [\"ovr\", \"multinomial\"],\n",
    "              \"LR__C\": [0.001, 0.01, 0.1, 1, 10],\n",
    "#               \"LR__penalty\": [\"l1\", \"l2\"]\n",
    "             }\n",
    "pipe"
   ]
  },
  {
   "cell_type": "code",
   "execution_count": 69,
   "metadata": {},
   "outputs": [
    {
     "name": "stdout",
     "output_type": "stream",
     "text": [
      "CPU times: user 4.69 s, sys: 2.52 s, total: 7.21 s\n",
      "Wall time: 8min 37s\n"
     ]
    },
    {
     "data": {
      "text/plain": [
       "GridSearchCV(cv=10, error_score=nan,\n",
       "             estimator=Pipeline(memory=None,\n",
       "                                steps=[('tfidf',\n",
       "                                        TfidfVectorizer(analyzer='word',\n",
       "                                                        binary=False,\n",
       "                                                        decode_error='strict',\n",
       "                                                        dtype=<class 'numpy.float64'>,\n",
       "                                                        encoding='utf-8',\n",
       "                                                        input='content',\n",
       "                                                        lowercase=True,\n",
       "                                                        max_df=1.0,\n",
       "                                                        max_features=None,\n",
       "                                                        min_df=5,\n",
       "                                                        ngram_range=(1, 1),\n",
       "                                                        norm=None,\n",
       "                                                        preprocessor=None,\n",
       "                                                        smooth_idf=True,\n",
       "                                                        stop_words=None,\n",
       "                                                        strip_ac...\n",
       "                                                           multi_class='auto',\n",
       "                                                           n_jobs=-1,\n",
       "                                                           penalty='l2',\n",
       "                                                           random_state=None,\n",
       "                                                           solver='lbfgs',\n",
       "                                                           tol=0.0001,\n",
       "                                                           verbose=0,\n",
       "                                                           warm_start=False))],\n",
       "                                verbose=False),\n",
       "             iid='deprecated', n_jobs=-1,\n",
       "             param_grid={'LR__C': [0.001, 0.01, 0.1, 1, 10],\n",
       "                         'LR__class_weight': ['balanced', None],\n",
       "                         'LR__multi_class': ['ovr', 'multinomial']},\n",
       "             pre_dispatch='2*n_jobs', refit=True, return_train_score=False,\n",
       "             scoring=None, verbose=0)"
      ]
     },
     "execution_count": 69,
     "metadata": {},
     "output_type": "execute_result"
    }
   ],
   "source": [
    "%%time\n",
    "grid = GridSearchCV(pipe, param_grid, cv=10, n_jobs=-1)\n",
    "\n",
    "# through in original text samples\n",
    "grid.fit(text_train, y_train)"
   ]
  },
  {
   "cell_type": "code",
   "execution_count": 86,
   "metadata": {
    "scrolled": false
   },
   "outputs": [
    {
     "name": "stdout",
     "output_type": "stream",
     "text": [
      "Optimal logistic regression steps:\n",
      "Pipeline(memory=None,\n",
      "         steps=[('tfidf',\n",
      "                 TfidfVectorizer(analyzer='word', binary=False,\n",
      "                                 decode_error='strict',\n",
      "                                 dtype=<class 'numpy.float64'>,\n",
      "                                 encoding='utf-8', input='content',\n",
      "                                 lowercase=True, max_df=1.0, max_features=None,\n",
      "                                 min_df=5, ngram_range=(1, 1), norm=None,\n",
      "                                 preprocessor=None, smooth_idf=True,\n",
      "                                 stop_words=None, strip_accents=None,\n",
      "                                 sublinear_tf=False,\n",
      "                                 token_pattern='(?u)\\\\b\\\\w\\\\w+\\\\b',\n",
      "                                 tokenizer=None, use_idf=True,\n",
      "                                 vocabulary=None)),\n",
      "                ('LR',\n",
      "                 LogisticRegression(C=0.001, class_weight='balanced',\n",
      "                                    dual=False, fit_intercept=True,\n",
      "                                    intercept_scaling=1, l1_ratio=None,\n",
      "                                    max_iter=100, multi_class='ovr', n_jobs=-1,\n",
      "                                    penalty='l2', random_state=None,\n",
      "                                    solver='lbfgs', tol=0.0001, verbose=0,\n",
      "                                    warm_start=False))],\n",
      "         verbose=False)\n",
      "Best parameter: {'LR__C': 0.001, 'LR__class_weight': 'balanced', 'LR__multi_class': 'ovr'}\n",
      "Accuracy on training set: 0.775\n",
      "Accuracy on test set: 0.788\n"
     ]
    }
   ],
   "source": [
    "# Extract the optimal steps we have obtained sofar\n",
    "clf_logi = grid.best_estimator_\n",
    "print(f\"Optimal logistic regression steps:\\n{clf_logi}\")\n",
    "\n",
    "# Report accuracy scores on training and test set\n",
    "acc_train = grid.best_score_\n",
    "print(f\"Best parameter: {grid.best_params_}\")\n",
    "print(f\"Accuracy on training set: {acc_train:.3f}\")\n",
    "\n",
    "y_pred = clf_logi.predict(text_test)\n",
    "y_pred_pr = clf_logi.predict_proba(text_test)\n",
    "acc_test = clf_logi.score(text_test, y_test)\n",
    "print(f\"Accuracy on test set: {acc_test:.3f}\")"
   ]
  },
  {
   "cell_type": "markdown",
   "metadata": {},
   "source": [
    "# 4 Analyzing the Result\n",
    "The training accuracy is not very high (0.788), for now that's all I can get. Nevertheless, we shuld analyse the model:\n",
    "\n",
    "## 4.1 Classification Report"
   ]
  },
  {
   "cell_type": "code",
   "execution_count": 194,
   "metadata": {},
   "outputs": [],
   "source": [
    "from sklearn.metrics import classification_report\n",
    "from sklearn.metrics import precision_recall_fscore_support as prfs # compute scores for each class"
   ]
  },
  {
   "cell_type": "code",
   "execution_count": 88,
   "metadata": {},
   "outputs": [
    {
     "name": "stdout",
     "output_type": "stream",
     "text": [
      "Classification Report:\n",
      "              precision    recall  f1-score   support\n",
      "\n",
      "           0       0.50      1.00      0.67         3\n",
      "           1       0.80      0.53      0.64        15\n",
      "           2       0.82      0.69      0.75        13\n",
      "           3       0.50      1.00      0.67         2\n",
      "           4       0.51      0.62      0.56        48\n",
      "           5       0.64      0.50      0.56        14\n",
      "           6       0.92      0.85      0.88       266\n",
      "           7       0.57      0.62      0.59        69\n",
      "           8       0.00      0.00      0.00         3\n",
      "           9       0.56      0.71      0.63         7\n",
      "          10       0.95      1.00      0.98        60\n",
      "\n",
      "    accuracy                           0.79       500\n",
      "   macro avg       0.61      0.69      0.63       500\n",
      "weighted avg       0.81      0.79      0.79       500\n",
      "\n"
     ]
    }
   ],
   "source": [
    "print(f\"Classification Report:\\n{classification_report(y_test, y_pred)}\")"
   ]
  },
  {
   "cell_type": "markdown",
   "metadata": {},
   "source": [
    "## <font color='red'>Problem: None of the 3 \"Science and technology\" articles is correctly predicted.</font>"
   ]
  },
  {
   "cell_type": "markdown",
   "metadata": {},
   "source": [
    "## 4.2 Confusion Matrix"
   ]
  },
  {
   "cell_type": "code",
   "execution_count": 99,
   "metadata": {},
   "outputs": [],
   "source": [
    "import seaborn as sns\n",
    "import matplotlib.pyplot as plt"
   ]
  },
  {
   "cell_type": "code",
   "execution_count": 142,
   "metadata": {},
   "outputs": [
    {
     "name": "stdout",
     "output_type": "stream",
     "text": [
      "[[  3   0   0   0   0   0   0   0   0   0   0]\n",
      " [  2   8   0   0   0   0   5   0   0   0   0]\n",
      " [  0   0   9   0   0   0   4   0   0   0   0]\n",
      " [  0   0   0   2   0   0   0   0   0   0   0]\n",
      " [  0   0   0   0  30   0   3  14   0   1   0]\n",
      " [  0   0   0   0   0   7   3   0   4   0   0]\n",
      " [  0   2   2   2   5   3 227  19   0   3   3]\n",
      " [  0   0   0   0  24   0   2  43   0   0   0]\n",
      " [  1   0   0   0   0   1   1   0   0   0   0]\n",
      " [  0   0   0   0   0   0   2   0   0   5   0]\n",
      " [  0   0   0   0   0   0   0   0   0   0  60]]\n"
     ]
    }
   ],
   "source": [
    "# Compute confusion matrix on test set\n",
    "conf_matrix = confusion_matrix(y_test, y_pred)\n",
    "print(conf_matrix)"
   ]
  },
  {
   "cell_type": "code",
   "execution_count": 226,
   "metadata": {},
   "outputs": [
    {
     "data": {
      "text/plain": [
       "<matplotlib.axes._subplots.AxesSubplot at 0x1a3a51f790>"
      ]
     },
     "execution_count": 226,
     "metadata": {},
     "output_type": "execute_result"
    },
    {
     "data": {
      "text/plain": [
       "Text(0.5, 1, 'Confusion Matrix on Test Set | Classifier: tfidf+LR')"
      ]
     },
     "execution_count": 226,
     "metadata": {},
     "output_type": "execute_result"
    },
    {
     "data": {
      "text/plain": [
       "Text(0.5, 33.0, 'Actual: False positives for y != x')"
      ]
     },
     "execution_count": 226,
     "metadata": {},
     "output_type": "execute_result"
    },
    {
     "data": {
      "text/plain": [
       "Text(95.99999999999999, 0.5, 'Prediction: False negatives for x != y')"
      ]
     },
     "execution_count": 226,
     "metadata": {},
     "output_type": "execute_result"
    },
    {
     "data": {
      "image/png": "[encoded data removed]",
      "text/plain": [
       "<Figure size 936x432 with 2 Axes>"
      ]
     },
     "metadata": {
      "needs_background": "light"
     },
     "output_type": "display_data"
    }
   ],
   "source": [
    "fig1 = plt.figure(figsize=(13,6))\n",
    "sns.heatmap(conf_matrix,\n",
    "#             square=True,\n",
    "            annot=True, # show numbers in each cell\n",
    "            fmt='d', # set number format to integer in each cell\n",
    "            yticklabels=encoder.classes_,\n",
    "            xticklabels=clf_logi.classes_,\n",
    "            cmap=\"Blues\",\n",
    "#             linecolor=\"k\",\n",
    "            linewidths=.1,\n",
    "           )\n",
    "plt.title(\n",
    "          f\"Confusion Matrix on Test Set | \" \n",
    "          f\"Classifier: {'+'.join([step for step in clf_logi.named_steps.keys()])}\", \n",
    "          fontsize=14)\n",
    "plt.xlabel(\"Actual: False positives for y != x\", fontsize=12)\n",
    "plt.ylabel(\"Prediction: False negatives for x != y\", fontsize=12)\n",
    "plt.show()"
   ]
  },
  {
   "cell_type": "code",
   "execution_count": 195,
   "metadata": {},
   "outputs": [],
   "source": [
    "precision, recall, f1, support = prfs(y_test, y_pred)\n",
    "\n",
    "# TO DO: plot"
   ]
  },
  {
   "cell_type": "markdown",
   "metadata": {},
   "source": [
    "# 5 Export the Model\n",
    "## 5.1 Create a dataset with model summaries to compare models:"
   ]
  },
  {
   "cell_type": "code",
   "execution_count": 216,
   "metadata": {
    "scrolled": true
   },
   "outputs": [
    {
     "data": {
      "text/html": [
       "<div>\n",
       "<style scoped>\n",
       "    .dataframe tbody tr th:only-of-type {\n",
       "        vertical-align: middle;\n",
       "    }\n",
       "\n",
       "    .dataframe tbody tr th {\n",
       "        vertical-align: top;\n",
       "    }\n",
       "\n",
       "    .dataframe thead th {\n",
       "        text-align: right;\n",
       "    }\n",
       "</style>\n",
       "<table border=\"1\" class=\"dataframe\">\n",
       "  <thead>\n",
       "    <tr style=\"text-align: right;\">\n",
       "      <th></th>\n",
       "      <th>Model</th>\n",
       "      <th>Training accuracy</th>\n",
       "      <th>Test accuracy</th>\n",
       "    </tr>\n",
       "  </thead>\n",
       "  <tbody>\n",
       "    <tr>\n",
       "      <th>0</th>\n",
       "      <td>tfidf+LR</td>\n",
       "      <td>0.775</td>\n",
       "      <td>0.788</td>\n",
       "    </tr>\n",
       "  </tbody>\n",
       "</table>\n",
       "</div>"
      ],
      "text/plain": [
       "      Model Training accuracy Test accuracy\n",
       "0  tfidf+LR             0.775         0.788"
      ]
     },
     "execution_count": 216,
     "metadata": {},
     "output_type": "execute_result"
    }
   ],
   "source": [
    "model_summary = {\n",
    "    \"Model\": '+'.join([step for step in clf_logi.named_steps.keys()]),\n",
    "    \"Training accuracy\": f\"{acc_train:.3f}\",\n",
    "    \"Test accuracy\": f\"{acc_test:.3f}\"\n",
    "}\n",
    "\n",
    "model_collection = pd.DataFrame(model_summary, index=[0])\n",
    "model_collection"
   ]
  },
  {
   "cell_type": "markdown",
   "metadata": {},
   "source": [
    "## 5.2 Export the Model\n",
    "Save the model and the collection dataset."
   ]
  },
  {
   "cell_type": "code",
   "execution_count": 3,
   "metadata": {},
   "outputs": [],
   "source": [
    "import os\n",
    "from joblib import dump, load"
   ]
  },
  {
   "cell_type": "code",
   "execution_count": 10,
   "metadata": {},
   "outputs": [
    {
     "name": "stdout",
     "output_type": "stream",
     "text": [
      "Warn: this model already exits...\n"
     ]
    }
   ],
   "source": [
    "file_name = \"Models/best_logi.joblib\"\n",
    "if not os.path.exists(file_name):\n",
    "    # Export the model (TFIDF+logistic regressor)\n",
    "    with open(file_name, \"wb\") as file:\n",
    "        joblib.dump(clf_logi, file, compress=True)\n",
    "else:\n",
    "    print(\"Warn: this model already exits...\")"
   ]
  },
  {
   "cell_type": "code",
   "execution_count": 8,
   "metadata": {},
   "outputs": [],
   "source": []
  },
  {
   "cell_type": "code",
   "execution_count": 6,
   "metadata": {},
   "outputs": [],
   "source": []
  },
  {
   "cell_type": "code",
   "execution_count": null,
   "metadata": {},
   "outputs": [],
   "source": []
  }
 ],
 "metadata": {
  "kernelspec": {
   "display_name": "Python 3",
   "language": "python",
   "name": "python3"
  },
  "language_info": {
   "codemirror_mode": {
    "name": "ipython",
    "version": 3
   },
   "file_extension": ".py",
   "mimetype": "text/x-python",
   "name": "python",
   "nbconvert_exporter": "python",
   "pygments_lexer": "ipython3",
   "version": "3.7.7"
  }
 },
 "nbformat": 4,
 "nbformat_minor": 4
}
