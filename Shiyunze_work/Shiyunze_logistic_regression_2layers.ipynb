{
 "cells": [
  {
   "cell_type": "markdown",
   "metadata": {},
   "source": [
    "# Layer 1\n",
    "Predicting relevant and irrelevant topics"
   ]
  },
  {
   "cell_type": "code",
   "execution_count": 18,
   "metadata": {},
   "outputs": [],
   "source": [
    "import warnings\n",
    "\n",
    "import numpy as np\n",
    "import pandas as pd\n",
    "import sklearn\n",
    "from joblib import load, dump\n",
    "from sklearn.linear_model import LogisticRegression\n",
    "from sklearn.feature_extraction.text import CountVectorizer, TfidfVectorizer\n",
    "from sklearn.model_selection import cross_val_score # get a specific score of a model using CV\n",
    "from sklearn.model_selection import GridSearchCV, train_test_split, StratifiedShuffleSplit\n",
    "# from sklearn.feature_extraction.text import ENGLISH_STOP_WORDS # a list of english stop words\n",
    "from sklearn.preprocessing import LabelEncoder\n",
    "\n",
    "from sklearn.exceptions import ConvergenceWarning"
   ]
  },
  {
   "cell_type": "code",
   "execution_count": 9,
   "metadata": {},
   "outputs": [],
   "source": [
    "df_train = pd.read_csv(\"../training.csv\")\n",
    "\n",
    "df_test = pd.read_csv(\"../test.csv\")"
   ]
  },
  {
   "cell_type": "markdown",
   "metadata": {},
   "source": [
    "## encode labels to relevant: 0, irrelevent: 1"
   ]
  },
  {
   "cell_type": "code",
   "execution_count": 10,
   "metadata": {},
   "outputs": [
    {
     "data": {
      "text/plain": [
       "4734"
      ]
     },
     "execution_count": 10,
     "metadata": {},
     "output_type": "execute_result"
    }
   ],
   "source": [
    "text_train = df_train.article_words\n",
    "label_train = df_train.topic\n",
    "\n",
    "\n",
    "y_train = np.where(df_train.topic == \"IRRELEVANT\", 1, 0)\n",
    "y_train.sum()"
   ]
  },
  {
   "cell_type": "code",
   "execution_count": 11,
   "metadata": {},
   "outputs": [
    {
     "data": {
      "text/html": [
       "<div>\n",
       "<style scoped>\n",
       "    .dataframe tbody tr th:only-of-type {\n",
       "        vertical-align: middle;\n",
       "    }\n",
       "\n",
       "    .dataframe tbody tr th {\n",
       "        vertical-align: top;\n",
       "    }\n",
       "\n",
       "    .dataframe thead th {\n",
       "        text-align: right;\n",
       "    }\n",
       "</style>\n",
       "<table border=\"1\" class=\"dataframe\">\n",
       "  <thead>\n",
       "    <tr style=\"text-align: right;\">\n",
       "      <th></th>\n",
       "      <th>article_number</th>\n",
       "      <th>article_words</th>\n",
       "      <th>topic</th>\n",
       "      <th>is_irrelevent</th>\n",
       "    </tr>\n",
       "  </thead>\n",
       "  <tbody>\n",
       "    <tr>\n",
       "      <th>0</th>\n",
       "      <td>1</td>\n",
       "      <td>open,absent,cent,cent,cent,stock,inflow,rate,k...</td>\n",
       "      <td>FOREX MARKETS</td>\n",
       "      <td>0</td>\n",
       "    </tr>\n",
       "    <tr>\n",
       "      <th>1</th>\n",
       "      <td>2</td>\n",
       "      <td>morn,stead,end,end,day,day,day,patch,patch,pat...</td>\n",
       "      <td>MONEY MARKETS</td>\n",
       "      <td>0</td>\n",
       "    </tr>\n",
       "    <tr>\n",
       "      <th>2</th>\n",
       "      <td>3</td>\n",
       "      <td>socc,socc,world,world,recent,law,fifa,fifa,fif...</td>\n",
       "      <td>SPORTS</td>\n",
       "      <td>0</td>\n",
       "    </tr>\n",
       "    <tr>\n",
       "      <th>3</th>\n",
       "      <td>4</td>\n",
       "      <td>open,forint,forint,forint,forint,cent,cent,ste...</td>\n",
       "      <td>FOREX MARKETS</td>\n",
       "      <td>0</td>\n",
       "    </tr>\n",
       "    <tr>\n",
       "      <th>4</th>\n",
       "      <td>5</td>\n",
       "      <td>morn,complet,weekend,minut,minut,minut,arrow,d...</td>\n",
       "      <td>IRRELEVANT</td>\n",
       "      <td>1</td>\n",
       "    </tr>\n",
       "  </tbody>\n",
       "</table>\n",
       "</div>"
      ],
      "text/plain": [
       "   article_number                                      article_words  \\\n",
       "0               1  open,absent,cent,cent,cent,stock,inflow,rate,k...   \n",
       "1               2  morn,stead,end,end,day,day,day,patch,patch,pat...   \n",
       "2               3  socc,socc,world,world,recent,law,fifa,fifa,fif...   \n",
       "3               4  open,forint,forint,forint,forint,cent,cent,ste...   \n",
       "4               5  morn,complet,weekend,minut,minut,minut,arrow,d...   \n",
       "\n",
       "           topic  is_irrelevent  \n",
       "0  FOREX MARKETS              0  \n",
       "1  MONEY MARKETS              0  \n",
       "2         SPORTS              0  \n",
       "3  FOREX MARKETS              0  \n",
       "4     IRRELEVANT              1  "
      ]
     },
     "execution_count": 11,
     "metadata": {},
     "output_type": "execute_result"
    }
   ],
   "source": [
    "# Insert the encoded column into original dataframe\n",
    "df_train[\"is_irrelevent\"] = y_train\n",
    "df_train.head()"
   ]
  },
  {
   "cell_type": "code",
   "execution_count": 16,
   "metadata": {},
   "outputs": [
    {
     "data": {
      "text/plain": [
       "<9500x9495 sparse matrix of type '<class 'numpy.int64'>'\n",
       "\twith 719744 stored elements in Compressed Sparse Row format>"
      ]
     },
     "execution_count": 16,
     "metadata": {},
     "output_type": "execute_result"
    }
   ],
   "source": [
    "vect = CountVectorizer(min_df=5)\n",
    "X_train = vect.fit_transform(text_train)\n",
    "X_train"
   ]
  },
  {
   "cell_type": "code",
   "execution_count": 13,
   "metadata": {},
   "outputs": [
    {
     "name": "stdout",
     "output_type": "stream",
     "text": [
      "Mean accuracy (std):  0.832 ( 0.004)\n",
      "CPU times: user 164 ms, sys: 24.8 ms, total: 189 ms\n",
      "Wall time: 3.82 s\n"
     ]
    }
   ],
   "source": [
    "%%time\n",
    "# Ingore convergence warnings\n",
    "warnings.filterwarnings(\"ignore\", category=ConvergenceWarning,\n",
    "                        module=\"sklearn\")\n",
    "\n",
    "# Get accuracy scores for each of 5-fold CV\n",
    "# b_jobs specifies how many processors are used in paralle, -1 means all\n",
    "\n",
    "accs = cross_val_score(LogisticRegression(n_jobs=-1), X_train, y_train, cv=5)\n",
    "print(f\"Mean accuracy (std): {np.mean(accs): .3f} ({np.std(accs): .3f})\")"
   ]
  },
  {
   "cell_type": "code",
   "execution_count": 14,
   "metadata": {},
   "outputs": [
    {
     "name": "stdout",
     "output_type": "stream",
     "text": [
      "best parameter: {'C': 0.01}\n",
      "best 5-fold CV score (accuracy):  0.859\n",
      "CPU times: user 75.3 ms, sys: 15.2 ms, total: 90.5 ms\n",
      "Wall time: 4.93 s\n"
     ]
    }
   ],
   "source": [
    "%%time\n",
    "param_grid = {'C': np.geomspace(0.001,10,num=5,endpoint=True)}\n",
    "\n",
    "grid = GridSearchCV(LogisticRegression(n_jobs=-1), param_grid=param_grid, cv=5, n_jobs=-1)\n",
    "grid.fit(X_train, y_train)\n",
    "print(f\"best parameter: {grid.best_params_}\")\n",
    "print(f\"best 5-fold CV score (accuracy): {grid.best_score_: .3f}\")"
   ]
  },
  {
   "cell_type": "code",
   "execution_count": 17,
   "metadata": {},
   "outputs": [
    {
     "name": "stdout",
     "output_type": "stream",
     "text": [
      "Logistic regression accuracy on test set: 0.880\n",
      "CPU times: user 44.2 ms, sys: 3.97 ms, total: 48.2 ms\n",
      "Wall time: 53.1 ms\n"
     ]
    }
   ],
   "source": [
    "%%time\n",
    "text_test = df_test.article_words # training set containing text content\n",
    "label_test = df_test.topic\n",
    "\n",
    "# encode labels to relevant: 0, irrelevent: 1\n",
    "y_test = np.where(df_test.topic == \"IRRELEVANT\", 1, 0)\n",
    "y_test.sum()\n",
    "\n",
    "X_test = vect.transform(text_test)\n",
    "acc_test = grid.score(X_test, y_test)\n",
    "print(f\"Logistic regression accuracy on test set: {acc_test:.3f}\")"
   ]
  },
  {
   "cell_type": "markdown",
   "metadata": {},
   "source": [
    "## Test on the Best LogisticRegressor\n",
    "See the cell below for location and usage of the model"
   ]
  },
  {
   "cell_type": "code",
   "execution_count": 19,
   "metadata": {},
   "outputs": [
    {
     "name": "stderr",
     "output_type": "stream",
     "text": [
      "/import/ravel/1/z5244619/.local/lib/python3.7/site-packages/sklearn/base.py:318: UserWarning: Trying to unpickle estimator TfidfTransformer from version 0.22.1 when using version 0.22.2.post1. This might lead to breaking code or invalid results. Use at your own risk.\n",
      "  UserWarning)\n",
      "/import/ravel/1/z5244619/.local/lib/python3.7/site-packages/sklearn/base.py:318: UserWarning: Trying to unpickle estimator TfidfVectorizer from version 0.22.1 when using version 0.22.2.post1. This might lead to breaking code or invalid results. Use at your own risk.\n",
      "  UserWarning)\n",
      "/import/ravel/1/z5244619/.local/lib/python3.7/site-packages/sklearn/base.py:318: UserWarning: Trying to unpickle estimator LogisticRegression from version 0.22.1 when using version 0.22.2.post1. This might lead to breaking code or invalid results. Use at your own risk.\n",
      "  UserWarning)\n",
      "/import/ravel/1/z5244619/.local/lib/python3.7/site-packages/sklearn/base.py:318: UserWarning: Trying to unpickle estimator Pipeline from version 0.22.1 when using version 0.22.2.post1. This might lead to breaking code or invalid results. Use at your own risk.\n",
      "  UserWarning)\n"
     ]
    },
    {
     "data": {
      "text/plain": [
       "Pipeline(memory=None,\n",
       "         steps=[('tfidf',\n",
       "                 TfidfVectorizer(analyzer='word', binary=False,\n",
       "                                 decode_error='strict',\n",
       "                                 dtype=<class 'numpy.float64'>,\n",
       "                                 encoding='utf-8', input='content',\n",
       "                                 lowercase=True, max_df=1.0, max_features=None,\n",
       "                                 min_df=5, ngram_range=(1, 1), norm=None,\n",
       "                                 preprocessor=None, smooth_idf=True,\n",
       "                                 stop_words=None, strip_accents=None,\n",
       "                                 sublinear_tf=False,\n",
       "                                 token_pattern='(?u)\\\\b\\\\w\\\\w+\\\\b',\n",
       "                                 tokenizer=None, use_idf=True,\n",
       "                                 vocabulary=None)),\n",
       "                ('LR',\n",
       "                 LogisticRegression(C=0.001, class_weight='balanced',\n",
       "                                    dual=False, fit_intercept=True,\n",
       "                                    intercept_scaling=1, l1_ratio=None,\n",
       "                                    max_iter=100, multi_class='ovr', n_jobs=-1,\n",
       "                                    penalty='l2', random_state=None,\n",
       "                                    solver='lbfgs', tol=0.0001, verbose=0,\n",
       "                                    warm_start=False))],\n",
       "         verbose=False)"
      ]
     },
     "execution_count": 19,
     "metadata": {},
     "output_type": "execute_result"
    }
   ],
   "source": [
    "with open(\"Models/best_logi.joblib\", \"rb\") as f:\n",
    "    best_logi = load(f)\n",
    "best_logi"
   ]
  },
  {
   "cell_type": "code",
   "execution_count": 20,
   "metadata": {},
   "outputs": [
    {
     "name": "stdout",
     "output_type": "stream",
     "text": [
      "Training accuracy: 0.942\n",
      "Test accuracy: 0.878\n"
     ]
    }
   ],
   "source": [
    "best_logi.fit(text_train, y_train)\n",
    "train_acc = best_logi.score(text_train, y_train)\n",
    "test_acc = best_logi.score(text_test, y_test)\n",
    "print(f\"Training accuracy: {train_acc:.3f}\\n\"\n",
    "      f\"Test accuracy: {test_acc:.3f}\")"
   ]
  },
  {
   "cell_type": "code",
   "execution_count": null,
   "metadata": {},
   "outputs": [],
   "source": []
  }
 ],
 "metadata": {
  "kernelspec": {
   "display_name": "Python 3",
   "language": "python",
   "name": "python3"
  },
  "language_info": {
   "codemirror_mode": {
    "name": "ipython",
    "version": 3
   },
   "file_extension": ".py",
   "mimetype": "text/x-python",
   "name": "python",
   "nbconvert_exporter": "python",
   "pygments_lexer": "ipython3",
   "version": "3.7.3"
  }
 },
 "nbformat": 4,
 "nbformat_minor": 4
}
