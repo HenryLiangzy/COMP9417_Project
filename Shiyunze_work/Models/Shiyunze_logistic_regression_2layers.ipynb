{
 "cells": [
  {
   "cell_type": "markdown",
   "metadata": {},
   "source": [
    "# Layer 1\n",
    "Predicting relevant and irrelevant topics"
   ]
  },
  {
   "cell_type": "code",
   "execution_count": 41,
   "metadata": {},
   "outputs": [],
   "source": [
    "import warnings\n",
    "\n",
    "import numpy as np\n",
    "import pandas as pd\n",
    "import seaborn as sns\n",
    "import matplotlib.pyplot as plt\n",
    "import sklearn\n",
    "from joblib import load, dump\n",
    "from sklearn.linear_model import LogisticRegression\n",
    "from sklearn.pipeline import Pipeline\n",
    "from sklearn.feature_extraction.text import CountVectorizer, TfidfVectorizer\n",
    "from sklearn.model_selection import cross_val_score # get a specific score of a model using CV\n",
    "from sklearn.model_selection import GridSearchCV, train_test_split, StratifiedShuffleSplit\n",
    "# from sklearn.feature_extraction.text import ENGLISH_STOP_WORDS # a list of english stop words\n",
    "from sklearn.preprocessing import LabelEncoder\n",
    "\n",
    "from sklearn.exceptions import ConvergenceWarning"
   ]
  },
  {
   "cell_type": "code",
   "execution_count": 42,
   "metadata": {},
   "outputs": [],
   "source": [
    "df_train = pd.read_csv(\"../training.csv\")\n",
    "\n",
    "df_test = pd.read_csv(\"../test.csv\")"
   ]
  },
  {
   "cell_type": "markdown",
   "metadata": {},
   "source": [
    "## 1. encode labels to relevant: 0, irrelevent: 1"
   ]
  },
  {
   "cell_type": "code",
   "execution_count": 43,
   "metadata": {},
   "outputs": [
    {
     "data": {
      "text/plain": [
       "4766"
      ]
     },
     "execution_count": 43,
     "metadata": {},
     "output_type": "execute_result"
    }
   ],
   "source": [
    "text_train = df_train.article_words\n",
    "label_train = df_train.topic\n",
    "\n",
    "\n",
    "y_train = np.where(df_train.topic == \"IRRELEVANT\", 0, 1)\n",
    "y_train.sum()"
   ]
  },
  {
   "cell_type": "code",
   "execution_count": 44,
   "metadata": {},
   "outputs": [
    {
     "data": {
      "text/html": [
       "<div>\n",
       "<style scoped>\n",
       "    .dataframe tbody tr th:only-of-type {\n",
       "        vertical-align: middle;\n",
       "    }\n",
       "\n",
       "    .dataframe tbody tr th {\n",
       "        vertical-align: top;\n",
       "    }\n",
       "\n",
       "    .dataframe thead th {\n",
       "        text-align: right;\n",
       "    }\n",
       "</style>\n",
       "<table border=\"1\" class=\"dataframe\">\n",
       "  <thead>\n",
       "    <tr style=\"text-align: right;\">\n",
       "      <th></th>\n",
       "      <th>article_number</th>\n",
       "      <th>article_words</th>\n",
       "      <th>topic</th>\n",
       "      <th>is_relevent</th>\n",
       "    </tr>\n",
       "  </thead>\n",
       "  <tbody>\n",
       "    <tr>\n",
       "      <th>0</th>\n",
       "      <td>1</td>\n",
       "      <td>open,absent,cent,cent,cent,stock,inflow,rate,k...</td>\n",
       "      <td>FOREX MARKETS</td>\n",
       "      <td>1</td>\n",
       "    </tr>\n",
       "    <tr>\n",
       "      <th>1</th>\n",
       "      <td>2</td>\n",
       "      <td>morn,stead,end,end,day,day,day,patch,patch,pat...</td>\n",
       "      <td>MONEY MARKETS</td>\n",
       "      <td>1</td>\n",
       "    </tr>\n",
       "    <tr>\n",
       "      <th>2</th>\n",
       "      <td>3</td>\n",
       "      <td>socc,socc,world,world,recent,law,fifa,fifa,fif...</td>\n",
       "      <td>SPORTS</td>\n",
       "      <td>1</td>\n",
       "    </tr>\n",
       "    <tr>\n",
       "      <th>3</th>\n",
       "      <td>4</td>\n",
       "      <td>open,forint,forint,forint,forint,cent,cent,ste...</td>\n",
       "      <td>FOREX MARKETS</td>\n",
       "      <td>1</td>\n",
       "    </tr>\n",
       "    <tr>\n",
       "      <th>4</th>\n",
       "      <td>5</td>\n",
       "      <td>morn,complet,weekend,minut,minut,minut,arrow,d...</td>\n",
       "      <td>IRRELEVANT</td>\n",
       "      <td>0</td>\n",
       "    </tr>\n",
       "  </tbody>\n",
       "</table>\n",
       "</div>"
      ],
      "text/plain": [
       "   article_number                                      article_words  \\\n",
       "0               1  open,absent,cent,cent,cent,stock,inflow,rate,k...   \n",
       "1               2  morn,stead,end,end,day,day,day,patch,patch,pat...   \n",
       "2               3  socc,socc,world,world,recent,law,fifa,fifa,fif...   \n",
       "3               4  open,forint,forint,forint,forint,cent,cent,ste...   \n",
       "4               5  morn,complet,weekend,minut,minut,minut,arrow,d...   \n",
       "\n",
       "           topic  is_relevent  \n",
       "0  FOREX MARKETS            1  \n",
       "1  MONEY MARKETS            1  \n",
       "2         SPORTS            1  \n",
       "3  FOREX MARKETS            1  \n",
       "4     IRRELEVANT            0  "
      ]
     },
     "execution_count": 44,
     "metadata": {},
     "output_type": "execute_result"
    }
   ],
   "source": [
    "# Insert the encoded column into original dataframe\n",
    "df_train[\"is_relevent\"] = y_train\n",
    "df_train.head()"
   ]
  },
  {
   "cell_type": "code",
   "execution_count": 45,
   "metadata": {},
   "outputs": [
    {
     "data": {
      "text/plain": [
       "<9500x9495 sparse matrix of type '<class 'numpy.int64'>'\n",
       "\twith 719744 stored elements in Compressed Sparse Row format>"
      ]
     },
     "execution_count": 45,
     "metadata": {},
     "output_type": "execute_result"
    }
   ],
   "source": [
    "vect = CountVectorizer(min_df=5)\n",
    "X_train = vect.fit_transform(text_train)\n",
    "X_train"
   ]
  },
  {
   "cell_type": "code",
   "execution_count": 46,
   "metadata": {},
   "outputs": [
    {
     "name": "stdout",
     "output_type": "stream",
     "text": [
      "Mean accuracy (std):  0.832 ( 0.004)\n",
      "CPU times: user 132 ms, sys: 81.9 ms, total: 214 ms\n",
      "Wall time: 3.46 s\n"
     ]
    }
   ],
   "source": [
    "%%time\n",
    "# Ingore convergence warnings\n",
    "warnings.filterwarnings(\"ignore\", category=ConvergenceWarning,\n",
    "                        module=\"sklearn\")\n",
    "\n",
    "# Get accuracy scores for each of 5-fold CV\n",
    "# b_jobs specifies how many processors are used in paralle, -1 means all\n",
    "\n",
    "accs = cross_val_score(LogisticRegression(n_jobs=-1), X_train, y_train, cv=5)\n",
    "print(f\"Mean accuracy (std): {np.mean(accs): .3f} ({np.std(accs): .3f})\")"
   ]
  },
  {
   "cell_type": "code",
   "execution_count": 47,
   "metadata": {},
   "outputs": [
    {
     "name": "stdout",
     "output_type": "stream",
     "text": [
      "best parameter: {'C': 0.01}\n",
      "best 5-fold CV score (accuracy):  0.859\n",
      "CPU times: user 74.1 ms, sys: 14.7 ms, total: 88.8 ms\n",
      "Wall time: 4.94 s\n"
     ]
    }
   ],
   "source": [
    "%%time\n",
    "param_grid = {'C': np.geomspace(0.001,10,num=5,endpoint=True)}\n",
    "\n",
    "grid = GridSearchCV(LogisticRegression(n_jobs=-1), param_grid=param_grid, cv=5, n_jobs=-1)\n",
    "grid.fit(X_train, y_train)\n",
    "print(f\"best parameter: {grid.best_params_}\")\n",
    "print(f\"best 5-fold CV score (accuracy): {grid.best_score_: .3f}\")"
   ]
  },
  {
   "cell_type": "code",
   "execution_count": 48,
   "metadata": {},
   "outputs": [
    {
     "name": "stdout",
     "output_type": "stream",
     "text": [
      "Logistic regression accuracy on test set: 0.880\n",
      "CPU times: user 35.4 ms, sys: 3.49 ms, total: 38.9 ms\n",
      "Wall time: 38.9 ms\n"
     ]
    }
   ],
   "source": [
    "%%time\n",
    "text_test = df_test.article_words # training set containing text content\n",
    "label_test = df_test.topic\n",
    "\n",
    "# encode labels to relevant: 0, irrelevent: 1\n",
    "y_test = np.where(df_test.topic == \"IRRELEVANT\", 0, 1)\n",
    "y_test.sum()\n",
    "\n",
    "X_test = vect.transform(text_test)\n",
    "acc_test = grid.score(X_test, y_test)\n",
    "print(f\"Logistic regression accuracy on test set: {acc_test:.3f}\")"
   ]
  },
  {
   "cell_type": "markdown",
   "metadata": {},
   "source": [
    "## 2. Hyperparameter Tuning"
   ]
  },
  {
   "cell_type": "code",
   "execution_count": 49,
   "metadata": {},
   "outputs": [
    {
     "data": {
      "text/plain": [
       "Pipeline(memory=None,\n",
       "         steps=[('tfidf',\n",
       "                 TfidfVectorizer(analyzer='word', binary=False,\n",
       "                                 decode_error='strict',\n",
       "                                 dtype=<class 'numpy.float64'>,\n",
       "                                 encoding='utf-8', input='content',\n",
       "                                 lowercase=True, max_df=1.0, max_features=None,\n",
       "                                 min_df=1, ngram_range=(1, 1), norm=None,\n",
       "                                 preprocessor=None, smooth_idf=True,\n",
       "                                 stop_words=None, strip_accents=None,\n",
       "                                 sublinear_tf=False,\n",
       "                                 token_pattern='(?u)\\\\b\\\\w\\\\w+\\\\b',\n",
       "                                 tokenizer=None, use_idf=True,\n",
       "                                 vocabulary=None)),\n",
       "                ('LR',\n",
       "                 LogisticRegression(C=1.0, class_weight=None, dual=False,\n",
       "                                    fit_intercept=True, intercept_scaling=1,\n",
       "                                    l1_ratio=None, max_iter=100,\n",
       "                                    multi_class='auto', n_jobs=-1, penalty='l2',\n",
       "                                    random_state=None, solver='lbfgs',\n",
       "                                    tol=0.0001, verbose=0, warm_start=False))],\n",
       "         verbose=False)"
      ]
     },
     "execution_count": 49,
     "metadata": {},
     "output_type": "execute_result"
    }
   ],
   "source": [
    "# standard pipeline interface\n",
    "estimators = [\n",
    "              (\"tfidf\", TfidfVectorizer(norm=None)),\n",
    "              (\"LR\", LogisticRegression(n_jobs=-1))\n",
    "             ]\n",
    "\n",
    "pipe = Pipeline(estimators)\n",
    "\n",
    "# Notice here parameters need to be specified to which step in the pipeline they belong to\n",
    "param_grid = {\n",
    "              \"tfidf__min_df\": np.arange(6),\n",
    "              \"LR__class_weight\": [\"balanced\", None],\n",
    "              \"LR__multi_class\": [\"ovr\", \"multinomial\"],\n",
    "              \"LR__C\": [0.0001, 0.01, 0.1, 1, 10],\n",
    "             }\n",
    "pipe"
   ]
  },
  {
   "cell_type": "code",
   "execution_count": 50,
   "metadata": {},
   "outputs": [
    {
     "name": "stderr",
     "output_type": "stream",
     "text": [
      "/import/ravel/1/z5244619/.local/lib/python3.7/site-packages/joblib/externals/loky/process_executor.py:706: UserWarning: A worker stopped while some jobs were given to the executor. This can be caused by a too short worker timeout or by a memory leak.\n",
      "  \"timeout or by a memory leak.\", UserWarning\n"
     ]
    },
    {
     "name": "stdout",
     "output_type": "stream",
     "text": [
      "Best parameter: {'LR__C': 0.0001, 'LR__class_weight': None, 'LR__multi_class': 'multinomial', 'tfidf__min_df': 4}\n",
      "Accuracy on training set: 0.865\n",
      "CPU times: user 12.6 s, sys: 4.37 s, total: 17 s\n",
      "Wall time: 14min 57s\n"
     ]
    }
   ],
   "source": [
    "%%time\n",
    "grid = GridSearchCV(pipe, param_grid, cv=10, n_jobs=-1)\n",
    "\n",
    "# pass in original text samples\n",
    "grid.fit(text_train, y_train)\n",
    "\n",
    "# Extract the optimal steps we have obtained sofar\n",
    "clf_logi = grid.best_estimator_\n",
    "\n",
    "# Report accuracy scores on training and test set\n",
    "acc_train = grid.best_score_\n",
    "print(f\"Best parameter: {grid.best_params_}\")\n",
    "print(f\"Accuracy on training set: {acc_train:.3f}\")"
   ]
  },
  {
   "cell_type": "code",
   "execution_count": 55,
   "metadata": {},
   "outputs": [],
   "source": [
    "import os\n",
    "from joblib import dump, load\n",
    "\n",
    "file_name = \"Models/best_logi_layer1.joblib\"\n",
    "if not os.path.exists(file_name):\n",
    "    # Export the model (TFIDF+logistic regressor)\n",
    "    with open(file_name, \"wb\") as file:\n",
    "        dump(clf_logi, file, compress=True)\n",
    "else:\n",
    "    print(\"Warn: this model already exits...\")"
   ]
  },
  {
   "cell_type": "markdown",
   "metadata": {},
   "source": [
    "## Test on the Best LogisticRegressor\n",
    "See the cell below for location and usage of the model"
   ]
  },
  {
   "cell_type": "code",
   "execution_count": 52,
   "metadata": {},
   "outputs": [
    {
     "name": "stdout",
     "output_type": "stream",
     "text": [
      "Accuracy on test set: 0.878\n"
     ]
    }
   ],
   "source": [
    "y_pred = clf_logi.predict(text_test)\n",
    "acc_test = clf_logi.score(text_test, y_test)\n",
    "print(f\"Accuracy on test set: {acc_test:.3f}\")"
   ]
  },
  {
   "cell_type": "code",
   "execution_count": 53,
   "metadata": {},
   "outputs": [
    {
     "name": "stdout",
     "output_type": "stream",
     "text": [
      "Classification Report:\n",
      "              precision    recall  f1-score   support\n",
      "\n",
      "           0       0.88      0.89      0.89       266\n",
      "           1       0.87      0.87      0.87       234\n",
      "\n",
      "    accuracy                           0.88       500\n",
      "   macro avg       0.88      0.88      0.88       500\n",
      "weighted avg       0.88      0.88      0.88       500\n",
      "\n"
     ]
    }
   ],
   "source": [
    "from sklearn.metrics import classification_report, confusion_matrix\n",
    "\n",
    "print(f\"Classification Report:\\n{classification_report(y_test, y_pred)}\")\n",
    "conf_matrix = confusion_matrix(y_test, y_pred)"
   ]
  },
  {
   "cell_type": "code",
   "execution_count": 54,
   "metadata": {},
   "outputs": [
    {
     "data": {
      "image/png": "[encoded data removed]",
      "text/plain": [
       "<Figure size 576x432 with 2 Axes>"
      ]
     },
     "metadata": {
      "needs_background": "light"
     },
     "output_type": "display_data"
    }
   ],
   "source": [
    "fig1 = plt.figure(figsize=(8,6))\n",
    "sns.heatmap(conf_matrix,\n",
    "#             square=True,\n",
    "            annot=True, # show numbers in each cell\n",
    "            fmt='d', # set number format to integer in each cell\n",
    "#             yticklabels=encoder.classes_,\n",
    "#             xticklabels=clf_logi.classes_,\n",
    "            cmap=\"Blues\",\n",
    "#             linecolor=\"k\",\n",
    "            linewidths=.1,\n",
    "           )\n",
    "plt.title(\n",
    "          f\"Confusion Matrix on Test Set | \" \n",
    "          f\"Classifier: {'+'.join([step for step in clf_logi.named_steps.keys()])}\", \n",
    "          fontsize=14)\n",
    "plt.xlabel(\"Actual: False positives for y != x\", fontsize=12)\n",
    "plt.ylabel(\"Prediction: False negatives for x != y\", fontsize=12)\n",
    "plt.show()"
   ]
  },
  {
   "cell_type": "code",
   "execution_count": null,
   "metadata": {},
   "outputs": [],
   "source": []
  },
  {
   "cell_type": "code",
   "execution_count": null,
   "metadata": {},
   "outputs": [],
   "source": []
  }
 ],
 "metadata": {
  "kernelspec": {
   "display_name": "Python 3",
   "language": "python",
   "name": "python3"
  },
  "language_info": {
   "codemirror_mode": {
    "name": "ipython",
    "version": 3
   },
   "file_extension": ".py",
   "mimetype": "text/x-python",
   "name": "python",
   "nbconvert_exporter": "python",
   "pygments_lexer": "ipython3",
   "version": "3.7.3"
  }
 },
 "nbformat": 4,
 "nbformat_minor": 4
}
