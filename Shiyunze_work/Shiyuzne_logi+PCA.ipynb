{
 "cells": [
  {
   "cell_type": "markdown",
   "metadata": {},
   "source": [
    "# 1. Import Models and Datasets\n",
    "I have previously created and exported to \"./Data\":\n",
    "    \n",
    "    - Pandas DataFrame 'df_train' with topic encoded to label[0-10], as raw dataset\n",
    "    - Pandas Series 'text_train' (with \"_\" removed), as training documents to be vectorized\n",
    "    - a count vectorizer fitted to 'text_train'\n",
    "    - a tf-idf vectorizer fitted to 'text_train'\n",
    "and to \"./Models\":\n",
    "\n",
    "    - a Pipeline object containing ti-idf&logistic regression with 'optimal' parameters\n",
    "    - a csv file keeping record of models learned so far."
   ]
  },
  {
   "cell_type": "code",
   "execution_count": 1,
   "metadata": {},
   "outputs": [],
   "source": [
    "%matplotlib inline\n",
    "import warnings\n",
    "from joblib import load, dump\n",
    "import os\n",
    "\n",
    "import numpy as np\n",
    "import pandas as pd\n",
    "import matplotlib.pyplot as plt\n",
    "from mpl_toolkits.mplot3d import Axes3D\n",
    "\n",
    "import sklearn\n",
    "from sklearn.linear_model import LogisticRegression, LogisticRegressionCV\n",
    "from sklearn.feature_extraction.text import CountVectorizer, TfidfVectorizer\n",
    "from sklearn.model_selection import GridSearchCV, train_test_split, StratifiedShuffleSplit, cross_val_score\n",
    "# from sklearn.feature_extraction.text import ENGLISH_STOP_WORDS # a list of english stop words\n",
    "from sklearn.preprocessing import LabelEncoder, MinMaxScaler, StandardScaler\n",
    "from sklearn.pipeline import Pipeline\n",
    "from sklearn.metrics import classification_report\n",
    "from sklearn.metrics import precision_recall_fscore_support as prfs # compute scores for each class\n",
    "from sklearn.decomposition import TruncatedSVD, PCA\n",
    "\n",
    "\n",
    "from sklearn.exceptions import ConvergenceWarning"
   ]
  },
  {
   "cell_type": "code",
   "execution_count": 2,
   "metadata": {
    "scrolled": false
   },
   "outputs": [
    {
     "name": "stdout",
     "output_type": "stream",
     "text": [
      "total 70840\r\n",
      "-rw-r--r--@ 1 shiyunze  staff       629 10 Apr 14:02 Readme.md\r\n",
      "-rw-r--r--  1 shiyunze  staff   1685025  9 Apr 17:33 count_vector.joblib\r\n",
      "-rw-r--r--  1 shiyunze  staff  15371269  9 Apr 17:33 df_train.joblib\r\n",
      "-rw-r--r--  1 shiyunze  staff       761  9 Apr 17:33 label_encoder.joblib\r\n",
      "-rw-r--r--  1 shiyunze  staff  14970317  9 Apr 17:33 text_train.joblib\r\n",
      "-rw-r--r--  1 shiyunze  staff   2258817  9 Apr 17:33 tf_idf.joblib\r\n",
      "-rw-r--r--  1 shiyunze  staff     76218  9 Apr 17:33 y_train.joblib\r\n"
     ]
    }
   ],
   "source": [
    "!ls -l Data"
   ]
  },
  {
   "cell_type": "markdown",
   "metadata": {},
   "source": [
    "# 1.1 Import Data"
   ]
  },
  {
   "cell_type": "code",
   "execution_count": 3,
   "metadata": {},
   "outputs": [
    {
     "data": {
      "text/html": [
       "<div>\n",
       "<style scoped>\n",
       "    .dataframe tbody tr th:only-of-type {\n",
       "        vertical-align: middle;\n",
       "    }\n",
       "\n",
       "    .dataframe tbody tr th {\n",
       "        vertical-align: top;\n",
       "    }\n",
       "\n",
       "    .dataframe thead th {\n",
       "        text-align: right;\n",
       "    }\n",
       "</style>\n",
       "<table border=\"1\" class=\"dataframe\">\n",
       "  <thead>\n",
       "    <tr style=\"text-align: right;\">\n",
       "      <th></th>\n",
       "      <th>article_number</th>\n",
       "      <th>article_words</th>\n",
       "      <th>topic</th>\n",
       "      <th>label</th>\n",
       "    </tr>\n",
       "  </thead>\n",
       "  <tbody>\n",
       "    <tr>\n",
       "      <th>0</th>\n",
       "      <td>1</td>\n",
       "      <td>open,absent,cent,cent,cent,stock,inflow,rate,k...</td>\n",
       "      <td>FOREX MARKETS</td>\n",
       "      <td>4</td>\n",
       "    </tr>\n",
       "    <tr>\n",
       "      <th>1</th>\n",
       "      <td>2</td>\n",
       "      <td>morn,stead,end,end,day,day,day,patch,patch,pat...</td>\n",
       "      <td>MONEY MARKETS</td>\n",
       "      <td>7</td>\n",
       "    </tr>\n",
       "    <tr>\n",
       "      <th>2</th>\n",
       "      <td>3</td>\n",
       "      <td>socc,socc,world,world,recent,law,fifa,fifa,fif...</td>\n",
       "      <td>SPORTS</td>\n",
       "      <td>10</td>\n",
       "    </tr>\n",
       "    <tr>\n",
       "      <th>3</th>\n",
       "      <td>4</td>\n",
       "      <td>open,forint,forint,forint,forint,cent,cent,ste...</td>\n",
       "      <td>FOREX MARKETS</td>\n",
       "      <td>4</td>\n",
       "    </tr>\n",
       "    <tr>\n",
       "      <th>4</th>\n",
       "      <td>5</td>\n",
       "      <td>morn,complet,weekend,minut,minut,minut,arrow,d...</td>\n",
       "      <td>IRRELEVANT</td>\n",
       "      <td>6</td>\n",
       "    </tr>\n",
       "  </tbody>\n",
       "</table>\n",
       "</div>"
      ],
      "text/plain": [
       "   article_number                                      article_words  \\\n",
       "0               1  open,absent,cent,cent,cent,stock,inflow,rate,k...   \n",
       "1               2  morn,stead,end,end,day,day,day,patch,patch,pat...   \n",
       "2               3  socc,socc,world,world,recent,law,fifa,fifa,fif...   \n",
       "3               4  open,forint,forint,forint,forint,cent,cent,ste...   \n",
       "4               5  morn,complet,weekend,minut,minut,minut,arrow,d...   \n",
       "\n",
       "           topic  label  \n",
       "0  FOREX MARKETS      4  \n",
       "1  MONEY MARKETS      7  \n",
       "2         SPORTS     10  \n",
       "3  FOREX MARKETS      4  \n",
       "4     IRRELEVANT      6  "
      ]
     },
     "execution_count": 3,
     "metadata": {},
     "output_type": "execute_result"
    },
    {
     "data": {
      "text/plain": [
       "0    open,absent,cent,cent,cent,stock,inflow,rate,k...\n",
       "1    morn,stead,end,end,day,day,day,patch,patch,pat...\n",
       "2    socc,socc,world,world,recent,law,fifa,fifa,fif...\n",
       "3    open,forint,forint,forint,forint,cent,cent,ste...\n",
       "4    morn,complet,weekend,minut,minut,minut,arrow,d...\n",
       "Name: article_words, dtype: object"
      ]
     },
     "execution_count": 3,
     "metadata": {},
     "output_type": "execute_result"
    },
    {
     "data": {
      "text/plain": [
       "array([ 4,  7, 10, ...,  4,  6,  4])"
      ]
     },
     "execution_count": 3,
     "metadata": {},
     "output_type": "execute_result"
    },
    {
     "data": {
      "text/plain": [
       "array(['ARTS CULTURE ENTERTAINMENT', 'BIOGRAPHIES PERSONALITIES PEOPLE',\n",
       "       'DEFENCE', 'DOMESTIC MARKETS', 'FOREX MARKETS', 'HEALTH',\n",
       "       'IRRELEVANT', 'MONEY MARKETS', 'SCIENCE AND TECHNOLOGY',\n",
       "       'SHARE LISTINGS', 'SPORTS'], dtype=object)"
      ]
     },
     "execution_count": 3,
     "metadata": {},
     "output_type": "execute_result"
    },
    {
     "data": {
      "text/plain": [
       "CountVectorizer(analyzer='word', binary=False, decode_error='strict',\n",
       "                dtype=<class 'numpy.int64'>, encoding='utf-8', input='content',\n",
       "                lowercase=True, max_df=1.0, max_features=None, min_df=1,\n",
       "                ngram_range=(1, 1), preprocessor=None, stop_words=None,\n",
       "                strip_accents=None, token_pattern='(?u)\\\\b\\\\w\\\\w+\\\\b',\n",
       "                tokenizer=None, vocabulary=None)"
      ]
     },
     "execution_count": 3,
     "metadata": {},
     "output_type": "execute_result"
    },
    {
     "data": {
      "text/plain": [
       "TfidfVectorizer(analyzer='word', binary=False, decode_error='strict',\n",
       "                dtype=<class 'numpy.float64'>, encoding='utf-8',\n",
       "                input='content', lowercase=True, max_df=1.0, max_features=None,\n",
       "                min_df=1, ngram_range=(1, 1), norm='l2', preprocessor=None,\n",
       "                smooth_idf=True, stop_words=None, strip_accents=None,\n",
       "                sublinear_tf=False, token_pattern='(?u)\\\\b\\\\w\\\\w+\\\\b',\n",
       "                tokenizer=None, use_idf=True, vocabulary=None)"
      ]
     },
     "execution_count": 3,
     "metadata": {},
     "output_type": "execute_result"
    }
   ],
   "source": [
    "# df_train\n",
    "with open(\"Data/df_train.joblib\", \"rb\") as f:\n",
    "    df_train = load(f)\n",
    "df_train.head()\n",
    "\n",
    "# text_train\n",
    "with open(\"Data/text_train.joblib\", \"rb\") as f:\n",
    "    text_train = load(f)\n",
    "text_train.head()\n",
    "\n",
    "# y_train\n",
    "with open(\"Data/y_train.joblib\", \"rb\") as f:\n",
    "    y_train = load(f)\n",
    "y_train\n",
    "\n",
    "# label_encoder\n",
    "with open(\"Data/label_encoder.joblib\", \"rb\") as f:\n",
    "    label_encoder = load(f)\n",
    "label_encoder.classes_\n",
    "\n",
    "# count_vectro\n",
    "with open(\"Data/count_vector.joblib\", \"rb\") as f:\n",
    "    count_vector = load(f)\n",
    "count_vector\n",
    "\n",
    "# tf-idf\n",
    "with open(\"Data/tf_idf.joblib\", \"rb\") as f:\n",
    "    tf_idf = load(f)\n",
    "tf_idf"
   ]
  },
  {
   "cell_type": "markdown",
   "metadata": {},
   "source": [
    "## 1.2 Import Model"
   ]
  },
  {
   "cell_type": "code",
   "execution_count": 4,
   "metadata": {},
   "outputs": [
    {
     "name": "stdout",
     "output_type": "stream",
     "text": [
      "total 2416\r\n",
      "-rw-r--r--@ 1 shiyunze  staff      465  9 Apr 12:53 Readme.txt\r\n",
      "-rw-r--r--  1 shiyunze  staff  1226773  8 Apr 00:05 best_logi.joblib\r\n",
      "-rw-r--r--@ 1 shiyunze  staff       61  9 Apr 12:39 model_collection.csv\r\n",
      "-rw-r--r--  1 shiyunze  staff        0 11 Apr 17:35 train_tsvd.joblib\r\n"
     ]
    }
   ],
   "source": [
    "!ls -l Models/"
   ]
  },
  {
   "cell_type": "code",
   "execution_count": 5,
   "metadata": {
    "scrolled": false
   },
   "outputs": [
    {
     "data": {
      "text/plain": [
       "Pipeline(memory=None,\n",
       "         steps=[('tfidf',\n",
       "                 TfidfVectorizer(analyzer='word', binary=False,\n",
       "                                 decode_error='strict',\n",
       "                                 dtype=<class 'numpy.float64'>,\n",
       "                                 encoding='utf-8', input='content',\n",
       "                                 lowercase=True, max_df=1.0, max_features=None,\n",
       "                                 min_df=5, ngram_range=(1, 1), norm=None,\n",
       "                                 preprocessor=None, smooth_idf=True,\n",
       "                                 stop_words=None, strip_accents=None,\n",
       "                                 sublinear_tf=False,\n",
       "                                 token_pattern='(?u)\\\\b\\\\w\\\\w+\\\\b',\n",
       "                                 tokenizer=None, use_idf=True,\n",
       "                                 vocabulary=None)),\n",
       "                ('LR',\n",
       "                 LogisticRegression(C=0.001, class_weight='balanced',\n",
       "                                    dual=False, fit_intercept=True,\n",
       "                                    intercept_scaling=1, l1_ratio=None,\n",
       "                                    max_iter=100, multi_class='ovr', n_jobs=-1,\n",
       "                                    penalty='l2', random_state=None,\n",
       "                                    solver='lbfgs', tol=0.0001, verbose=0,\n",
       "                                    warm_start=False))],\n",
       "         verbose=False)"
      ]
     },
     "execution_count": 5,
     "metadata": {},
     "output_type": "execute_result"
    }
   ],
   "source": [
    "# logistic regressor + tf-idf\n",
    "with open (\"Models/best_logi.joblib\", \"rb\") as file:\n",
    "    pipe_logi = load(file)\n",
    "pipe_logi"
   ]
  },
  {
   "cell_type": "markdown",
   "metadata": {},
   "source": [
    "## 1.3 Check Scores of the Imported Model on Test Set"
   ]
  },
  {
   "cell_type": "code",
   "execution_count": 6,
   "metadata": {},
   "outputs": [
    {
     "name": "stdout",
     "output_type": "stream",
     "text": [
      "test set labels and count per class:\n",
      "[ 0  1  2  3  4  5  6  7  8  9 10]\n",
      "[  3  15  13   2  48  14 266  69   3   7  60]\n",
      "\n",
      "Classification Report:\n",
      "              precision    recall  f1-score   support\n",
      "\n",
      "           0       0.50      1.00      0.67         3\n",
      "           1       0.80      0.53      0.64        15\n",
      "           2       0.82      0.69      0.75        13\n",
      "           3       0.50      1.00      0.67         2\n",
      "           4       0.51      0.62      0.56        48\n",
      "           5       0.64      0.50      0.56        14\n",
      "           6       0.92      0.85      0.88       266\n",
      "           7       0.57      0.62      0.59        69\n",
      "           8       0.00      0.00      0.00         3\n",
      "           9       0.56      0.71      0.63         7\n",
      "          10       0.95      1.00      0.98        60\n",
      "\n",
      "    accuracy                           0.79       500\n",
      "   macro avg       0.61      0.69      0.63       500\n",
      "weighted avg       0.81      0.79      0.79       500\n",
      "\n"
     ]
    }
   ],
   "source": [
    "df_test = pd.read_csv(\"test.csv\")\n",
    "\n",
    "text_test = df_test.article_words\n",
    "y_test = label_encoder.transform(df_test.topic)\n",
    "\n",
    "print(\"test set labels and count per class:\")\n",
    "print(np.unique(y_test, return_counts=True)[0])\n",
    "print(np.unique(y_test, return_counts=True)[1])\n",
    "\n",
    "# usage of imported pipeline is no difference to imported sklearn class\n",
    "y_pred = pipe_logi.predict(text_test)\n",
    "print(f\"\\nClassification Report:\\n{classification_report(y_test, y_pred)}\")"
   ]
  },
  {
   "cell_type": "markdown",
   "metadata": {},
   "source": [
    "# 2. Pinelining -- Refine the Model with Dimension Reduction\n",
    "**Pipe 1:**\n",
    "1. **Count Vector**: min_df = \\[1 - 10\\]\n",
    "2. **PCA**: num_components = \\[???\\]\n",
    "3. **Logistic Regressor**: \n",
    "    - `solver: {newton-cg, sag, saga, lbfgs}`. Algorithm to use in the optimization problem. For multiclass problems, only these 4 algorithms handle multinomial loss.\n",
    "    - `class_weight: {\"balanced\", None}, default=None`. \"balanced\" will adjust weights inversly proportional to class frequencies, i.e penalise large class.\n",
    "    - `multi_class: {‘auto’, ‘ovr’, ‘multinomial’}, default=’auto’`. \n",
    "        - `ovr`: one-versus-rest, essentially a binary problem is fit for each label\n",
    "        - `multinomial`: the loss function is the multinomial loss fit across the entire probability distribution\n",
    "    - `C: {0.0001 0.001,0.01,0.1,1,10},default=1.0`. Inverse of regularization strength; must be a positive float. Like in support vector machines, smaller values specify stronger regularization.\n",
    "    - `penalty: {l1, l2}`: Used to specify the norm used in the penalization. The ‘newton-cg’, ‘sag’, 'saga' and ‘lbfgs’ solvers support only l2 penalties.\n",
    "    \n",
    "**Pipe 2:**\n",
    "1. **TF-IDF**: min_df = \\[1 - 10\\]\n",
    "2. same\n",
    "3. same\n",
    "\n",
    "## 2.1 PCA first\n",
    "Before performing grid search on the pipelines, let's perform PCA on our training set and see if we can find most important features."
   ]
  },
  {
   "cell_type": "code",
   "execution_count": 7,
   "metadata": {
    "scrolled": false
   },
   "outputs": [
    {
     "name": "stdout",
     "output_type": "stream",
     "text": [
      "<9500x35817 sparse matrix of type '<class 'numpy.int64'>'\n",
      "\twith 760415 stored elements in Compressed Sparse Row format>\n"
     ]
    }
   ],
   "source": [
    "X_train = count_vector.transform(text_train)\n",
    "print(repr(X_train))"
   ]
  },
  {
   "cell_type": "code",
   "execution_count": 8,
   "metadata": {},
   "outputs": [
    {
     "data": {
      "text/plain": [
       "True"
      ]
     },
     "execution_count": 8,
     "metadata": {},
     "output_type": "execute_result"
    }
   ],
   "source": [
    "from scipy import sparse\n",
    "\n",
    "sparse.issparse(X_train)"
   ]
  },
  {
   "cell_type": "markdown",
   "metadata": {},
   "source": [
    "As shown above, `X_train` is implemented as a `sparse matrix`, [sklearn.decomposition.TruncatedSVD](https://scikit-learn.org/stable/modules/generated/sklearn.decomposition.TruncatedSVD.html#sklearn.decomposition.TruncatedSVD) is the equivalent of [sklearn.decomposition.PCA](https://scikit-learn.org/stable/modules/generated/sklearn.decomposition.PCA.html?highlight=pca#sklearn.decomposition.PCA) that supports sparse matrices."
   ]
  },
  {
   "cell_type": "markdown",
   "metadata": {},
   "source": [
    "### 2.1.1 Scale Features Before Performing SVD.\n",
    "Before applying PCA, we scale our data such that each feature has unit variance. This is necessary because fitting algorithms highly depend on the scaling of the features. Here we use the `StandardScaler` module for scaling the features individually. `StandardScaler` subtracts the mean from each features and then scale to unit variance.\n",
    "\n",
    "z = (x - u) / s"
   ]
  },
  {
   "cell_type": "code",
   "execution_count": 9,
   "metadata": {
    "scrolled": true
   },
   "outputs": [
    {
     "name": "stdout",
     "output_type": "stream",
     "text": [
      "<9500x35817 sparse matrix of type '<class 'numpy.float64'>'\n",
      "\twith 760415 stored elements in Compressed Sparse Row format>\n"
     ]
    }
   ],
   "source": [
    "std_scaler = StandardScaler(with_mean=False).fit(X_train)\n",
    "X_train_std = std_scaler.transform(X_train)\n",
    "print(repr(X_train_std))"
   ]
  },
  {
   "cell_type": "markdown",
   "metadata": {},
   "source": [
    "### 2.1.2 Visualize Dataset\n",
    "Try to plot the classes using the 2 or 3 features with the highest eigenvalue."
   ]
  },
  {
   "cell_type": "code",
   "execution_count": 10,
   "metadata": {
    "scrolled": false
   },
   "outputs": [
    {
     "data": {
      "text/plain": [
       "array([[0.60508347, 2.1085965 ],\n",
       "       [0.38813623, 1.43230299],\n",
       "       [0.38066597, 1.2652294 ],\n",
       "       ...,\n",
       "       [0.18586538, 0.35136865],\n",
       "       [0.47402647, 1.55824846],\n",
       "       [1.45212365, 5.14971621]])"
      ]
     },
     "execution_count": 10,
     "metadata": {},
     "output_type": "execute_result"
    },
    {
     "data": {
      "text/plain": [
       "array([[ 0.92605418,  3.2306325 , -1.52312379],\n",
       "       [ 0.69346888,  2.56704826, -1.21205097],\n",
       "       [ 0.94053165,  3.06917416, -1.44236448],\n",
       "       ...,\n",
       "       [ 1.07127515,  0.35389279, -0.18616182],\n",
       "       [ 1.8243825 ,  6.07100349, -2.81667226],\n",
       "       [ 3.76059088, 13.33245643, -6.08594413]])"
      ]
     },
     "execution_count": 10,
     "metadata": {},
     "output_type": "execute_result"
    }
   ],
   "source": [
    "svd = TruncatedSVD(n_components=2, random_state=23).fit(X_train_std)\n",
    "X_train_2d = svd.transform(X_train)\n",
    "X_train_2d\n",
    "\n",
    "svd = TruncatedSVD(n_components=3, random_state=23).fit(X_train_std)\n",
    "X_train_3d = svd.transform(X_train_std)\n",
    "X_train_3d"
   ]
  },
  {
   "cell_type": "code",
   "execution_count": 11,
   "metadata": {
    "scrolled": false
   },
   "outputs": [
    {
     "data": {
      "text/plain": [
       "<matplotlib.collections.PathCollection at 0x1a1b2c32d0>"
      ]
     },
     "execution_count": 11,
     "metadata": {},
     "output_type": "execute_result"
    },
    {
     "data": {
      "text/plain": [
       "<mpl_toolkits.mplot3d.art3d.Path3DCollection at 0x1a1ba35490>"
      ]
     },
     "execution_count": 11,
     "metadata": {},
     "output_type": "execute_result"
    },
    {
     "data": {
      "image/png": "[encoded data removed]",
      "text/plain": [
       "<Figure size 864x1440 with 2 Axes>"
      ]
     },
     "metadata": {
      "needs_background": "light"
     },
     "output_type": "display_data"
    }
   ],
   "source": [
    "fig = plt.figure(figsize=(12,20))\n",
    "ax_1 = fig.add_subplot(211)\n",
    "ax_1.scatter(X_train_2d[:,0], X_train_2d[:,1],c=y_train,alpha=0.6)\n",
    "\n",
    "ax_2 = fig.add_subplot(212, projection='3d')\n",
    "ax_2.scatter(X_train_3d[:,1], X_train_3d[:,0],X_train_3d[:,2],c=y_train, alpha=0.6)\n",
    "plt.show()"
   ]
  },
  {
   "cell_type": "markdown",
   "metadata": {},
   "source": [
    "**Conclusion**: impossible to observe a distribution of each classes in 2 or 3 dimensional spaces."
   ]
  },
  {
   "cell_type": "markdown",
   "metadata": {},
   "source": [
    "### 2.1.2 Visualize the SVD\n",
    "In order to get a proper n_component for SVD, from reading the documentation, it is suggested that for such a task, 100 is always a good start, here we used a large enough value-5000 and computed corresponding transformer.\n",
    "\n",
    "Plot the explained variance ratio of the components to find out a proper n_component:"
   ]
  },
  {
   "cell_type": "code",
   "execution_count": 12,
   "metadata": {},
   "outputs": [
    {
     "name": "stdout",
     "output_type": "stream",
     "text": [
      "CPU times: user 6min 34s, sys: 18.5 s, total: 6min 52s\n",
      "Wall time: 4min 14s\n"
     ]
    }
   ],
   "source": [
    "%%time\n",
    "# compute the singluar decomposition of X_train,strating with a big enough n_component\n",
    "n = 4000\n",
    "reduce_dim = TruncatedSVD(n_components=n,random_state=23).fit(X_train_std)"
   ]
  },
  {
   "cell_type": "code",
   "execution_count": 13,
   "metadata": {
    "scrolled": true
   },
   "outputs": [
    {
     "data": {
      "text/plain": [
       "TruncatedSVD(algorithm='randomized', n_components=4000, n_iter=5,\n",
       "             random_state=23, tol=0.0)"
      ]
     },
     "execution_count": 13,
     "metadata": {},
     "output_type": "execute_result"
    }
   ],
   "source": [
    "reduce_dim"
   ]
  },
  {
   "cell_type": "code",
   "execution_count": 14,
   "metadata": {
    "scrolled": false
   },
   "outputs": [
    {
     "data": {
      "text/plain": [
       "array([0.00301698, 0.00488563, 0.00751697, ..., 0.86728255, 0.86734827,\n",
       "       0.86741382])"
      ]
     },
     "execution_count": 14,
     "metadata": {},
     "output_type": "execute_result"
    }
   ],
   "source": [
    "reduce_dim.explained_variance_ratio_.cumsum()"
   ]
  },
  {
   "cell_type": "code",
   "execution_count": 15,
   "metadata": {
    "scrolled": false
   },
   "outputs": [
    {
     "data": {
      "text/plain": [
       "[<matplotlib.lines.Line2D at 0x1a1c5a7d10>]"
      ]
     },
     "execution_count": 15,
     "metadata": {},
     "output_type": "execute_result"
    },
    {
     "data": {
      "text/plain": [
       "Text(0.5, 0, 'number of principle components')"
      ]
     },
     "execution_count": 15,
     "metadata": {},
     "output_type": "execute_result"
    },
    {
     "data": {
      "text/plain": [
       "Text(0, 0.5, 'explained variance ratio')"
      ]
     },
     "execution_count": 15,
     "metadata": {},
     "output_type": "execute_result"
    },
    {
     "data": {
      "text/plain": [
       "<matplotlib.lines.Line2D at 0x1a1c3d5fd0>"
      ]
     },
     "execution_count": 15,
     "metadata": {},
     "output_type": "execute_result"
    },
    {
     "data": {
      "text/plain": [
       "<matplotlib.lines.Line2D at 0x1a1c3d5e10>"
      ]
     },
     "execution_count": 15,
     "metadata": {},
     "output_type": "execute_result"
    },
    {
     "data": {
      "image/png": "[encoded data removed]",
      "text/plain": [
       "<Figure size 576x432 with 1 Axes>"
      ]
     },
     "metadata": {
      "needs_background": "light"
     },
     "output_type": "display_data"
    }
   ],
   "source": [
    "# plot the cumulative sum of eig_sum upto n=3500:\n",
    "fig, ax = plt.subplots(figsize = (8,6))\n",
    "ax.plot(range(n), reduce_dim.explained_variance_ratio_.cumsum(),'b--')\n",
    "ax.set_xlabel(\"number of principle components\", size='large')\n",
    "ax.set_ylabel(\"explained variance ratio\", size='large')\n",
    "\n",
    "ax.axhline(y=0.8, ls='-.', c='red')\n",
    "ax.axhline(y=0.7, ls='-.', c='red')\n",
    "plt.show()"
   ]
  },
  {
   "cell_type": "markdown",
   "metadata": {},
   "source": [
    "**Conclusion**: from the pictrure above we can conclude that <font color='red'>3500</font> is probably a proper number of principle components, because the first 3500 features accouts for over 80% of the variance of total components."
   ]
  },
  {
   "cell_type": "code",
   "execution_count": 16,
   "metadata": {
    "scrolled": true
   },
   "outputs": [
    {
     "name": "stdout",
     "output_type": "stream",
     "text": [
      "(9500, 4000)\n",
      "CPU times: user 2.48 s, sys: 501 ms, total: 2.99 s\n",
      "Wall time: 3.01 s\n"
     ]
    }
   ],
   "source": [
    "%%time\n",
    "X_train_reduced = reduce_dim.transform(X_train_std)\n",
    "print(X_train_reduced.shape)"
   ]
  },
  {
   "cell_type": "code",
   "execution_count": 17,
   "metadata": {},
   "outputs": [
    {
     "data": {
      "text/plain": [
       "760415"
      ]
     },
     "execution_count": 17,
     "metadata": {},
     "output_type": "execute_result"
    },
    {
     "data": {
      "text/plain": [
       "38000000"
      ]
     },
     "execution_count": 17,
     "metadata": {},
     "output_type": "execute_result"
    }
   ],
   "source": [
    "X_train_std.size\n",
    "X_train_reduced.size"
   ]
  },
  {
   "cell_type": "markdown",
   "metadata": {},
   "source": [
    "### 2.1.3 4000-component training set"
   ]
  },
  {
   "cell_type": "code",
   "execution_count": 18,
   "metadata": {},
   "outputs": [
    {
     "name": "stdout",
     "output_type": "stream",
     "text": [
      "Mean accuracy (std):  0.641 ( 0.006)\n",
      "CPU times: user 1.62 s, sys: 1.03 s, total: 2.65 s\n",
      "Wall time: 3min 30s\n"
     ]
    }
   ],
   "source": [
    "%%time\n",
    "# Ingore convergence warnings\n",
    "warnings.filterwarnings(\"ignore\", category=ConvergenceWarning,\n",
    "                        module=\"sklearn\")\n",
    "\n",
    "# Get accuracy scores for each of 5-fold CV\n",
    "# b_jobs specifies how many processors are used in paralle, -1 means all\n",
    "accs = cross_val_score(LogisticRegression(n_jobs=-1), X_train_reduced, y_train,scoring='accuracy', cv=5)\n",
    "print(f\"Mean accuracy (std): {np.mean(accs): .3f} ({np.std(accs): .3f})\")"
   ]
  },
  {
   "cell_type": "markdown",
   "metadata": {},
   "source": [
    "### 2.1.4 2000 components"
   ]
  },
  {
   "cell_type": "code",
   "execution_count": 19,
   "metadata": {},
   "outputs": [
    {
     "name": "stdout",
     "output_type": "stream",
     "text": [
      "CPU times: user 1min 59s, sys: 7.94 s, total: 2min 7s\n",
      "Wall time: 1min 22s\n"
     ]
    }
   ],
   "source": [
    "%%time\n",
    "X_train_2000 = TruncatedSVD(n_components=2000,random_state=23).fit_transform(X_train_std)"
   ]
  },
  {
   "cell_type": "code",
   "execution_count": 20,
   "metadata": {},
   "outputs": [
    {
     "data": {
      "text/plain": [
       "19000000"
      ]
     },
     "execution_count": 20,
     "metadata": {},
     "output_type": "execute_result"
    }
   ],
   "source": [
    "X_train_2000.size"
   ]
  },
  {
   "cell_type": "code",
   "execution_count": 21,
   "metadata": {},
   "outputs": [
    {
     "name": "stdout",
     "output_type": "stream",
     "text": [
      "Mean accuracy (std):  0.647 ( 0.003)\n",
      "CPU times: user 1.07 s, sys: 370 ms, total: 1.44 s\n",
      "Wall time: 54.9 s\n"
     ]
    }
   ],
   "source": [
    "%%time\n",
    "# Ingore convergence warnings\n",
    "warnings.filterwarnings(\"ignore\", category=ConvergenceWarning,\n",
    "                        module=\"sklearn\")\n",
    "\n",
    "# Get accuracy scores for each of 5-fold CV\n",
    "# b_jobs specifies how many processors are used in paralle, -1 means all\n",
    "accs = cross_val_score(LogisticRegression(n_jobs=-1), X_train_2000, y_train,scoring='accuracy', cv=5)\n",
    "print(f\"Mean accuracy (std): {np.mean(accs): .3f} ({np.std(accs): .3f})\")"
   ]
  },
  {
   "cell_type": "markdown",
   "metadata": {},
   "source": [
    "## 2.2 TF-IDF with PCA\n",
    "As is shown above, using PCA to reduce dimension jepordized training accuracy a lot.\n",
    "\n",
    "Previously we used CountVectorizer to transform the text, let's try tf-idf next."
   ]
  },
  {
   "cell_type": "code",
   "execution_count": 22,
   "metadata": {},
   "outputs": [],
   "source": [
    "tfidf = TfidfVectorizer().fit(text_train)\n",
    "X_train_tfidf = tfidf.transform(text_train)"
   ]
  },
  {
   "cell_type": "code",
   "execution_count": 23,
   "metadata": {},
   "outputs": [
    {
     "name": "stdout",
     "output_type": "stream",
     "text": [
      "(9500, 35817) 760415\n"
     ]
    }
   ],
   "source": [
    "# Standardize the Matrix\n",
    "std_scaler = StandardScaler(with_mean=False).fit(X_train_tfidf)\n",
    "X_train_std = std_scaler.transform(X_train_tfidf)\n",
    "print(X_train_std.shape, X_train_std.size)"
   ]
  },
  {
   "cell_type": "code",
   "execution_count": 24,
   "metadata": {},
   "outputs": [
    {
     "name": "stdout",
     "output_type": "stream",
     "text": [
      "CPU times: user 6min 53s, sys: 21.5 s, total: 7min 15s\n",
      "Wall time: 4min 39s\n"
     ]
    }
   ],
   "source": [
    "%%time\n",
    "svd = TruncatedSVD(n_components=4000, random_state=23).fit(X_train_std)"
   ]
  },
  {
   "cell_type": "code",
   "execution_count": 25,
   "metadata": {},
   "outputs": [
    {
     "name": "stdout",
     "output_type": "stream",
     "text": [
      "(9500, 4000) 38000000\n"
     ]
    }
   ],
   "source": [
    "X_train_reduced = svd.transform(X_train_std)\n",
    "print(X_train_reduced.shape, X_train_reduced.size)"
   ]
  },
  {
   "cell_type": "code",
   "execution_count": 26,
   "metadata": {},
   "outputs": [
    {
     "data": {
      "text/plain": [
       "[<matplotlib.lines.Line2D at 0x1a1c0b2f50>]"
      ]
     },
     "execution_count": 26,
     "metadata": {},
     "output_type": "execute_result"
    },
    {
     "data": {
      "text/plain": [
       "Text(0.5, 0, 'number of principle components')"
      ]
     },
     "execution_count": 26,
     "metadata": {},
     "output_type": "execute_result"
    },
    {
     "data": {
      "text/plain": [
       "Text(0, 0.5, 'explained variance ratio')"
      ]
     },
     "execution_count": 26,
     "metadata": {},
     "output_type": "execute_result"
    },
    {
     "data": {
      "text/plain": [
       "<matplotlib.lines.Line2D at 0x1a1e4dd890>"
      ]
     },
     "execution_count": 26,
     "metadata": {},
     "output_type": "execute_result"
    },
    {
     "data": {
      "text/plain": [
       "<matplotlib.lines.Line2D at 0x1a1e4dd650>"
      ]
     },
     "execution_count": 26,
     "metadata": {},
     "output_type": "execute_result"
    },
    {
     "data": {
      "image/png": "[encoded data removed]",
      "text/plain": [
       "<Figure size 576x432 with 1 Axes>"
      ]
     },
     "metadata": {
      "needs_background": "light"
     },
     "output_type": "display_data"
    }
   ],
   "source": [
    "# Plot the cumulative sum of explained variance ratio\n",
    "fig, ax = plt.subplots(figsize = (8,6))\n",
    "ax.plot(range(n), svd.explained_variance_ratio_.cumsum(),'b--')\n",
    "ax.set_xlabel(\"number of principle components\", size='large')\n",
    "ax.set_ylabel(\"explained variance ratio\", size='large')\n",
    "\n",
    "ax.axhline(y=0.8, ls='-.', c='red')\n",
    "ax.axhline(y=0.7, ls='-.', c='red')\n",
    "plt.show()"
   ]
  },
  {
   "cell_type": "code",
   "execution_count": 27,
   "metadata": {},
   "outputs": [
    {
     "name": "stdout",
     "output_type": "stream",
     "text": [
      "Mean accuracy (std):  0.611 ( 0.009)\n",
      "CPU times: user 1.65 s, sys: 1.06 s, total: 2.71 s\n",
      "Wall time: 3min 31s\n"
     ]
    }
   ],
   "source": [
    "%%time\n",
    "# Ingore convergence warnings\n",
    "warnings.filterwarnings(\"ignore\", category=ConvergenceWarning,\n",
    "                        module=\"sklearn\")\n",
    "\n",
    "# Get accuracy scores for each of 5-fold CV\n",
    "# b_jobs specifies how many processors are used in paralle, -1 means all\n",
    "accs = cross_val_score(LogisticRegression(n_jobs=-1), X_train_reduced, y_train,scoring='accuracy', cv=5)\n",
    "print(f\"Mean accuracy (std): {np.mean(accs): .3f} ({np.std(accs): .3f})\")"
   ]
  },
  {
   "cell_type": "markdown",
   "metadata": {},
   "source": [
    "## 2.3 Export the 2 Models\n",
    "1. count vector + SVD(4000)\n",
    "2. tf-idf + SVD(4000)\n",
    "Both without any tuning:"
   ]
  },
  {
   "cell_type": "code",
   "execution_count": null,
   "metadata": {},
   "outputs": [],
   "source": [
    "# with open(\"Models/tsvd_countvector.joblib\", \"wb\") as file:\n",
    "#     dump()"
   ]
  },
  {
   "cell_type": "markdown",
   "metadata": {},
   "source": [
    "# 3. Tune the model\n",
    "Find an optimal `min_df`, `ngram_range` value of `tfidf`"
   ]
  },
  {
   "cell_type": "code",
   "execution_count": 68,
   "metadata": {
    "scrolled": false
   },
   "outputs": [
    {
     "name": "stdout",
     "output_type": "stream",
     "text": [
      "CPU times: user 7.95 s, sys: 3.51 s, total: 11.5 s\n",
      "Wall time: 26min 25s\n"
     ]
    },
    {
     "data": {
      "text/plain": [
       "GridSearchCV(cv=5, error_score=nan,\n",
       "             estimator=Pipeline(memory=None,\n",
       "                                steps=[('tfidf',\n",
       "                                        TfidfVectorizer(analyzer='word',\n",
       "                                                        binary=False,\n",
       "                                                        decode_error='strict',\n",
       "                                                        dtype=<class 'numpy.float64'>,\n",
       "                                                        encoding='utf-8',\n",
       "                                                        input='content',\n",
       "                                                        lowercase=True,\n",
       "                                                        max_df=1.0,\n",
       "                                                        max_features=None,\n",
       "                                                        min_df=5,\n",
       "                                                        ngram_range=(1, 1),\n",
       "                                                        norm='l2',\n",
       "                                                        preprocessor=None,\n",
       "                                                        smooth_idf=True,\n",
       "                                                        stop_words=None,\n",
       "                                                        strip_acc...\n",
       "                                                           multi_class='ovr',\n",
       "                                                           n_jobs=-1,\n",
       "                                                           penalty='l2',\n",
       "                                                           random_state=None,\n",
       "                                                           solver='lbfgs',\n",
       "                                                           tol=0.0001,\n",
       "                                                           verbose=0,\n",
       "                                                           warm_start=False))],\n",
       "                                verbose=False),\n",
       "             iid='deprecated', n_jobs=-1,\n",
       "             param_grid={'LR__C': [0.001, 0.01, 1, 10, 100],\n",
       "                         'tfidf__min_df': array([1, 2, 3, 4, 5, 6, 7, 8, 9]),\n",
       "                         'tfidf__ngram_range': [(1, 2)]},\n",
       "             pre_dispatch='2*n_jobs', refit=True, return_train_score=False,\n",
       "             scoring=None, verbose=0)"
      ]
     },
     "execution_count": 68,
     "metadata": {},
     "output_type": "execute_result"
    }
   ],
   "source": [
    "%%time\n",
    "estimators = [\n",
    "    (\"tfidf\", TfidfVectorizer(min_df=5)),\n",
    "    (\"LR\", LogisticRegression(class_weight='balanced',multi_class='ovr',n_jobs=-1))\n",
    "]\n",
    "\n",
    "pipe = Pipeline(estimators)\n",
    "\n",
    "param_grid = {\n",
    "    \"tfidf__min_df\": np.arange(1,10),\n",
    "    \"tfidf__ngram_range\": [(1,2)],\n",
    "    \"LR__C\":[0.001, 0.01, 1, 10, 100]\n",
    "}\n",
    "\n",
    "grid = GridSearchCV(pipe, param_grid, cv=5, n_jobs=-1)\n",
    "grid.fit(text_train, y_train)"
   ]
  },
  {
   "cell_type": "code",
   "execution_count": 69,
   "metadata": {},
   "outputs": [
    {
     "data": {
      "text/plain": [
       "0.7812631578947369"
      ]
     },
     "execution_count": 69,
     "metadata": {},
     "output_type": "execute_result"
    },
    {
     "data": {
      "text/plain": [
       "{'LR__C': 10, 'tfidf__min_df': 4, 'tfidf__ngram_range': (1, 2)}"
      ]
     },
     "execution_count": 69,
     "metadata": {},
     "output_type": "execute_result"
    }
   ],
   "source": [
    "grid.best_score_\n",
    "grid.best_params_"
   ]
  },
  {
   "cell_type": "code",
   "execution_count": 70,
   "metadata": {
    "scrolled": false
   },
   "outputs": [
    {
     "data": {
      "text/plain": [
       "{'mean_fit_time': array([ 18.41176653,  10.10097351,   8.93056736,   8.44149361,\n",
       "          7.66548319,   6.94561334,   6.42976298,   6.17397513,\n",
       "          6.8419704 ,  28.4797822 ,  14.73711042,   9.38993745,\n",
       "          8.3529429 ,   8.51160765,   7.73418536,   7.31440339,\n",
       "          6.7821702 ,   6.63498836,  84.3972436 ,  31.44960456,\n",
       "         19.63113503,  13.94635425,  12.42631545,  11.72837105,\n",
       "         11.27978344,  10.54872999,  10.17589264, 140.91905093,\n",
       "         65.11829724,  34.89248266,  25.26536222,  22.40616183,\n",
       "         19.14269886,  18.12148705,  16.05007148,  14.92130466,\n",
       "        182.67493477,  77.26477771,  40.16991224,  28.37231393,\n",
       "         28.61644144,  24.64096265,  21.2932147 ,  20.49350858,\n",
       "         17.74630718]),\n",
       " 'std_fit_time': array([ 1.98564688,  0.2426557 ,  0.48218089,  0.22735624,  0.32423785,\n",
       "         0.20902126,  0.31627944,  0.10267593,  1.32233586,  3.46809512,\n",
       "         1.57697617,  0.64689961,  0.45837144,  0.29520318,  0.35061903,\n",
       "         0.20267484,  0.17281578,  0.18064204, 10.66449293,  3.12623169,\n",
       "         2.8384281 ,  0.69721592,  0.88634103,  0.50987794,  0.39907088,\n",
       "         0.22444069,  0.22413885,  1.66378643,  3.31883021,  7.39601117,\n",
       "         0.4147285 ,  1.99507541,  0.65030526,  0.35027562,  0.50833224,\n",
       "         0.78005247,  8.96500635, 11.68030738,  5.79257   ,  2.60427038,\n",
       "         1.41479067,  1.89419708,  0.2844955 ,  0.45545886,  1.31195107]),\n",
       " 'mean_score_time': array([1.0386982 , 1.06780057, 1.28082423, 1.11948643, 1.04477954,\n",
       "        0.98404589, 0.87534738, 0.87782974, 1.0763257 , 2.72996111,\n",
       "        1.33853545, 1.13873253, 0.99829431, 0.99298081, 0.97616196,\n",
       "        0.9023006 , 0.83777814, 0.79330759, 2.39659014, 2.34265914,\n",
       "        1.64065495, 1.45086966, 1.04713387, 0.98893886, 0.81925879,\n",
       "        0.82128258, 0.8469264 , 1.48610597, 2.47014141, 2.24063096,\n",
       "        2.03148661, 1.41140876, 1.14609051, 1.0658318 , 1.21883655,\n",
       "        1.61554604, 2.86072636, 4.05059633, 1.9194757 , 1.83262005,\n",
       "        1.54889441, 1.37664814, 1.60373673, 1.10746822, 0.86499152]),\n",
       " 'std_score_time': array([0.04713617, 0.10751062, 0.4285459 , 0.16141819, 0.08703216,\n",
       "        0.10406572, 0.07347081, 0.08727326, 0.36630303, 0.94254366,\n",
       "        0.24942971, 0.33571769, 0.22371589, 0.17553183, 0.16037367,\n",
       "        0.13821874, 0.08272513, 0.05660812, 1.06947207, 1.15624286,\n",
       "        0.86804081, 0.50864565, 0.17512304, 0.09458088, 0.08425565,\n",
       "        0.09864344, 0.09526045, 0.63797349, 1.13433028, 1.39884244,\n",
       "        0.98977496, 0.43761619, 0.19536544, 0.18645694, 0.23547696,\n",
       "        0.70829476, 0.74371169, 2.02604283, 0.84468049, 1.08341294,\n",
       "        0.95769932, 0.93575864, 0.74988999, 0.2630054 , 0.19785004]),\n",
       " 'param_LR__C': masked_array(data=[0.001, 0.001, 0.001, 0.001, 0.001, 0.001, 0.001, 0.001,\n",
       "                    0.001, 0.01, 0.01, 0.01, 0.01, 0.01, 0.01, 0.01, 0.01,\n",
       "                    0.01, 1, 1, 1, 1, 1, 1, 1, 1, 1, 10, 10, 10, 10, 10,\n",
       "                    10, 10, 10, 10, 100, 100, 100, 100, 100, 100, 100, 100,\n",
       "                    100],\n",
       "              mask=[False, False, False, False, False, False, False, False,\n",
       "                    False, False, False, False, False, False, False, False,\n",
       "                    False, False, False, False, False, False, False, False,\n",
       "                    False, False, False, False, False, False, False, False,\n",
       "                    False, False, False, False, False, False, False, False,\n",
       "                    False, False, False, False, False],\n",
       "        fill_value='?',\n",
       "             dtype=object),\n",
       " 'param_tfidf__min_df': masked_array(data=[1, 2, 3, 4, 5, 6, 7, 8, 9, 1, 2, 3, 4, 5, 6, 7, 8, 9,\n",
       "                    1, 2, 3, 4, 5, 6, 7, 8, 9, 1, 2, 3, 4, 5, 6, 7, 8, 9,\n",
       "                    1, 2, 3, 4, 5, 6, 7, 8, 9],\n",
       "              mask=[False, False, False, False, False, False, False, False,\n",
       "                    False, False, False, False, False, False, False, False,\n",
       "                    False, False, False, False, False, False, False, False,\n",
       "                    False, False, False, False, False, False, False, False,\n",
       "                    False, False, False, False, False, False, False, False,\n",
       "                    False, False, False, False, False],\n",
       "        fill_value='?',\n",
       "             dtype=object),\n",
       " 'param_tfidf__ngram_range': masked_array(data=[(1, 2), (1, 2), (1, 2), (1, 2), (1, 2), (1, 2), (1, 2),\n",
       "                    (1, 2), (1, 2), (1, 2), (1, 2), (1, 2), (1, 2), (1, 2),\n",
       "                    (1, 2), (1, 2), (1, 2), (1, 2), (1, 2), (1, 2), (1, 2),\n",
       "                    (1, 2), (1, 2), (1, 2), (1, 2), (1, 2), (1, 2), (1, 2),\n",
       "                    (1, 2), (1, 2), (1, 2), (1, 2), (1, 2), (1, 2), (1, 2),\n",
       "                    (1, 2), (1, 2), (1, 2), (1, 2), (1, 2), (1, 2), (1, 2),\n",
       "                    (1, 2), (1, 2), (1, 2)],\n",
       "              mask=[False, False, False, False, False, False, False, False,\n",
       "                    False, False, False, False, False, False, False, False,\n",
       "                    False, False, False, False, False, False, False, False,\n",
       "                    False, False, False, False, False, False, False, False,\n",
       "                    False, False, False, False, False, False, False, False,\n",
       "                    False, False, False, False, False],\n",
       "        fill_value='?',\n",
       "             dtype=object),\n",
       " 'params': [{'LR__C': 0.001, 'tfidf__min_df': 1, 'tfidf__ngram_range': (1, 2)},\n",
       "  {'LR__C': 0.001, 'tfidf__min_df': 2, 'tfidf__ngram_range': (1, 2)},\n",
       "  {'LR__C': 0.001, 'tfidf__min_df': 3, 'tfidf__ngram_range': (1, 2)},\n",
       "  {'LR__C': 0.001, 'tfidf__min_df': 4, 'tfidf__ngram_range': (1, 2)},\n",
       "  {'LR__C': 0.001, 'tfidf__min_df': 5, 'tfidf__ngram_range': (1, 2)},\n",
       "  {'LR__C': 0.001, 'tfidf__min_df': 6, 'tfidf__ngram_range': (1, 2)},\n",
       "  {'LR__C': 0.001, 'tfidf__min_df': 7, 'tfidf__ngram_range': (1, 2)},\n",
       "  {'LR__C': 0.001, 'tfidf__min_df': 8, 'tfidf__ngram_range': (1, 2)},\n",
       "  {'LR__C': 0.001, 'tfidf__min_df': 9, 'tfidf__ngram_range': (1, 2)},\n",
       "  {'LR__C': 0.01, 'tfidf__min_df': 1, 'tfidf__ngram_range': (1, 2)},\n",
       "  {'LR__C': 0.01, 'tfidf__min_df': 2, 'tfidf__ngram_range': (1, 2)},\n",
       "  {'LR__C': 0.01, 'tfidf__min_df': 3, 'tfidf__ngram_range': (1, 2)},\n",
       "  {'LR__C': 0.01, 'tfidf__min_df': 4, 'tfidf__ngram_range': (1, 2)},\n",
       "  {'LR__C': 0.01, 'tfidf__min_df': 5, 'tfidf__ngram_range': (1, 2)},\n",
       "  {'LR__C': 0.01, 'tfidf__min_df': 6, 'tfidf__ngram_range': (1, 2)},\n",
       "  {'LR__C': 0.01, 'tfidf__min_df': 7, 'tfidf__ngram_range': (1, 2)},\n",
       "  {'LR__C': 0.01, 'tfidf__min_df': 8, 'tfidf__ngram_range': (1, 2)},\n",
       "  {'LR__C': 0.01, 'tfidf__min_df': 9, 'tfidf__ngram_range': (1, 2)},\n",
       "  {'LR__C': 1, 'tfidf__min_df': 1, 'tfidf__ngram_range': (1, 2)},\n",
       "  {'LR__C': 1, 'tfidf__min_df': 2, 'tfidf__ngram_range': (1, 2)},\n",
       "  {'LR__C': 1, 'tfidf__min_df': 3, 'tfidf__ngram_range': (1, 2)},\n",
       "  {'LR__C': 1, 'tfidf__min_df': 4, 'tfidf__ngram_range': (1, 2)},\n",
       "  {'LR__C': 1, 'tfidf__min_df': 5, 'tfidf__ngram_range': (1, 2)},\n",
       "  {'LR__C': 1, 'tfidf__min_df': 6, 'tfidf__ngram_range': (1, 2)},\n",
       "  {'LR__C': 1, 'tfidf__min_df': 7, 'tfidf__ngram_range': (1, 2)},\n",
       "  {'LR__C': 1, 'tfidf__min_df': 8, 'tfidf__ngram_range': (1, 2)},\n",
       "  {'LR__C': 1, 'tfidf__min_df': 9, 'tfidf__ngram_range': (1, 2)},\n",
       "  {'LR__C': 10, 'tfidf__min_df': 1, 'tfidf__ngram_range': (1, 2)},\n",
       "  {'LR__C': 10, 'tfidf__min_df': 2, 'tfidf__ngram_range': (1, 2)},\n",
       "  {'LR__C': 10, 'tfidf__min_df': 3, 'tfidf__ngram_range': (1, 2)},\n",
       "  {'LR__C': 10, 'tfidf__min_df': 4, 'tfidf__ngram_range': (1, 2)},\n",
       "  {'LR__C': 10, 'tfidf__min_df': 5, 'tfidf__ngram_range': (1, 2)},\n",
       "  {'LR__C': 10, 'tfidf__min_df': 6, 'tfidf__ngram_range': (1, 2)},\n",
       "  {'LR__C': 10, 'tfidf__min_df': 7, 'tfidf__ngram_range': (1, 2)},\n",
       "  {'LR__C': 10, 'tfidf__min_df': 8, 'tfidf__ngram_range': (1, 2)},\n",
       "  {'LR__C': 10, 'tfidf__min_df': 9, 'tfidf__ngram_range': (1, 2)},\n",
       "  {'LR__C': 100, 'tfidf__min_df': 1, 'tfidf__ngram_range': (1, 2)},\n",
       "  {'LR__C': 100, 'tfidf__min_df': 2, 'tfidf__ngram_range': (1, 2)},\n",
       "  {'LR__C': 100, 'tfidf__min_df': 3, 'tfidf__ngram_range': (1, 2)},\n",
       "  {'LR__C': 100, 'tfidf__min_df': 4, 'tfidf__ngram_range': (1, 2)},\n",
       "  {'LR__C': 100, 'tfidf__min_df': 5, 'tfidf__ngram_range': (1, 2)},\n",
       "  {'LR__C': 100, 'tfidf__min_df': 6, 'tfidf__ngram_range': (1, 2)},\n",
       "  {'LR__C': 100, 'tfidf__min_df': 7, 'tfidf__ngram_range': (1, 2)},\n",
       "  {'LR__C': 100, 'tfidf__min_df': 8, 'tfidf__ngram_range': (1, 2)},\n",
       "  {'LR__C': 100, 'tfidf__min_df': 9, 'tfidf__ngram_range': (1, 2)}],\n",
       " 'split0_test_score': array([0.74157895, 0.73947368, 0.74105263, 0.74157895, 0.74      ,\n",
       "        0.73894737, 0.74105263, 0.73842105, 0.73736842, 0.74578947,\n",
       "        0.74684211, 0.74789474, 0.74631579, 0.74578947, 0.74894737,\n",
       "        0.74736842, 0.74631579, 0.74368421, 0.78842105, 0.79052632,\n",
       "        0.78947368, 0.78736842, 0.78684211, 0.78789474, 0.79      ,\n",
       "        0.78894737, 0.78736842, 0.78473684, 0.78315789, 0.78736842,\n",
       "        0.78789474, 0.78157895, 0.78315789, 0.78421053, 0.78263158,\n",
       "        0.78210526, 0.77736842, 0.77368421, 0.77315789, 0.77263158,\n",
       "        0.77421053, 0.77105263, 0.77368421, 0.77052632, 0.77      ]),\n",
       " 'split1_test_score': array([0.72368421, 0.72315789, 0.72526316, 0.72631579, 0.72684211,\n",
       "        0.72473684, 0.72210526, 0.72052632, 0.72105263, 0.73052632,\n",
       "        0.73105263, 0.73052632, 0.72947368, 0.73105263, 0.73052632,\n",
       "        0.73052632, 0.73052632, 0.73105263, 0.77421053, 0.78105263,\n",
       "        0.78052632, 0.78      , 0.77947368, 0.77736842, 0.77842105,\n",
       "        0.77894737, 0.77789474, 0.77473684, 0.77526316, 0.77684211,\n",
       "        0.77684211, 0.77789474, 0.78105263, 0.78052632, 0.78157895,\n",
       "        0.77684211, 0.77684211, 0.77526316, 0.77684211, 0.77842105,\n",
       "        0.77526316, 0.77842105, 0.77526316, 0.77526316, 0.77684211]),\n",
       " 'split2_test_score': array([0.73578947, 0.73736842, 0.73631579, 0.73631579, 0.73421053,\n",
       "        0.73157895, 0.73105263, 0.72894737, 0.72947368, 0.73894737,\n",
       "        0.74263158, 0.74      , 0.74      , 0.73736842, 0.73631579,\n",
       "        0.73736842, 0.73578947, 0.73526316, 0.77789474, 0.77578947,\n",
       "        0.77736842, 0.77684211, 0.77526316, 0.77684211, 0.77473684,\n",
       "        0.77578947, 0.77526316, 0.78105263, 0.78421053, 0.78315789,\n",
       "        0.78157895, 0.78105263, 0.78210526, 0.78210526, 0.77842105,\n",
       "        0.77684211, 0.77631579, 0.77578947, 0.77210526, 0.77157895,\n",
       "        0.77368421, 0.77105263, 0.77526316, 0.77263158, 0.77157895]),\n",
       " 'split3_test_score': array([0.74      , 0.74263158, 0.74526316, 0.74368421, 0.74210526,\n",
       "        0.73842105, 0.73947368, 0.73578947, 0.73736842, 0.74578947,\n",
       "        0.74526316, 0.75      , 0.75105263, 0.74947368, 0.74947368,\n",
       "        0.75      , 0.75052632, 0.74789474, 0.77578947, 0.77526316,\n",
       "        0.77578947, 0.77473684, 0.77315789, 0.77157895, 0.77052632,\n",
       "        0.77105263, 0.77105263, 0.77421053, 0.77421053, 0.77052632,\n",
       "        0.77105263, 0.77105263, 0.76789474, 0.77157895, 0.77052632,\n",
       "        0.77052632, 0.77526316, 0.77157895, 0.77315789, 0.77      ,\n",
       "        0.76894737, 0.77368421, 0.77421053, 0.77894737, 0.77578947]),\n",
       " 'split4_test_score': array([0.73210526, 0.73052632, 0.73315789, 0.73105263, 0.72578947,\n",
       "        0.72631579, 0.72631579, 0.72736842, 0.72631579, 0.73894737,\n",
       "        0.73842105, 0.73631579, 0.73315789, 0.73157895, 0.73210526,\n",
       "        0.73315789, 0.73052632, 0.72947368, 0.77473684, 0.77368421,\n",
       "        0.77684211, 0.77473684, 0.77526316, 0.77368421, 0.77315789,\n",
       "        0.77421053, 0.77315789, 0.78578947, 0.78421053, 0.78578947,\n",
       "        0.78894737, 0.79105263, 0.79052632, 0.78736842, 0.79      ,\n",
       "        0.78684211, 0.78684211, 0.78157895, 0.78157895, 0.77736842,\n",
       "        0.78052632, 0.78210526, 0.78052632, 0.78210526, 0.77789474]),\n",
       " 'mean_test_score': array([0.73463158, 0.73463158, 0.73621053, 0.73578947, 0.73378947,\n",
       "        0.732     , 0.732     , 0.73021053, 0.73031579, 0.74      ,\n",
       "        0.74084211, 0.74094737, 0.74      , 0.73905263, 0.73947368,\n",
       "        0.73968421, 0.73873684, 0.73747368, 0.77821053, 0.77926316,\n",
       "        0.78      , 0.77873684, 0.778     , 0.77747368, 0.77736842,\n",
       "        0.77778947, 0.77694737, 0.78010526, 0.78021053, 0.78073684,\n",
       "        0.78126316, 0.78052632, 0.78094737, 0.78115789, 0.78063158,\n",
       "        0.77863158, 0.77852632, 0.77557895, 0.77536842, 0.774     ,\n",
       "        0.77452632, 0.77526316, 0.77578947, 0.77589474, 0.77442105]),\n",
       " 'std_test_score': array([0.00639771, 0.00697761, 0.00684939, 0.00645461, 0.00663575,\n",
       "        0.00591163, 0.00733375, 0.00635601, 0.00635601, 0.0056392 ,\n",
       "        0.00566468, 0.00722722, 0.00799584, 0.00743876, 0.00817401,\n",
       "        0.00771084, 0.00824554, 0.00717336, 0.00525895, 0.00615227,\n",
       "        0.00499307, 0.0047263 , 0.00487404, 0.00562346, 0.00681371,\n",
       "        0.00613243, 0.00568226, 0.00486266, 0.00449808, 0.00624167,\n",
       "        0.00673684, 0.00646319, 0.00732619, 0.00530927, 0.0063193 ,\n",
       "        0.00550598, 0.00421579, 0.00333868, 0.00349753, 0.00330533,\n",
       "        0.00370071, 0.00435286, 0.00244609, 0.00418942, 0.00307973]),\n",
       " 'rank_test_score': array([39, 40, 37, 38, 41, 42, 42, 45, 44, 30, 29, 28, 31, 34, 33, 32, 35,\n",
       "        36, 14, 10,  9, 11, 15, 17, 18, 16, 19,  8,  7,  4,  1,  6,  3,  2,\n",
       "         5, 12, 13, 22, 23, 27, 25, 24, 21, 20, 26], dtype=int32)}"
      ]
     },
     "execution_count": 70,
     "metadata": {},
     "output_type": "execute_result"
    }
   ],
   "source": [
    "grid.cv_results_"
   ]
  },
  {
   "cell_type": "code",
   "execution_count": 71,
   "metadata": {},
   "outputs": [
    {
     "name": "stdout",
     "output_type": "stream",
     "text": [
      "\n",
      "Classification Report:\n",
      "              precision    recall  f1-score   support\n",
      "\n",
      "           0       0.33      0.67      0.44         3\n",
      "           1       0.86      0.40      0.55        15\n",
      "           2       0.83      0.77      0.80        13\n",
      "           3       0.40      1.00      0.57         2\n",
      "           4       0.42      0.42      0.42        48\n",
      "           5       0.64      0.64      0.64        14\n",
      "           6       0.91      0.86      0.88       266\n",
      "           7       0.49      0.59      0.54        69\n",
      "           8       0.00      0.00      0.00         3\n",
      "           9       0.50      0.43      0.46         7\n",
      "          10       0.95      0.98      0.97        60\n",
      "\n",
      "    accuracy                           0.76       500\n",
      "   macro avg       0.58      0.61      0.57       500\n",
      "weighted avg       0.78      0.76      0.77       500\n",
      "\n"
     ]
    }
   ],
   "source": [
    "y_pred = grid.predict(text_test)\n",
    "print(f\"\\nClassification Report:\\n{classification_report(y_test, y_pred)}\")"
   ]
  },
  {
   "cell_type": "markdown",
   "metadata": {},
   "source": [
    "# 4 Conclusion\n",
    "1. So far, the exported best_logi is the best model.\n",
    "2. PCA don not help with the prediction."
   ]
  },
  {
   "cell_type": "code",
   "execution_count": null,
   "metadata": {},
   "outputs": [],
   "source": []
  }
 ],
 "metadata": {
  "kernelspec": {
   "display_name": "Python 3",
   "language": "python",
   "name": "python3"
  },
  "language_info": {
   "codemirror_mode": {
    "name": "ipython",
    "version": 3
   },
   "file_extension": ".py",
   "mimetype": "text/x-python",
   "name": "python",
   "nbconvert_exporter": "python",
   "pygments_lexer": "ipython3",
   "version": "3.7.7"
  }
 },
 "nbformat": 4,
 "nbformat_minor": 4
}
