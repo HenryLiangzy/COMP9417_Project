{
 "cells": [
  {
   "cell_type": "markdown",
   "metadata": {},
   "source": [
    "# Henry's model select demo\n",
    "\n",
    "The follow is the model select program base on Decision Tree Classfier.  \n",
    "Will be run on .py file instead of Jupyter Noteboook (for CSE server)"
   ]
  },
  {
   "cell_type": "code",
   "execution_count": 2,
   "metadata": {},
   "outputs": [],
   "source": [
    "import numpy as np\n",
    "import pandas as pd\n",
    "from imblearn.over_sampling import SMOTE\n",
    "from sklearn.base import TransformerMixin\n",
    "from sklearn import tree\n",
    "from sklearn import preprocessing\n",
    "from sklearn import metrics\n",
    "from sklearn.feature_extraction.text import CountVectorizer, TfidfVectorizer, HashingVectorizer\n",
    "from sklearn.model_selection import train_test_split, GridSearchCV, learning_curve\n",
    "from sklearn.metrics import roc_auc_score, roc_curve, classification_report\n",
    "from sklearn.tree import DecisionTreeClassifier\n",
    "from sklearn.externals import joblib\n",
    "import matplotlib.pyplot as plt"
   ]
  },
  {
   "cell_type": "markdown",
   "metadata": {},
   "source": [
    "## Pre-define basic parameter for system adjustment"
   ]
  },
  {
   "cell_type": "code",
   "execution_count": null,
   "metadata": {},
   "outputs": [],
   "source": [
    "np.random.seed(1)\n",
    "\n",
    "TRAININGFILE = '../keyword.csv'\n",
    "TESTFILE = '../key_word_test.csv'\n",
    "\n",
    "x_label = ['article_words', 'key_word_20', 'key_word_50', 'key_word_100']\n",
    "y_label = ['topic']\n",
    "\n",
    "topic_code = {\n",
    "    'ARTS CULTURE ENTERTAINMENT': 1,\n",
    "    'BIOGRAPHIES PERSONALITIES PEOPLE': 2,\n",
    "    'DEFENCE': 3,\n",
    "    'DOMESTIC MARKETS': 4,\n",
    "    'FOREX MARKETS': 5,\n",
    "    'HEALTH': 6,\n",
    "    'MONEY MARKETS': 7,\n",
    "    'SCIENCE AND TECHNOLOGY': 8,\n",
    "    'SHARE LISTINGS': 9,\n",
    "    'SPORTS': 10,\n",
    "    'IRRELEVANT': 0\n",
    "}"
   ]
  },
  {
   "cell_type": "markdown",
   "metadata": {},
   "source": [
    "## Pre-processing the data_set from the CSV file"
   ]
  },
  {
   "cell_type": "code",
   "execution_count": null,
   "metadata": {},
   "outputs": [],
   "source": [
    "def preprocess(df, x_label, y_label):\n",
    "\n",
    "    return df[x_label+y_label]\n",
    "\n",
    "# for the bag of word and label encode process\n",
    "def convert_word(bag_of_word_model, label_model, data_set):\n",
    "    act_x = bag_of_word_model.transform(data_set[x_label].values)\n",
    "    act_y = label_model.transform(data_set['topic'])\n",
    "\n",
    "    return act_x, act_y"
   ]
  },
  {
   "cell_type": "code",
   "execution_count": null,
   "metadata": {},
   "outputs": [],
   "source": []
  }
 ],
 "metadata": {
  "language_info": {
   "codemirror_mode": {
    "name": "ipython",
    "version": 3
   },
   "file_extension": ".py",
   "mimetype": "text/x-python",
   "name": "python",
   "nbconvert_exporter": "python",
   "pygments_lexer": "ipython3",
   "version": "3.8.2-final"
  },
  "orig_nbformat": 2,
  "kernelspec": {
   "name": "python38264bit440a9b05b92d4257b31359ad5d640545",
   "display_name": "Python 3.8.2 64-bit"
  }
 },
 "nbformat": 4,
 "nbformat_minor": 2
}