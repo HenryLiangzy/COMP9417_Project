{
 "cells": [
  {
   "cell_type": "code",
   "execution_count": 56,
   "metadata": {},
   "outputs": [],
   "source": [
    "import numpy as np\n",
    "import pandas as pd\n",
    "from tensorflow import keras\n",
    "from keras import Sequential\n",
    "from keras.layers import Dense\n",
    "from keras.wrappers.scikit_learn import KerasClassifier\n",
    "from sklearn import preprocessing, metrics\n",
    "from sklearn.feature_extraction.text import TfidfVectorizer\n",
    "np.random.seed(1)"
   ]
  },
  {
   "cell_type": "code",
   "execution_count": 15,
   "metadata": {},
   "outputs": [],
   "source": [
    "test_df = pd.read_csv(\"test.csv\")"
   ]
  },
  {
   "cell_type": "code",
   "execution_count": 16,
   "metadata": {},
   "outputs": [
    {
     "data": {
      "text/html": [
       "<div>\n",
       "<style scoped>\n",
       "    .dataframe tbody tr th:only-of-type {\n",
       "        vertical-align: middle;\n",
       "    }\n",
       "\n",
       "    .dataframe tbody tr th {\n",
       "        vertical-align: top;\n",
       "    }\n",
       "\n",
       "    .dataframe thead th {\n",
       "        text-align: right;\n",
       "    }\n",
       "</style>\n",
       "<table border=\"1\" class=\"dataframe\">\n",
       "  <thead>\n",
       "    <tr style=\"text-align: right;\">\n",
       "      <th></th>\n",
       "      <th>article_number</th>\n",
       "      <th>article_words</th>\n",
       "      <th>topic</th>\n",
       "    </tr>\n",
       "  </thead>\n",
       "  <tbody>\n",
       "    <tr>\n",
       "      <th>0</th>\n",
       "      <td>9501</td>\n",
       "      <td>world,complet,pharmaceut,tianjin,tianjin,chin,...</td>\n",
       "      <td>IRRELEVANT</td>\n",
       "    </tr>\n",
       "    <tr>\n",
       "      <th>1</th>\n",
       "      <td>9502</td>\n",
       "      <td>copy,sunday,weekend,ec,friday,eu,includ,limit,...</td>\n",
       "      <td>IRRELEVANT</td>\n",
       "    </tr>\n",
       "    <tr>\n",
       "      <th>2</th>\n",
       "      <td>9503</td>\n",
       "      <td>heavy,heavy,gabriel,morn,morn,equit,cent,cent,...</td>\n",
       "      <td>FOREX MARKETS</td>\n",
       "    </tr>\n",
       "    <tr>\n",
       "      <th>3</th>\n",
       "      <td>9504</td>\n",
       "      <td>research,jess,hit,anticip,comput,comput,comput...</td>\n",
       "      <td>IRRELEVANT</td>\n",
       "    </tr>\n",
       "    <tr>\n",
       "      <th>4</th>\n",
       "      <td>9505</td>\n",
       "      <td>provid,provid,luxembourg,court,court,case,opin...</td>\n",
       "      <td>IRRELEVANT</td>\n",
       "    </tr>\n",
       "    <tr>\n",
       "      <th>...</th>\n",
       "      <td>...</td>\n",
       "      <td>...</td>\n",
       "      <td>...</td>\n",
       "    </tr>\n",
       "    <tr>\n",
       "      <th>495</th>\n",
       "      <td>9996</td>\n",
       "      <td>symantec,soon,interfac,provid,provid,comput,co...</td>\n",
       "      <td>IRRELEVANT</td>\n",
       "    </tr>\n",
       "    <tr>\n",
       "      <th>496</th>\n",
       "      <td>9997</td>\n",
       "      <td>hit,hit,hit,hit,hit,hit,hit,hit,hit,beat,beat,...</td>\n",
       "      <td>SPORTS</td>\n",
       "    </tr>\n",
       "    <tr>\n",
       "      <th>497</th>\n",
       "      <td>9998</td>\n",
       "      <td>cent,cent,cent,cent,match,declin,act,rate,rate...</td>\n",
       "      <td>MONEY MARKETS</td>\n",
       "    </tr>\n",
       "    <tr>\n",
       "      <th>498</th>\n",
       "      <td>9999</td>\n",
       "      <td>cnmv,cnmv,stock,count,count,week,group,friday,...</td>\n",
       "      <td>SHARE LISTINGS</td>\n",
       "    </tr>\n",
       "    <tr>\n",
       "      <th>499</th>\n",
       "      <td>10000</td>\n",
       "      <td>matthey,matthey,metal,hit,morn,widen,widen,cen...</td>\n",
       "      <td>IRRELEVANT</td>\n",
       "    </tr>\n",
       "  </tbody>\n",
       "</table>\n",
       "<p>500 rows × 3 columns</p>\n",
       "</div>"
      ],
      "text/plain": [
       "     article_number                                      article_words  \\\n",
       "0              9501  world,complet,pharmaceut,tianjin,tianjin,chin,...   \n",
       "1              9502  copy,sunday,weekend,ec,friday,eu,includ,limit,...   \n",
       "2              9503  heavy,heavy,gabriel,morn,morn,equit,cent,cent,...   \n",
       "3              9504  research,jess,hit,anticip,comput,comput,comput...   \n",
       "4              9505  provid,provid,luxembourg,court,court,case,opin...   \n",
       "..              ...                                                ...   \n",
       "495            9996  symantec,soon,interfac,provid,provid,comput,co...   \n",
       "496            9997  hit,hit,hit,hit,hit,hit,hit,hit,hit,beat,beat,...   \n",
       "497            9998  cent,cent,cent,cent,match,declin,act,rate,rate...   \n",
       "498            9999  cnmv,cnmv,stock,count,count,week,group,friday,...   \n",
       "499           10000  matthey,matthey,metal,hit,morn,widen,widen,cen...   \n",
       "\n",
       "              topic  \n",
       "0        IRRELEVANT  \n",
       "1        IRRELEVANT  \n",
       "2     FOREX MARKETS  \n",
       "3        IRRELEVANT  \n",
       "4        IRRELEVANT  \n",
       "..              ...  \n",
       "495      IRRELEVANT  \n",
       "496          SPORTS  \n",
       "497   MONEY MARKETS  \n",
       "498  SHARE LISTINGS  \n",
       "499      IRRELEVANT  \n",
       "\n",
       "[500 rows x 3 columns]"
      ]
     },
     "execution_count": 16,
     "metadata": {},
     "output_type": "execute_result"
    }
   ],
   "source": [
    "test_df"
   ]
  },
  {
   "cell_type": "code",
   "execution_count": 17,
   "metadata": {},
   "outputs": [],
   "source": [
    "train_df = pd.read_csv(\"training.csv\")"
   ]
  },
  {
   "cell_type": "code",
   "execution_count": 18,
   "metadata": {},
   "outputs": [
    {
     "data": {
      "text/html": [
       "<div>\n",
       "<style scoped>\n",
       "    .dataframe tbody tr th:only-of-type {\n",
       "        vertical-align: middle;\n",
       "    }\n",
       "\n",
       "    .dataframe tbody tr th {\n",
       "        vertical-align: top;\n",
       "    }\n",
       "\n",
       "    .dataframe thead th {\n",
       "        text-align: right;\n",
       "    }\n",
       "</style>\n",
       "<table border=\"1\" class=\"dataframe\">\n",
       "  <thead>\n",
       "    <tr style=\"text-align: right;\">\n",
       "      <th></th>\n",
       "      <th>article_number</th>\n",
       "      <th>article_words</th>\n",
       "      <th>topic</th>\n",
       "    </tr>\n",
       "  </thead>\n",
       "  <tbody>\n",
       "    <tr>\n",
       "      <th>0</th>\n",
       "      <td>1</td>\n",
       "      <td>open,absent,cent,cent,cent,stock,inflow,rate,k...</td>\n",
       "      <td>FOREX MARKETS</td>\n",
       "    </tr>\n",
       "    <tr>\n",
       "      <th>1</th>\n",
       "      <td>2</td>\n",
       "      <td>morn,stead,end,end,day,day,day,patch,patch,pat...</td>\n",
       "      <td>MONEY MARKETS</td>\n",
       "    </tr>\n",
       "    <tr>\n",
       "      <th>2</th>\n",
       "      <td>3</td>\n",
       "      <td>socc,socc,world,world,recent,law,fifa,fifa,fif...</td>\n",
       "      <td>SPORTS</td>\n",
       "    </tr>\n",
       "    <tr>\n",
       "      <th>3</th>\n",
       "      <td>4</td>\n",
       "      <td>open,forint,forint,forint,forint,cent,cent,ste...</td>\n",
       "      <td>FOREX MARKETS</td>\n",
       "    </tr>\n",
       "    <tr>\n",
       "      <th>4</th>\n",
       "      <td>5</td>\n",
       "      <td>morn,complet,weekend,minut,minut,minut,arrow,d...</td>\n",
       "      <td>IRRELEVANT</td>\n",
       "    </tr>\n",
       "    <tr>\n",
       "      <th>...</th>\n",
       "      <td>...</td>\n",
       "      <td>...</td>\n",
       "      <td>...</td>\n",
       "    </tr>\n",
       "    <tr>\n",
       "      <th>9495</th>\n",
       "      <td>9496</td>\n",
       "      <td>cloud,provid,hope,centur,erupt,rule,recent,sou...</td>\n",
       "      <td>DEFENCE</td>\n",
       "    </tr>\n",
       "    <tr>\n",
       "      <th>9496</th>\n",
       "      <td>9497</td>\n",
       "      <td>stock,stock,stock,declin,access,week,worry,blo...</td>\n",
       "      <td>IRRELEVANT</td>\n",
       "    </tr>\n",
       "    <tr>\n",
       "      <th>9497</th>\n",
       "      <td>9498</td>\n",
       "      <td>rate,million,million,belarus,dollar,dollar,nov...</td>\n",
       "      <td>FOREX MARKETS</td>\n",
       "    </tr>\n",
       "    <tr>\n",
       "      <th>9498</th>\n",
       "      <td>9499</td>\n",
       "      <td>flow,bullet,bullet,bullet,bullet,bullet,bullet...</td>\n",
       "      <td>IRRELEVANT</td>\n",
       "    </tr>\n",
       "    <tr>\n",
       "      <th>9499</th>\n",
       "      <td>9500</td>\n",
       "      <td>helsingin,mechan,follow,sanomat,limit,market,r...</td>\n",
       "      <td>FOREX MARKETS</td>\n",
       "    </tr>\n",
       "  </tbody>\n",
       "</table>\n",
       "<p>9500 rows × 3 columns</p>\n",
       "</div>"
      ],
      "text/plain": [
       "      article_number                                      article_words  \\\n",
       "0                  1  open,absent,cent,cent,cent,stock,inflow,rate,k...   \n",
       "1                  2  morn,stead,end,end,day,day,day,patch,patch,pat...   \n",
       "2                  3  socc,socc,world,world,recent,law,fifa,fifa,fif...   \n",
       "3                  4  open,forint,forint,forint,forint,cent,cent,ste...   \n",
       "4                  5  morn,complet,weekend,minut,minut,minut,arrow,d...   \n",
       "...              ...                                                ...   \n",
       "9495            9496  cloud,provid,hope,centur,erupt,rule,recent,sou...   \n",
       "9496            9497  stock,stock,stock,declin,access,week,worry,blo...   \n",
       "9497            9498  rate,million,million,belarus,dollar,dollar,nov...   \n",
       "9498            9499  flow,bullet,bullet,bullet,bullet,bullet,bullet...   \n",
       "9499            9500  helsingin,mechan,follow,sanomat,limit,market,r...   \n",
       "\n",
       "              topic  \n",
       "0     FOREX MARKETS  \n",
       "1     MONEY MARKETS  \n",
       "2            SPORTS  \n",
       "3     FOREX MARKETS  \n",
       "4        IRRELEVANT  \n",
       "...             ...  \n",
       "9495        DEFENCE  \n",
       "9496     IRRELEVANT  \n",
       "9497  FOREX MARKETS  \n",
       "9498     IRRELEVANT  \n",
       "9499  FOREX MARKETS  \n",
       "\n",
       "[9500 rows x 3 columns]"
      ]
     },
     "execution_count": 18,
     "metadata": {},
     "output_type": "execute_result"
    }
   ],
   "source": [
    "train_df"
   ]
  },
  {
   "cell_type": "markdown",
   "metadata": {},
   "source": [
    "# Preprocessing\n",
    "*base on the work of Raymond*\n",
    "\n",
    "Since `imblearn` is not a module installed on cse machine, did not apply.\n"
   ]
  },
  {
   "cell_type": "code",
   "execution_count": 31,
   "metadata": {},
   "outputs": [
    {
     "name": "stdout",
     "output_type": "stream",
     "text": [
      "['IRRELEVANT', 'BIOGRAPHIES PERSONALITIES PEOPLE', 'SCIENCE AND TECHNOLOGY', 'DEFENCE', 'SHARE LISTINGS', 'SPORTS', 'FOREX MARKETS', 'ARTS CULTURE ENTERTAINMENT', 'DOMESTIC MARKETS', 'MONEY MARKETS', 'HEALTH']\n"
     ]
    }
   ],
   "source": [
    "train_x = train_df.article_words\n",
    "train_y = train_df.topic\n",
    "test_x = test_df.article_words\n",
    "test_y = test_df.topic\n",
    "\n",
    "en_train_y = preprocessing.LabelEncoder().fit_transform(train_y)\n",
    "en_test_y = preprocessing.LabelEncoder().fit_transform(test_y)\n",
    "categories=list(set(train_df['topic']))\n",
    "print(categories)"
   ]
  },
  {
   "cell_type": "code",
   "execution_count": 27,
   "metadata": {},
   "outputs": [
    {
     "name": "stdout",
     "output_type": "stream",
     "text": [
      "(9500, 35822) (500, 35822)\n"
     ]
    }
   ],
   "source": [
    "vectorizer = TfidfVectorizer().fit(train_x)\n",
    "train_vectors = vectorizer.transform(train_x)\n",
    "test_vectors = vectorizer.transform(test_x)\n",
    "print(train_vectors.shape,test_vectors.shape)\n",
    "dim = train_vectors.shape[1]"
   ]
  },
  {
   "cell_type": "markdown",
   "metadata": {},
   "source": [
    "# Training Model"
   ]
  },
  {
   "cell_type": "code",
   "execution_count": 64,
   "metadata": {},
   "outputs": [],
   "source": [
    "def network():\n",
    "    model = Sequential()\n",
    "    model.add(Dense(11, input_dim=35822, activation='relu'))\n",
    "    model.compile(loss='categorical_crossentropy', optimizer='adam', metrics=['accuracy'])\n",
    "    return model"
   ]
  },
  {
   "cell_type": "code",
   "execution_count": 65,
   "metadata": {},
   "outputs": [],
   "source": [
    "estimator = KerasClassifier(build_fn=network, epochs=100, batch_size=5, verbose=0)"
   ]
  },
  {
   "cell_type": "code",
   "execution_count": 66,
   "metadata": {},
   "outputs": [
    {
     "data": {
      "text/plain": [
       "<keras.callbacks.callbacks.History at 0x13e683350>"
      ]
     },
     "execution_count": 66,
     "metadata": {},
     "output_type": "execute_result"
    }
   ],
   "source": [
    "estimator.fit(train_vectors, train_y)"
   ]
  },
  {
   "cell_type": "code",
   "execution_count": 67,
   "metadata": {},
   "outputs": [
    {
     "data": {
      "text/plain": [
       "array([[  3,   0,   0,   0,   0,   0,   0,   0,   0,   0,   0],\n",
       "       [ 15,   0,   0,   0,   0,   0,   0,   0,   0,   0,   0],\n",
       "       [ 13,   0,   0,   0,   0,   0,   0,   0,   0,   0,   0],\n",
       "       [  2,   0,   0,   0,   0,   0,   0,   0,   0,   0,   0],\n",
       "       [ 48,   0,   0,   0,   0,   0,   0,   0,   0,   0,   0],\n",
       "       [ 14,   0,   0,   0,   0,   0,   0,   0,   0,   0,   0],\n",
       "       [266,   0,   0,   0,   0,   0,   0,   0,   0,   0,   0],\n",
       "       [ 69,   0,   0,   0,   0,   0,   0,   0,   0,   0,   0],\n",
       "       [  3,   0,   0,   0,   0,   0,   0,   0,   0,   0,   0],\n",
       "       [  7,   0,   0,   0,   0,   0,   0,   0,   0,   0,   0],\n",
       "       [ 60,   0,   0,   0,   0,   0,   0,   0,   0,   0,   0]])"
      ]
     },
     "execution_count": 67,
     "metadata": {},
     "output_type": "execute_result"
    }
   ],
   "source": [
    "test_pred = estimator.predict(test_vectors)\n",
    "metrics.confusion_matrix(test_y, test_pred)"
   ]
  },
  {
   "cell_type": "code",
   "execution_count": null,
   "metadata": {},
   "outputs": [],
   "source": []
  }
 ],
 "metadata": {
  "kernelspec": {
   "display_name": "Python 3.7.4 64-bit",
   "language": "python",
   "name": "python37464bit54f3a551cc7b4ff589218c6160942c64"
  },
  "language_info": {
   "codemirror_mode": {
    "name": "ipython",
    "version": 3
   },
   "file_extension": ".py",
   "mimetype": "text/x-python",
   "name": "python",
   "nbconvert_exporter": "python",
   "pygments_lexer": "ipython3",
   "version": "3.7.4"
  }
 },
 "nbformat": 4,
 "nbformat_minor": 2
}
