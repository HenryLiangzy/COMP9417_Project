{
 "cells": [
  {
   "cell_type": "code",
   "execution_count": 104,
   "metadata": {},
   "outputs": [],
   "source": [
    "# Code for hiding seaborn warnings\n",
    "import warnings\n",
    "warnings.filterwarnings(\"ignore\")\n",
    "import numpy as np\n",
    "import pandas as pd\n",
    "import matplotlib.pyplot as plt\n",
    "import seaborn as sns\n",
    "sns.set_style(\"whitegrid\")\n",
    "#import altair as alt\n",
    "# need to 'pip install vega' before using renderer\n",
    "#alt.renderers.enable(\"notebook\")\n",
    "# Code for hiding seaborn warnings\n",
    "import warnings\n",
    "warnings.filterwarnings(\"ignore\")\n",
    "from imblearn.over_sampling import SMOTE\n",
    "from sklearn import preprocessing,metrics\n",
    "from sklearn.metrics import accuracy_score,f1_score,recall_score,roc_auc_score\n",
    "from sklearn.feature_extraction.text import TfidfVectorizer,CountVectorizer\n",
    "from sklearn.model_selection import train_test_split, GridSearchCV, learning_curve,StratifiedKFold\n",
    "from sklearn.naive_bayes import MultinomialNB\n",
    "from sklearn.pipeline import make_pipeline, Pipeline\n",
    "from sklearn.decomposition import PCA,TruncatedSVD\n",
    "import scipy\n",
    "import os\n",
    "from joblib import dump, load\n",
    "from sklearn.metrics import classification_report,confusion_matrix,plot_confusion_matrix\n",
    "from sklearn.metrics import precision_recall_fscore_support as prfs\n",
    "# test for Selecting The Best Number Of Components For TSVD\n",
    "from sklearn.preprocessing import StandardScaler\n",
    "from scipy.sparse import csr_matrix\n",
    "%matplotlib inline\n",
    "#fix random seed\n",
    "np.random.seed(1)"
   ]
  },
  {
   "cell_type": "code",
   "execution_count": 105,
   "metadata": {},
   "outputs": [],
   "source": [
    "# !jupyter nbextension enable vega --py --sys-prefix"
   ]
  },
  {
   "cell_type": "code",
   "execution_count": 106,
   "metadata": {},
   "outputs": [
    {
     "name": "stdout",
     "output_type": "stream",
     "text": [
      "article_number    0\n",
      "article_words     0\n",
      "topic             0\n",
      "dtype: int64\n"
     ]
    },
    {
     "data": {
      "text/html": [
       "<div>\n",
       "<style scoped>\n",
       "    .dataframe tbody tr th:only-of-type {\n",
       "        vertical-align: middle;\n",
       "    }\n",
       "\n",
       "    .dataframe tbody tr th {\n",
       "        vertical-align: top;\n",
       "    }\n",
       "\n",
       "    .dataframe thead th {\n",
       "        text-align: right;\n",
       "    }\n",
       "</style>\n",
       "<table border=\"1\" class=\"dataframe\">\n",
       "  <thead>\n",
       "    <tr style=\"text-align: right;\">\n",
       "      <th></th>\n",
       "      <th>article_number</th>\n",
       "      <th>article_words</th>\n",
       "      <th>topic</th>\n",
       "    </tr>\n",
       "  </thead>\n",
       "  <tbody>\n",
       "    <tr>\n",
       "      <th>0</th>\n",
       "      <td>1</td>\n",
       "      <td>open,absent,cent,cent,cent,stock,inflow,rate,k...</td>\n",
       "      <td>FOREX MARKETS</td>\n",
       "    </tr>\n",
       "    <tr>\n",
       "      <th>1</th>\n",
       "      <td>2</td>\n",
       "      <td>morn,stead,end,end,day,day,day,patch,patch,pat...</td>\n",
       "      <td>MONEY MARKETS</td>\n",
       "    </tr>\n",
       "    <tr>\n",
       "      <th>2</th>\n",
       "      <td>3</td>\n",
       "      <td>socc,socc,world,world,recent,law,fifa,fifa,fif...</td>\n",
       "      <td>SPORTS</td>\n",
       "    </tr>\n",
       "    <tr>\n",
       "      <th>3</th>\n",
       "      <td>4</td>\n",
       "      <td>open,forint,forint,forint,forint,cent,cent,ste...</td>\n",
       "      <td>FOREX MARKETS</td>\n",
       "    </tr>\n",
       "    <tr>\n",
       "      <th>4</th>\n",
       "      <td>5</td>\n",
       "      <td>morn,complet,weekend,minut,minut,minut,arrow,d...</td>\n",
       "      <td>IRRELEVANT</td>\n",
       "    </tr>\n",
       "  </tbody>\n",
       "</table>\n",
       "</div>"
      ],
      "text/plain": [
       "   article_number                                      article_words  \\\n",
       "0               1  open,absent,cent,cent,cent,stock,inflow,rate,k...   \n",
       "1               2  morn,stead,end,end,day,day,day,patch,patch,pat...   \n",
       "2               3  socc,socc,world,world,recent,law,fifa,fifa,fif...   \n",
       "3               4  open,forint,forint,forint,forint,cent,cent,ste...   \n",
       "4               5  morn,complet,weekend,minut,minut,minut,arrow,d...   \n",
       "\n",
       "           topic  \n",
       "0  FOREX MARKETS  \n",
       "1  MONEY MARKETS  \n",
       "2         SPORTS  \n",
       "3  FOREX MARKETS  \n",
       "4     IRRELEVANT  "
      ]
     },
     "execution_count": 106,
     "metadata": {},
     "output_type": "execute_result"
    }
   ],
   "source": [
    "TRAINING_FILE = \"../training.csv\"\n",
    "TEST_FILE = \"../test.csv\"\n",
    "df = pd.read_csv(TRAINING_FILE)\n",
    "print(df.isnull().sum())\n",
    "df.head(5)"
   ]
  },
  {
   "cell_type": "code",
   "execution_count": 107,
   "metadata": {},
   "outputs": [
    {
     "name": "stdout",
     "output_type": "stream",
     "text": [
      "['IRRELEVANT', 'DEFENCE', 'SHARE LISTINGS', 'HEALTH', 'BIOGRAPHIES PERSONALITIES PEOPLE', 'DOMESTIC MARKETS', 'SCIENCE AND TECHNOLOGY', 'FOREX MARKETS', 'SPORTS', 'MONEY MARKETS', 'ARTS CULTURE ENTERTAINMENT']\n"
     ]
    }
   ],
   "source": [
    "new_df = df\n",
    "train_x = new_df.article_words.apply(lambda x: x.replace('_', ''))\n",
    "train_y = new_df.topic\n",
    "le = preprocessing.LabelEncoder()\n",
    "le.fit(train_y)\n",
    "encode_mapping = dict(zip(le.classes_, range(len(le.classes_))))\n",
    "en_train_y = le.transform(train_y)\n",
    "topics = list(set(df['topic']))\n",
    "TOPIC_COUNT = len(topics)\n",
    "print(topics)"
   ]
  },
  {
   "cell_type": "code",
   "execution_count": 108,
   "metadata": {},
   "outputs": [],
   "source": [
    "smote = SMOTE(random_state=1)\n",
    "vectorizer = TfidfVectorizer()\n",
    "vectorizer.fit(train_x)\n",
    "train_vectors = vectorizer.transform(train_x)\n",
    "smo_x,smo_y = smote.fit_sample(train_vectors,en_train_y)\n",
    "new_train_x = vectorizer.inverse_transform(smo_x)\n",
    "new_train_x = pd.Series([','.join(item) for item in new_train_x])"
   ]
  },
  {
   "cell_type": "code",
   "execution_count": 28,
   "metadata": {},
   "outputs": [
    {
     "data": {
      "text/plain": [
       "Pipeline(memory=None,\n",
       "         steps=[('tfidf',\n",
       "                 TfidfVectorizer(analyzer='word', binary=False,\n",
       "                                 decode_error='strict',\n",
       "                                 dtype=<class 'numpy.float64'>,\n",
       "                                 encoding='utf-8', input='content',\n",
       "                                 lowercase=True, max_df=1.0, max_features=None,\n",
       "                                 min_df=1, ngram_range=(1, 1), norm=None,\n",
       "                                 preprocessor=None, smooth_idf=True,\n",
       "                                 stop_words=None, strip_accents=None,\n",
       "                                 sublinear_tf=False,\n",
       "                                 token_pattern='(?u)\\\\b\\\\w\\\\w+\\\\b',\n",
       "                                 tokenizer=None, use_idf=True,\n",
       "                                 vocabulary=None)),\n",
       "                ('model',\n",
       "                 MultinomialNB(alpha=1.0, class_prior=None, fit_prior=True))],\n",
       "         verbose=False)"
      ]
     },
     "execution_count": 28,
     "metadata": {},
     "output_type": "execute_result"
    }
   ],
   "source": [
    "# For Tfidf Vectorizer\n",
    "kfold = StratifiedKFold(n_splits=10,shuffle=True,random_state=1)\n",
    "estimators = [\n",
    "                (\"tfidf\",TfidfVectorizer(norm=None)),\n",
    "                (\"model\",MultinomialNB())\n",
    "              ]\n",
    "pipe = Pipeline(estimators)\n",
    "\n",
    "param_grid = {\n",
    "                \"tfidf__min_df\":[i for i in range(1,6)],\n",
    "                \"model__alpha\":[0.001,0.01,0.1,1],\n",
    "                \"model__class_prior\":[None,[1/len(topics) for i in range(len(topics))]],\n",
    "                \"model__fit_prior\":[True,False]\n",
    "             }\n",
    "pipe"
   ]
  },
  {
   "cell_type": "code",
   "execution_count": 7,
   "metadata": {},
   "outputs": [
    {
     "data": {
      "text/plain": [
       "Pipeline(memory=None,\n",
       "         steps=[('count',\n",
       "                 CountVectorizer(analyzer='word', binary=False,\n",
       "                                 decode_error='strict',\n",
       "                                 dtype=<class 'numpy.int64'>, encoding='utf-8',\n",
       "                                 input='content', lowercase=True, max_df=1.0,\n",
       "                                 max_features=None, min_df=1,\n",
       "                                 ngram_range=(1, 1), preprocessor=None,\n",
       "                                 stop_words=None, strip_accents=None,\n",
       "                                 token_pattern='(?u)\\\\b\\\\w\\\\w+\\\\b',\n",
       "                                 tokenizer=None, vocabulary=None)),\n",
       "                ('model',\n",
       "                 MultinomialNB(alpha=1.0, class_prior=None, fit_prior=True))],\n",
       "         verbose=False)"
      ]
     },
     "execution_count": 7,
     "metadata": {},
     "output_type": "execute_result"
    }
   ],
   "source": [
    "# For CountVectorizer\n",
    "kfold = StratifiedKFold(n_splits=10,shuffle=True,random_state=1)\n",
    "estimators = [\n",
    "                (\"count\",CountVectorizer()),\n",
    "                (\"model\",MultinomialNB())\n",
    "              ]\n",
    "pipe = Pipeline(estimators)\n",
    "\n",
    "param_grid = {\n",
    "                \"count__min_df\":[i for i in range(1,6)],\n",
    "                \"model__alpha\":[0.001,0.01,0.1,1],\n",
    "                \"model__class_prior\":[None,[1/len(topics) for i in range(len(topics))]],\n",
    "                \"model__fit_prior\":[True,False]\n",
    "             }\n",
    "pipe"
   ]
  },
  {
   "cell_type": "code",
   "execution_count": 29,
   "metadata": {},
   "outputs": [
    {
     "name": "stdout",
     "output_type": "stream",
     "text": [
      "The best parameters are {'model__alpha': 0.001, 'model__class_prior': None, 'model__fit_prior': True, 'tfidf__min_df': 1}, with score 0.9623997900144465\n",
      "CPU times: user 52.4 s, sys: 47.8 s, total: 1min 40s\n",
      "Wall time: 44min 23s\n"
     ]
    }
   ],
   "source": [
    "%%time\n",
    "# For Tfidf Vectorizer\n",
    "grid_search = GridSearchCV(pipe, param_grid, cv=kfold, n_jobs=-1)\n",
    "\n",
    "# through in original text samples\n",
    "grid_result=grid_search.fit(new_train_x, smo_y)\n",
    "print(\"The best parameters are {0}, with score {1:4}\".format(grid_result.best_params_,grid_result.best_score_))"
   ]
  },
  {
   "cell_type": "code",
   "execution_count": 9,
   "metadata": {},
   "outputs": [
    {
     "name": "stdout",
     "output_type": "stream",
     "text": [
      "The best parameters are {'count__min_df': 1, 'model__alpha': 0.001, 'model__class_prior': None, 'model__fit_prior': True}, with score 0.957253222723635\n",
      "CPU times: user 46.1 s, sys: 46.7 s, total: 1min 32s\n",
      "Wall time: 40min 3s\n"
     ]
    }
   ],
   "source": [
    "%%time\n",
    "# For CountVectorizer \n",
    "count_grid_search = GridSearchCV(pipe, param_grid, cv=kfold, n_jobs=-1)\n",
    "\n",
    "# through in original text samples\n",
    "count_grid_result=count_grid_search.fit(new_train_x, smo_y)\n",
    "print(\"The best parameters are {0}, with score {1:4}\".format(count_grid_result.best_params_,count_grid_result.best_score_))"
   ]
  },
  {
   "cell_type": "code",
   "execution_count": 59,
   "metadata": {},
   "outputs": [],
   "source": [
    "def get_scores(en_dev_y,pred_y,model_name,topic=None):\n",
    "    f1 = f1_score(en_dev_y,pred_y,average='macro')\n",
    "    accuracy = accuracy_score(en_dev_y,pred_y)\n",
    "    recall = recall_score(en_dev_y,pred_y,average='macro')\n",
    "    if(topic==None):\n",
    "        print(\"F1 score for \",model_name,\" model is \",f1)\n",
    "        print(\"Accuracy score for \",model_name,\" model is \",accuracy)\n",
    "        print(\"Recall score for \",model_name,\" model is \",recall,\"\\n\")\n",
    "    else:\n",
    "        return ([topic,{'accuracy':accuracy,'f1':f1,'recall':recall}])\n",
    "    \n",
    "def save_variable(variable,filename):\n",
    "    file_name = \"Models/\"+filename+\".joblib\"\n",
    "    if not os.path.exists(file_name):\n",
    "    # Export the model (TFIDF+logistic regressor)\n",
    "        with open(file_name, \"wb\") as file:\n",
    "            dump(variable, file, compress=True)\n",
    "    else:\n",
    "        print(\"Warn: this model already exits...\")\n",
    "        \n",
    "def retrieve_variable(filename):\n",
    "    file_name = \"Models/\"+filename+\".joblib\"\n",
    "    return(load(file_name))"
   ]
  },
  {
   "cell_type": "code",
   "execution_count": 71,
   "metadata": {},
   "outputs": [
    {
     "name": "stdout",
     "output_type": "stream",
     "text": [
      "Accuracy on training set: 0.962\n"
     ]
    }
   ],
   "source": [
    "clf_NB = grid_result.best_estimator_\n",
    "acc_train_NB = grid_result.best_score_\n",
    "print(f\"Accuracy on training set: {acc_train_NB:.3f}\")\n",
    "save_variable(clf_NB,\"clf_NB\")\n",
    "save_variable(grid_result,\"grid_result\")"
   ]
  },
  {
   "cell_type": "code",
   "execution_count": 12,
   "metadata": {},
   "outputs": [
    {
     "name": "stdout",
     "output_type": "stream",
     "text": [
      "Accuracy on training set: 0.957\n",
      "Warn: this model already exits...\n"
     ]
    }
   ],
   "source": [
    "clf_count_NB = count_grid_result.best_estimator_\n",
    "acc_train_count_NB = count_grid_result.best_score_\n",
    "print(f\"Accuracy on training set: {acc_train_count_NB:.3f}\")\n",
    "save_variable(clf_count_NB,\"count_clf_NB\")\n",
    "save_variable(count_grid_result,\"count_grid_result\")"
   ]
  },
  {
   "cell_type": "code",
   "execution_count": 13,
   "metadata": {},
   "outputs": [
    {
     "name": "stdout",
     "output_type": "stream",
     "text": [
      "article_number    0\n",
      "article_words     0\n",
      "topic             0\n",
      "dtype: int64\n"
     ]
    },
    {
     "data": {
      "text/html": [
       "<div>\n",
       "<style scoped>\n",
       "    .dataframe tbody tr th:only-of-type {\n",
       "        vertical-align: middle;\n",
       "    }\n",
       "\n",
       "    .dataframe tbody tr th {\n",
       "        vertical-align: top;\n",
       "    }\n",
       "\n",
       "    .dataframe thead th {\n",
       "        text-align: right;\n",
       "    }\n",
       "</style>\n",
       "<table border=\"1\" class=\"dataframe\">\n",
       "  <thead>\n",
       "    <tr style=\"text-align: right;\">\n",
       "      <th></th>\n",
       "      <th>article_number</th>\n",
       "      <th>article_words</th>\n",
       "      <th>topic</th>\n",
       "    </tr>\n",
       "  </thead>\n",
       "  <tbody>\n",
       "    <tr>\n",
       "      <th>0</th>\n",
       "      <td>9501</td>\n",
       "      <td>world,complet,pharmaceut,tianjin,tianjin,chin,...</td>\n",
       "      <td>IRRELEVANT</td>\n",
       "    </tr>\n",
       "    <tr>\n",
       "      <th>1</th>\n",
       "      <td>9502</td>\n",
       "      <td>copy,sunday,weekend,ec,friday,eu,includ,limit,...</td>\n",
       "      <td>IRRELEVANT</td>\n",
       "    </tr>\n",
       "    <tr>\n",
       "      <th>2</th>\n",
       "      <td>9503</td>\n",
       "      <td>heavy,heavy,gabriel,morn,morn,equit,cent,cent,...</td>\n",
       "      <td>FOREX MARKETS</td>\n",
       "    </tr>\n",
       "    <tr>\n",
       "      <th>3</th>\n",
       "      <td>9504</td>\n",
       "      <td>research,jess,hit,anticip,comput,comput,comput...</td>\n",
       "      <td>IRRELEVANT</td>\n",
       "    </tr>\n",
       "    <tr>\n",
       "      <th>4</th>\n",
       "      <td>9505</td>\n",
       "      <td>provid,provid,luxembourg,court,court,case,opin...</td>\n",
       "      <td>IRRELEVANT</td>\n",
       "    </tr>\n",
       "  </tbody>\n",
       "</table>\n",
       "</div>"
      ],
      "text/plain": [
       "   article_number                                      article_words  \\\n",
       "0            9501  world,complet,pharmaceut,tianjin,tianjin,chin,...   \n",
       "1            9502  copy,sunday,weekend,ec,friday,eu,includ,limit,...   \n",
       "2            9503  heavy,heavy,gabriel,morn,morn,equit,cent,cent,...   \n",
       "3            9504  research,jess,hit,anticip,comput,comput,comput...   \n",
       "4            9505  provid,provid,luxembourg,court,court,case,opin...   \n",
       "\n",
       "           topic  \n",
       "0     IRRELEVANT  \n",
       "1     IRRELEVANT  \n",
       "2  FOREX MARKETS  \n",
       "3     IRRELEVANT  \n",
       "4     IRRELEVANT  "
      ]
     },
     "execution_count": 13,
     "metadata": {},
     "output_type": "execute_result"
    }
   ],
   "source": [
    "df_test = pd.read_csv(TEST_FILE)\n",
    "print(df_test.isnull().sum())\n",
    "df_test.head(5)"
   ]
  },
  {
   "cell_type": "code",
   "execution_count": 19,
   "metadata": {},
   "outputs": [],
   "source": [
    "test_x = df_test.article_words.apply(lambda x: x.replace('_', ''))\n",
    "test_y = df_test.topic\n",
    "en_test_y = le.transform(test_y)\n",
    "y_pred = clf_NB.predict(test_x)\n",
    "train_y_pred = clf_NB.predict(train_x)"
   ]
  },
  {
   "cell_type": "code",
   "execution_count": 20,
   "metadata": {},
   "outputs": [],
   "source": [
    "count_y_pred = clf_count_NB.predict(test_x)\n",
    "count_train_y_pred = clf_count_NB.predict(train_x)"
   ]
  },
  {
   "cell_type": "code",
   "execution_count": 48,
   "metadata": {},
   "outputs": [
    {
     "name": "stdout",
     "output_type": "stream",
     "text": [
      "F1 score for  MultinomialNB  model is  0.4556854016224356\n",
      "Accuracy score for  MultinomialNB  model is  0.724\n",
      "Recall score for  MultinomialNB  model is  0.4394210671098543 \n",
      "\n"
     ]
    }
   ],
   "source": [
    "get_scores(en_test_y,y_pred,\"MultinomialNB\")"
   ]
  },
  {
   "cell_type": "code",
   "execution_count": 18,
   "metadata": {},
   "outputs": [
    {
     "name": "stdout",
     "output_type": "stream",
     "text": [
      "F1 score for  MultinomialNB  model is  0.46308661984185123\n",
      "Accuracy score for  MultinomialNB  model is  0.714\n",
      "Recall score for  MultinomialNB  model is  0.47012121174020494 \n",
      "\n"
     ]
    }
   ],
   "source": [
    "get_scores(en_test_y,count_y_pred,\"MultinomialNB\")"
   ]
  },
  {
   "cell_type": "code",
   "execution_count": 50,
   "metadata": {},
   "outputs": [
    {
     "name": "stdout",
     "output_type": "stream",
     "text": [
      "F1 score for  nb  model is  0.9263915215365351\n",
      "Accuracy score for  nb  model is  0.9076842105263158\n",
      "Recall score for  nb  model is  0.9577271650650196 \n",
      "\n"
     ]
    }
   ],
   "source": [
    "get_scores(en_train_y,train_y_pred,\"nb\")"
   ]
  },
  {
   "cell_type": "code",
   "execution_count": 21,
   "metadata": {},
   "outputs": [
    {
     "name": "stdout",
     "output_type": "stream",
     "text": [
      "F1 score for  nb  model is  0.9009392597460851\n",
      "Accuracy score for  nb  model is  0.8831578947368421\n",
      "Recall score for  nb  model is  0.9476487451268478 \n",
      "\n"
     ]
    }
   ],
   "source": [
    "get_scores(en_train_y,count_train_y_pred,\"nb\")"
   ]
  },
  {
   "cell_type": "code",
   "execution_count": 53,
   "metadata": {},
   "outputs": [
    {
     "name": "stdout",
     "output_type": "stream",
     "text": [
      "{'ARTS CULTURE ENTERTAINMENT': 0, 'BIOGRAPHIES PERSONALITIES PEOPLE': 1, 'DEFENCE': 2, 'DOMESTIC MARKETS': 3, 'FOREX MARKETS': 4, 'HEALTH': 5, 'IRRELEVANT': 6, 'MONEY MARKETS': 7, 'SCIENCE AND TECHNOLOGY': 8, 'SHARE LISTINGS': 9, 'SPORTS': 10}\n",
      "Classification Report:\n",
      "              precision    recall  f1-score   support\n",
      "\n",
      "           0       0.33      0.33      0.33         3\n",
      "           1       1.00      0.13      0.24        15\n",
      "           2       0.86      0.46      0.60        13\n",
      "           3       0.33      0.50      0.40         2\n",
      "           4       0.36      0.33      0.34        48\n",
      "           5       0.86      0.43      0.57        14\n",
      "           6       0.82      0.84      0.83       266\n",
      "           7       0.52      0.70      0.60        69\n",
      "           8       0.00      0.00      0.00         3\n",
      "           9       0.17      0.14      0.15         7\n",
      "          10       0.94      0.97      0.95        60\n",
      "\n",
      "    accuracy                           0.72       500\n",
      "   macro avg       0.56      0.44      0.46       500\n",
      "weighted avg       0.73      0.72      0.71       500\n",
      "\n"
     ]
    }
   ],
   "source": [
    "print(encode_mapping)\n",
    "print(f\"Classification Report:\\n{classification_report(en_test_y, y_pred)}\")"
   ]
  },
  {
   "cell_type": "code",
   "execution_count": 22,
   "metadata": {},
   "outputs": [
    {
     "name": "stdout",
     "output_type": "stream",
     "text": [
      "Classification Report:\n",
      "              precision    recall  f1-score   support\n",
      "\n",
      "           0       0.33      0.33      0.33         3\n",
      "           1       1.00      0.13      0.24        15\n",
      "           2       0.86      0.46      0.60        13\n",
      "           3       0.20      0.50      0.29         2\n",
      "           4       0.35      0.35      0.35        48\n",
      "           5       0.83      0.71      0.77        14\n",
      "           6       0.84      0.78      0.81       266\n",
      "           7       0.48      0.75      0.59        69\n",
      "           8       0.00      0.00      0.00         3\n",
      "           9       0.14      0.14      0.14         7\n",
      "          10       0.95      1.00      0.98        60\n",
      "\n",
      "    accuracy                           0.71       500\n",
      "   macro avg       0.55      0.47      0.46       500\n",
      "weighted avg       0.74      0.71      0.71       500\n",
      "\n"
     ]
    }
   ],
   "source": [
    "print(f\"Classification Report:\\n{classification_report(en_test_y, count_y_pred)}\")"
   ]
  },
  {
   "cell_type": "markdown",
   "metadata": {},
   "source": [
    "### Accuracy of Topics"
   ]
  },
  {
   "cell_type": "code",
   "execution_count": 23,
   "metadata": {},
   "outputs": [
    {
     "name": "stdout",
     "output_type": "stream",
     "text": [
      "['SPORTS', {'accuracy': 0.9666666666666667, 'f1': 0.4915254237288135, 'recall': 0.48333333333333334}]\n",
      "['IRRELEVANT', {'accuracy': 0.8383458646616542, 'f1': 0.1140081799591002, 'recall': 0.10479323308270677}]\n",
      "['MONEY MARKETS', {'accuracy': 0.6956521739130435, 'f1': 0.2735042735042735, 'recall': 0.2318840579710145}]\n",
      "['DOMESTIC MARKETS', {'accuracy': 0.5, 'f1': 0.3333333333333333, 'recall': 0.25}]\n",
      "['DEFENCE', {'accuracy': 0.46153846153846156, 'f1': 0.3157894736842105, 'recall': 0.23076923076923078}]\n",
      "['HEALTH', {'accuracy': 0.42857142857142855, 'f1': 0.3, 'recall': 0.21428571428571427}]\n",
      "['FOREX MARKETS', {'accuracy': 0.3333333333333333, 'f1': 0.16666666666666666, 'recall': 0.1111111111111111}]\n",
      "['ARTS CULTURE ENTERTAINMENT', {'accuracy': 0.3333333333333333, 'f1': 0.25, 'recall': 0.16666666666666666}]\n",
      "['SHARE LISTINGS', {'accuracy': 0.14285714285714285, 'f1': 0.125, 'recall': 0.07142857142857142}]\n",
      "['BIOGRAPHIES PERSONALITIES PEOPLE', {'accuracy': 0.13333333333333333, 'f1': 0.058823529411764705, 'recall': 0.03333333333333333}]\n",
      "['SCIENCE AND TECHNOLOGY', {'accuracy': 0.0, 'f1': 0.0, 'recall': 0.0}]\n"
     ]
    }
   ],
   "source": [
    "def scores_for_topics(df,topics,model,le):\n",
    "    scores = []\n",
    "    for topic in topics:\n",
    "        topic_scores(df,topic,model,le,scores)\n",
    "    scores.sort(reverse=True,key=lambda x:x[1]['accuracy'])\n",
    "    for item in scores:\n",
    "        print(item)\n",
    "\n",
    "def topic_scores(df,topic,model,le,scores):\n",
    "    filtered_df = df[df.topic==topic]\n",
    "    test_x = filtered_df.article_words.apply(lambda x: x.replace('_', ''))\n",
    "    test_y = filtered_df.topic\n",
    "    #le.fit(train_y)\n",
    "    en_test_y = le.transform(test_y)\n",
    "    prediction = model.predict(test_x)\n",
    "    scores.append(get_scores(en_test_y,prediction,type(model).__name__,topic))\n",
    "    \n",
    "scores_for_topics(df_test,topics,clf_NB,le)"
   ]
  },
  {
   "cell_type": "code",
   "execution_count": 24,
   "metadata": {},
   "outputs": [
    {
     "name": "stdout",
     "output_type": "stream",
     "text": [
      "['SPORTS', {'accuracy': 1.0, 'f1': 1.0, 'recall': 1.0}]\n",
      "['IRRELEVANT', {'accuracy': 0.7781954887218046, 'f1': 0.10940803382663848, 'recall': 0.09727443609022557}]\n",
      "['MONEY MARKETS', {'accuracy': 0.7536231884057971, 'f1': 0.2865013774104683, 'recall': 0.25120772946859904}]\n",
      "['HEALTH', {'accuracy': 0.7142857142857143, 'f1': 0.41666666666666663, 'recall': 0.35714285714285715}]\n",
      "['DOMESTIC MARKETS', {'accuracy': 0.5, 'f1': 0.3333333333333333, 'recall': 0.25}]\n",
      "['DEFENCE', {'accuracy': 0.46153846153846156, 'f1': 0.3157894736842105, 'recall': 0.23076923076923078}]\n",
      "['FOREX MARKETS', {'accuracy': 0.3541666666666667, 'f1': 0.17435897435897438, 'recall': 0.11805555555555557}]\n",
      "['ARTS CULTURE ENTERTAINMENT', {'accuracy': 0.3333333333333333, 'f1': 0.25, 'recall': 0.16666666666666666}]\n",
      "['SHARE LISTINGS', {'accuracy': 0.14285714285714285, 'f1': 0.125, 'recall': 0.07142857142857142}]\n",
      "['BIOGRAPHIES PERSONALITIES PEOPLE', {'accuracy': 0.13333333333333333, 'f1': 0.0784313725490196, 'recall': 0.044444444444444446}]\n",
      "['SCIENCE AND TECHNOLOGY', {'accuracy': 0.0, 'f1': 0.0, 'recall': 0.0}]\n"
     ]
    }
   ],
   "source": [
    "scores_for_topics(df_test,topics,clf_count_NB,le)"
   ]
  },
  {
   "cell_type": "code",
   "execution_count": 72,
   "metadata": {},
   "outputs": [
    {
     "name": "stdout",
     "output_type": "stream",
     "text": [
      "[[  1   0   0   0   0   0   2   0   0   0   0]\n",
      " [  1   2   0   0   0   0  11   0   0   0   1]\n",
      " [  0   0   6   0   0   0   7   0   0   0   0]\n",
      " [  0   0   0   1   0   0   1   0   0   0   0]\n",
      " [  0   0   0   0  16   0   7  25   0   0   0]\n",
      " [  0   0   0   0   0   6   8   0   0   0   0]\n",
      " [  0   0   1   2  12   1 223  19   0   5   3]\n",
      " [  0   0   0   0  17   0   4  48   0   0   0]\n",
      " [  1   0   0   0   0   0   2   0   0   0   0]\n",
      " [  0   0   0   0   0   0   6   0   0   1   0]\n",
      " [  0   0   0   0   0   0   2   0   0   0  58]]\n"
     ]
    }
   ],
   "source": [
    "conf_matrix = confusion_matrix(en_test_y, y_pred)\n",
    "print(conf_matrix)"
   ]
  },
  {
   "cell_type": "code",
   "execution_count": 25,
   "metadata": {},
   "outputs": [
    {
     "name": "stdout",
     "output_type": "stream",
     "text": [
      "[[  1   0   0   0   0   0   2   0   0   0   0]\n",
      " [  1   2   0   0   0   0  12   0   0   0   0]\n",
      " [  0   0   6   0   0   0   7   0   0   0   0]\n",
      " [  0   0   0   1   0   0   1   0   0   0   0]\n",
      " [  0   0   0   0  17   0   4  27   0   0   0]\n",
      " [  0   0   0   0   0  10   4   0   0   0   0]\n",
      " [  0   0   1   4  15   1 207  29   0   6   3]\n",
      " [  0   0   0   0  16   0   1  52   0   0   0]\n",
      " [  1   0   0   0   0   1   1   0   0   0   0]\n",
      " [  0   0   0   0   0   0   6   0   0   1   0]\n",
      " [  0   0   0   0   0   0   0   0   0   0  60]]\n"
     ]
    }
   ],
   "source": [
    "count_conf_matrix = confusion_matrix(en_test_y, count_y_pred)\n",
    "print(count_conf_matrix)"
   ]
  },
  {
   "cell_type": "code",
   "execution_count": 80,
   "metadata": {},
   "outputs": [
    {
     "data": {
      "text/plain": [
       "<sklearn.metrics._plot.confusion_matrix.ConfusionMatrixDisplay at 0x7f7f68ddf438>"
      ]
     },
     "execution_count": 80,
     "metadata": {},
     "output_type": "execute_result"
    },
    {
     "data": {
      "image/png": "[encoded data removed]",
      "text/plain": [
       "<Figure size 432x288 with 2 Axes>"
      ]
     },
     "metadata": {
      "needs_background": "light"
     },
     "output_type": "display_data"
    }
   ],
   "source": [
    "plot_confusion_matrix(clf_NB,test_x,en_test_y)"
   ]
  },
  {
   "cell_type": "code",
   "execution_count": 74,
   "metadata": {},
   "outputs": [
    {
     "data": {
      "image/png": "[encoded data removed]",
      "text/plain": [
       "<Figure size 936x432 with 2 Axes>"
      ]
     },
     "metadata": {
      "needs_background": "light"
     },
     "output_type": "display_data"
    }
   ],
   "source": [
    "fig1 = plt.figure(figsize=(13,6))\n",
    "sns.heatmap(conf_matrix,\n",
    "#             square=True,\n",
    "            annot=True, # show numbers in each cell\n",
    "            fmt='d', # set number format to integer in each cell\n",
    "            yticklabels=le.classes_,\n",
    "            xticklabels=clf_NB.classes_,\n",
    "            cmap=\"Blues\",\n",
    "#             linecolor=\"k\",\n",
    "            linewidths=.1,\n",
    "           )\n",
    "plt.title(\n",
    "          f\"Confusion Matrix on Test Set | \" \n",
    "          f\"Classifier: {'+'.join([step for step in clf_NB.named_steps.keys()])}\", \n",
    "          fontsize=14)\n",
    "plt.xlabel(\"Actual: False positives for y != x\", fontsize=12)\n",
    "plt.ylabel(\"Prediction: False negatives for x != y\", fontsize=12)\n",
    "plt.show()"
   ]
  },
  {
   "cell_type": "code",
   "execution_count": 26,
   "metadata": {},
   "outputs": [
    {
     "data": {
      "image/png": "[encoded data removed]",
      "text/plain": [
       "<Figure size 936x432 with 2 Axes>"
      ]
     },
     "metadata": {
      "needs_background": "light"
     },
     "output_type": "display_data"
    }
   ],
   "source": [
    "fig1 = plt.figure(figsize=(13,6))\n",
    "sns.heatmap(count_conf_matrix,\n",
    "#             square=True,\n",
    "            annot=True, # show numbers in each cell\n",
    "            fmt='d', # set number format to integer in each cell\n",
    "            yticklabels=le.classes_,\n",
    "            xticklabels=clf_count_NB.classes_,\n",
    "            cmap=\"Blues\",\n",
    "#             linecolor=\"k\",\n",
    "            linewidths=.1,\n",
    "           )\n",
    "plt.title(\n",
    "          f\"Confusion Matrix on Test Set | \" \n",
    "          f\"Classifier: {'+'.join([step for step in clf_count_NB.named_steps.keys()])}\", \n",
    "          fontsize=14)\n",
    "plt.xlabel(\"Actual: False positives for y != x\", fontsize=12)\n",
    "plt.ylabel(\"Prediction: False negatives for x != y\", fontsize=12)\n",
    "plt.show()"
   ]
  },
  {
   "cell_type": "code",
   "execution_count": 75,
   "metadata": {},
   "outputs": [
    {
     "name": "stdout",
     "output_type": "stream",
     "text": [
      "{'ARTS CULTURE ENTERTAINMENT': 0, 'BIOGRAPHIES PERSONALITIES PEOPLE': 1, 'DEFENCE': 2, 'DOMESTIC MARKETS': 3, 'FOREX MARKETS': 4, 'HEALTH': 5, 'IRRELEVANT': 6, 'MONEY MARKETS': 7, 'SCIENCE AND TECHNOLOGY': 8, 'SHARE LISTINGS': 9, 'SPORTS': 10}\n"
     ]
    }
   ],
   "source": [
    "print(encode_mapping)"
   ]
  },
  {
   "cell_type": "code",
   "execution_count": 15,
   "metadata": {},
   "outputs": [],
   "source": [
    "clf_NB = retrieve_variable(\"clf_NB\")\n"
   ]
  },
  {
   "cell_type": "markdown",
   "metadata": {},
   "source": [
    "## Test of Two Layer Model"
   ]
  },
  {
   "cell_type": "code",
   "execution_count": 109,
   "metadata": {},
   "outputs": [
    {
     "data": {
      "text/html": [
       "<div>\n",
       "<style scoped>\n",
       "    .dataframe tbody tr th:only-of-type {\n",
       "        vertical-align: middle;\n",
       "    }\n",
       "\n",
       "    .dataframe tbody tr th {\n",
       "        vertical-align: top;\n",
       "    }\n",
       "\n",
       "    .dataframe thead th {\n",
       "        text-align: right;\n",
       "    }\n",
       "</style>\n",
       "<table border=\"1\" class=\"dataframe\">\n",
       "  <thead>\n",
       "    <tr style=\"text-align: right;\">\n",
       "      <th></th>\n",
       "      <th>article_number</th>\n",
       "      <th>article_words</th>\n",
       "      <th>topic</th>\n",
       "      <th>rel_topic</th>\n",
       "    </tr>\n",
       "  </thead>\n",
       "  <tbody>\n",
       "    <tr>\n",
       "      <th>0</th>\n",
       "      <td>1</td>\n",
       "      <td>open,absent,cent,cent,cent,stock,inflow,rate,k...</td>\n",
       "      <td>FOREX MARKETS</td>\n",
       "      <td>RELEVANT</td>\n",
       "    </tr>\n",
       "    <tr>\n",
       "      <th>1</th>\n",
       "      <td>2</td>\n",
       "      <td>morn,stead,end,end,day,day,day,patch,patch,pat...</td>\n",
       "      <td>MONEY MARKETS</td>\n",
       "      <td>RELEVANT</td>\n",
       "    </tr>\n",
       "    <tr>\n",
       "      <th>2</th>\n",
       "      <td>3</td>\n",
       "      <td>socc,socc,world,world,recent,law,fifa,fifa,fif...</td>\n",
       "      <td>SPORTS</td>\n",
       "      <td>RELEVANT</td>\n",
       "    </tr>\n",
       "    <tr>\n",
       "      <th>3</th>\n",
       "      <td>4</td>\n",
       "      <td>open,forint,forint,forint,forint,cent,cent,ste...</td>\n",
       "      <td>FOREX MARKETS</td>\n",
       "      <td>RELEVANT</td>\n",
       "    </tr>\n",
       "    <tr>\n",
       "      <th>4</th>\n",
       "      <td>5</td>\n",
       "      <td>morn,complet,weekend,minut,minut,minut,arrow,d...</td>\n",
       "      <td>IRRELEVANT</td>\n",
       "      <td>IRRELEVANT</td>\n",
       "    </tr>\n",
       "    <tr>\n",
       "      <th>...</th>\n",
       "      <td>...</td>\n",
       "      <td>...</td>\n",
       "      <td>...</td>\n",
       "      <td>...</td>\n",
       "    </tr>\n",
       "    <tr>\n",
       "      <th>9495</th>\n",
       "      <td>9496</td>\n",
       "      <td>cloud,provid,hope,centur,erupt,rule,recent,sou...</td>\n",
       "      <td>DEFENCE</td>\n",
       "      <td>RELEVANT</td>\n",
       "    </tr>\n",
       "    <tr>\n",
       "      <th>9496</th>\n",
       "      <td>9497</td>\n",
       "      <td>stock,stock,stock,declin,access,week,worry,blo...</td>\n",
       "      <td>IRRELEVANT</td>\n",
       "      <td>IRRELEVANT</td>\n",
       "    </tr>\n",
       "    <tr>\n",
       "      <th>9497</th>\n",
       "      <td>9498</td>\n",
       "      <td>rate,million,million,belarus,dollar,dollar,nov...</td>\n",
       "      <td>FOREX MARKETS</td>\n",
       "      <td>RELEVANT</td>\n",
       "    </tr>\n",
       "    <tr>\n",
       "      <th>9498</th>\n",
       "      <td>9499</td>\n",
       "      <td>flow,bullet,bullet,bullet,bullet,bullet,bullet...</td>\n",
       "      <td>IRRELEVANT</td>\n",
       "      <td>IRRELEVANT</td>\n",
       "    </tr>\n",
       "    <tr>\n",
       "      <th>9499</th>\n",
       "      <td>9500</td>\n",
       "      <td>helsingin,mechan,follow,sanomat,limit,market,r...</td>\n",
       "      <td>FOREX MARKETS</td>\n",
       "      <td>RELEVANT</td>\n",
       "    </tr>\n",
       "  </tbody>\n",
       "</table>\n",
       "<p>9500 rows × 4 columns</p>\n",
       "</div>"
      ],
      "text/plain": [
       "      article_number                                      article_words  \\\n",
       "0                  1  open,absent,cent,cent,cent,stock,inflow,rate,k...   \n",
       "1                  2  morn,stead,end,end,day,day,day,patch,patch,pat...   \n",
       "2                  3  socc,socc,world,world,recent,law,fifa,fifa,fif...   \n",
       "3                  4  open,forint,forint,forint,forint,cent,cent,ste...   \n",
       "4                  5  morn,complet,weekend,minut,minut,minut,arrow,d...   \n",
       "...              ...                                                ...   \n",
       "9495            9496  cloud,provid,hope,centur,erupt,rule,recent,sou...   \n",
       "9496            9497  stock,stock,stock,declin,access,week,worry,blo...   \n",
       "9497            9498  rate,million,million,belarus,dollar,dollar,nov...   \n",
       "9498            9499  flow,bullet,bullet,bullet,bullet,bullet,bullet...   \n",
       "9499            9500  helsingin,mechan,follow,sanomat,limit,market,r...   \n",
       "\n",
       "              topic   rel_topic  \n",
       "0     FOREX MARKETS    RELEVANT  \n",
       "1     MONEY MARKETS    RELEVANT  \n",
       "2            SPORTS    RELEVANT  \n",
       "3     FOREX MARKETS    RELEVANT  \n",
       "4        IRRELEVANT  IRRELEVANT  \n",
       "...             ...         ...  \n",
       "9495        DEFENCE    RELEVANT  \n",
       "9496     IRRELEVANT  IRRELEVANT  \n",
       "9497  FOREX MARKETS    RELEVANT  \n",
       "9498     IRRELEVANT  IRRELEVANT  \n",
       "9499  FOREX MARKETS    RELEVANT  \n",
       "\n",
       "[9500 rows x 4 columns]"
      ]
     },
     "execution_count": 109,
     "metadata": {},
     "output_type": "execute_result"
    }
   ],
   "source": [
    "new_df = df\n",
    "rel_topic = [] # relevance topic\n",
    "for i in range(new_df.shape[0]):\n",
    "    if(new_df.topic.iloc[i]==\"IRRELEVANT\"):\n",
    "        rel_topic.append(\"IRRELEVANT\")\n",
    "    else:\n",
    "        rel_topic.append(\"RELEVANT\")\n",
    "new_df['rel_topic']=rel_topic\n",
    "new_df"
   ]
  },
  {
   "cell_type": "code",
   "execution_count": 110,
   "metadata": {},
   "outputs": [],
   "source": [
    "train_x = new_df.article_words.apply(lambda x: x.replace('_', ''))\n",
    "rel_train_y = new_df.rel_topic\n",
    "rel_le = preprocessing.LabelEncoder()\n",
    "rel_le.fit(rel_train_y)\n",
    "rel_encode_mapping = dict(zip(rel_le.classes_, range(len(rel_le.classes_))))\n",
    "en_rel_train_y = rel_le.transform(rel_train_y)"
   ]
  },
  {
   "cell_type": "code",
   "execution_count": 111,
   "metadata": {},
   "outputs": [],
   "source": [
    "smote = SMOTE(random_state=1)\n",
    "vectorizer = TfidfVectorizer()\n",
    "vectorizer.fit(train_x)\n",
    "train_vectors = vectorizer.transform(train_x)\n",
    "smo_x,rel_smo_y = smote.fit_sample(train_vectors,en_rel_train_y)\n",
    "new_train_x = vectorizer.inverse_transform(smo_x)\n",
    "new_train_x = pd.Series([','.join(item) for item in new_train_x])"
   ]
  },
  {
   "cell_type": "markdown",
   "metadata": {},
   "source": [
    "#### First Layer with Tfidf"
   ]
  },
  {
   "cell_type": "code",
   "execution_count": 57,
   "metadata": {},
   "outputs": [
    {
     "data": {
      "text/plain": [
       "Pipeline(memory=None,\n",
       "         steps=[('tfidf',\n",
       "                 TfidfVectorizer(analyzer='word', binary=False,\n",
       "                                 decode_error='strict',\n",
       "                                 dtype=<class 'numpy.float64'>,\n",
       "                                 encoding='utf-8', input='content',\n",
       "                                 lowercase=True, max_df=1.0, max_features=None,\n",
       "                                 min_df=1, ngram_range=(1, 1), norm=None,\n",
       "                                 preprocessor=None, smooth_idf=True,\n",
       "                                 stop_words=None, strip_accents=None,\n",
       "                                 sublinear_tf=False,\n",
       "                                 token_pattern='(?u)\\\\b\\\\w\\\\w+\\\\b',\n",
       "                                 tokenizer=None, use_idf=True,\n",
       "                                 vocabulary=None)),\n",
       "                ('model',\n",
       "                 MultinomialNB(alpha=1.0, class_prior=None, fit_prior=True))],\n",
       "         verbose=False)"
      ]
     },
     "execution_count": 57,
     "metadata": {},
     "output_type": "execute_result"
    }
   ],
   "source": [
    "# For Tfidf Vectorizer\n",
    "kfold = StratifiedKFold(n_splits=10,shuffle=True,random_state=1)\n",
    "rel_estimators = [\n",
    "                (\"tfidf\",TfidfVectorizer(norm=None)),\n",
    "                (\"model\",MultinomialNB())\n",
    "              ]\n",
    "rel_pipe = Pipeline(rel_estimators)\n",
    "\n",
    "rel_param_grid = {\n",
    "                \"tfidf__min_df\":[i for i in range(1,6)],\n",
    "                \"model__alpha\":[0.001,0.01,0.1,1],\n",
    "                \"model__class_prior\":[None,[1/len(topics) for i in range(len(topics))]],\n",
    "                \"model__fit_prior\":[True,False]\n",
    "             }\n",
    "rel_pipe"
   ]
  },
  {
   "cell_type": "code",
   "execution_count": 58,
   "metadata": {},
   "outputs": [
    {
     "name": "stdout",
     "output_type": "stream",
     "text": [
      "The best parameters are {'model__alpha': 1, 'model__class_prior': None, 'model__fit_prior': True, 'tfidf__min_df': 1}, with score 0.8327742470538804\n",
      "CPU times: user 6.29 s, sys: 824 ms, total: 7.12 s\n",
      "Wall time: 3min 59s\n"
     ]
    }
   ],
   "source": [
    "%%time\n",
    "# For Tfidf Vectorizer\n",
    "rel_grid_search = GridSearchCV(rel_pipe, rel_param_grid, cv=kfold, n_jobs=-1)\n",
    "\n",
    "# through in original text samples\n",
    "rel_grid_result=rel_grid_search.fit(new_train_x, rel_smo_y)\n",
    "print(\"The best parameters are {0}, with score {1:4}\".format(rel_grid_result.best_params_,rel_grid_result.best_score_))"
   ]
  },
  {
   "cell_type": "code",
   "execution_count": 61,
   "metadata": {},
   "outputs": [
    {
     "name": "stdout",
     "output_type": "stream",
     "text": [
      "Accuracy on training set: 0.833\n"
     ]
    }
   ],
   "source": [
    "rel_clf_NB = rel_grid_result.best_estimator_\n",
    "rel_acc_train_NB = rel_grid_result.best_score_\n",
    "print(f\"Accuracy on training set: {rel_acc_train_NB:.3f}\")\n",
    "save_variable(rel_clf_NB,\"rel_clf_NB\")\n",
    "save_variable(rel_grid_result,\"rel_grid_result\")"
   ]
  },
  {
   "cell_type": "markdown",
   "metadata": {},
   "source": [
    "#### First Layer With CountVetorizer"
   ]
  },
  {
   "cell_type": "code",
   "execution_count": 62,
   "metadata": {},
   "outputs": [
    {
     "data": {
      "text/plain": [
       "Pipeline(memory=None,\n",
       "         steps=[('count',\n",
       "                 CountVectorizer(analyzer='word', binary=False,\n",
       "                                 decode_error='strict',\n",
       "                                 dtype=<class 'numpy.int64'>, encoding='utf-8',\n",
       "                                 input='content', lowercase=True, max_df=1.0,\n",
       "                                 max_features=None, min_df=1,\n",
       "                                 ngram_range=(1, 1), preprocessor=None,\n",
       "                                 stop_words=None, strip_accents=None,\n",
       "                                 token_pattern='(?u)\\\\b\\\\w\\\\w+\\\\b',\n",
       "                                 tokenizer=None, vocabulary=None)),\n",
       "                ('model',\n",
       "                 MultinomialNB(alpha=1.0, class_prior=None, fit_prior=True))],\n",
       "         verbose=False)"
      ]
     },
     "execution_count": 62,
     "metadata": {},
     "output_type": "execute_result"
    }
   ],
   "source": [
    "# For CountVectorizer\n",
    "kfold = StratifiedKFold(n_splits=10,shuffle=True,random_state=1)\n",
    "rel_count_estimators = [\n",
    "                (\"count\",CountVectorizer()),\n",
    "                (\"model\",MultinomialNB())\n",
    "              ]\n",
    "rel_count_pipe = Pipeline(rel_count_estimators)\n",
    "\n",
    "rel_count_param_grid = {\n",
    "                \"count__min_df\":[i for i in range(1,6)],\n",
    "                \"model__alpha\":[0.001,0.01,0.1,1],\n",
    "                \"model__class_prior\":[None,[1/len(topics) for i in range(len(topics))]],\n",
    "                \"model__fit_prior\":[True,False]\n",
    "             }\n",
    "rel_count_pipe"
   ]
  },
  {
   "cell_type": "code",
   "execution_count": 63,
   "metadata": {},
   "outputs": [
    {
     "name": "stdout",
     "output_type": "stream",
     "text": [
      "The best parameters are {'count__min_df': 3, 'model__alpha': 0.1, 'model__class_prior': None, 'model__fit_prior': True}, with score 0.8369710788616329\n",
      "CPU times: user 6.21 s, sys: 912 ms, total: 7.12 s\n",
      "Wall time: 3min 59s\n"
     ]
    }
   ],
   "source": [
    "%%time\n",
    "# For CountVectorizer \n",
    "rel_count_grid_search = GridSearchCV(rel_count_pipe, rel_count_param_grid, cv=kfold, n_jobs=-1)\n",
    "\n",
    "# through in original text samples\n",
    "rel_count_grid_result=rel_count_grid_search.fit(new_train_x, rel_smo_y)\n",
    "print(\"The best parameters are {0}, with score {1:4}\".format(rel_count_grid_result.best_params_,rel_count_grid_result.best_score_))"
   ]
  },
  {
   "cell_type": "code",
   "execution_count": 64,
   "metadata": {},
   "outputs": [
    {
     "name": "stdout",
     "output_type": "stream",
     "text": [
      "Accuracy on training set: 0.837\n"
     ]
    }
   ],
   "source": [
    "rel_count_clf_NB = rel_count_grid_result.best_estimator_\n",
    "rel_count_acc_train_NB = rel_count_grid_result.best_score_\n",
    "print(f\"Accuracy on training set: {rel_count_acc_train_NB:.3f}\")\n",
    "save_variable(rel_count_clf_NB,\"rel_count_clf_NB\")\n",
    "save_variable(rel_count_grid_result,\"rel_count_grid_result\")"
   ]
  },
  {
   "cell_type": "markdown",
   "metadata": {},
   "source": [
    "Therefore, we chooes the CountVectorizer for the first layer."
   ]
  },
  {
   "cell_type": "markdown",
   "metadata": {},
   "source": [
    "### Second Layer Model"
   ]
  },
  {
   "cell_type": "code",
   "execution_count": 112,
   "metadata": {},
   "outputs": [
    {
     "name": "stdout",
     "output_type": "stream",
     "text": [
      "['DEFENCE', 'SHARE LISTINGS', 'HEALTH', 'BIOGRAPHIES PERSONALITIES PEOPLE', 'DOMESTIC MARKETS', 'SCIENCE AND TECHNOLOGY', 'FOREX MARKETS', 'SPORTS', 'MONEY MARKETS', 'ARTS CULTURE ENTERTAINMENT']\n"
     ]
    }
   ],
   "source": [
    "new_df = df[df.topic!=\"IRRELEVANT\"]\n",
    "train_x = new_df.article_words.apply(lambda x: x.replace('_', ''))\n",
    "train_y = new_df.topic\n",
    "en_train_y = le.transform(train_y)\n",
    "topics = list(set(new_df['topic']))\n",
    "TOPIC_COUNT = len(topics)\n",
    "print(topics)"
   ]
  },
  {
   "cell_type": "code",
   "execution_count": 113,
   "metadata": {},
   "outputs": [
    {
     "name": "stdout",
     "output_type": "stream",
     "text": [
      "(16730,)\n",
      "(16730,)\n"
     ]
    }
   ],
   "source": [
    "smote = SMOTE(random_state=1)\n",
    "vectorizer = TfidfVectorizer()\n",
    "vectorizer.fit(train_x)\n",
    "train_vectors = vectorizer.transform(train_x)\n",
    "smo_x,smo_y = smote.fit_sample(train_vectors,en_train_y)\n",
    "new_train_x = vectorizer.inverse_transform(smo_x)\n",
    "new_train_x = pd.Series([','.join(item) for item in new_train_x])\n",
    "print(new_train_x.shape)\n",
    "print(smo_y.shape)"
   ]
  },
  {
   "cell_type": "code",
   "execution_count": 114,
   "metadata": {},
   "outputs": [
    {
     "data": {
      "text/plain": [
       "Pipeline(memory=None,\n",
       "         steps=[('tfidf',\n",
       "                 TfidfVectorizer(analyzer='word', binary=False,\n",
       "                                 decode_error='strict',\n",
       "                                 dtype=<class 'numpy.float64'>,\n",
       "                                 encoding='utf-8', input='content',\n",
       "                                 lowercase=True, max_df=1.0, max_features=None,\n",
       "                                 min_df=1, ngram_range=(1, 1), norm=None,\n",
       "                                 preprocessor=None, smooth_idf=True,\n",
       "                                 stop_words=None, strip_accents=None,\n",
       "                                 sublinear_tf=False,\n",
       "                                 token_pattern='(?u)\\\\b\\\\w\\\\w+\\\\b',\n",
       "                                 tokenizer=None, use_idf=True,\n",
       "                                 vocabulary=None)),\n",
       "                ('model',\n",
       "                 MultinomialNB(alpha=1.0, class_prior=None, fit_prior=True))],\n",
       "         verbose=False)"
      ]
     },
     "execution_count": 114,
     "metadata": {},
     "output_type": "execute_result"
    }
   ],
   "source": [
    "# For Tfidf Vectorizer\n",
    "kfold = StratifiedKFold(n_splits=10,shuffle=True,random_state=1)\n",
    "estimators = [\n",
    "                (\"tfidf\",TfidfVectorizer(norm=None)),\n",
    "                (\"model\",MultinomialNB())\n",
    "              ]\n",
    "pipe = Pipeline(estimators)\n",
    "\n",
    "param_grid = {\n",
    "                \"tfidf__min_df\":[i for i in range(1,6)],\n",
    "                \"model__alpha\":[0.001,0.01,0.1,1],\n",
    "                \"model__class_prior\":[None,[1/len(topics) for i in range(len(topics))]],\n",
    "                \"model__fit_prior\":[True,False]\n",
    "             }\n",
    "pipe"
   ]
  },
  {
   "cell_type": "code",
   "execution_count": 115,
   "metadata": {},
   "outputs": [
    {
     "name": "stdout",
     "output_type": "stream",
     "text": [
      "The best parameters are {'model__alpha': 0.001, 'model__class_prior': None, 'model__fit_prior': True, 'tfidf__min_df': 1}, with score 0.9479976090854751\n",
      "CPU times: user 14.8 s, sys: 3.16 s, total: 18 s\n",
      "Wall time: 13min 28s\n"
     ]
    }
   ],
   "source": [
    "%%time\n",
    "# For Tfidf Vectorizer\n",
    "grid_search = GridSearchCV(pipe, param_grid, cv=kfold, n_jobs=-1)\n",
    "\n",
    "# through in original text samples\n",
    "grid_result=grid_search.fit(new_train_x, smo_y)\n",
    "print(\"The best parameters are {0}, with score {1:4}\".format(grid_result.best_params_,grid_result.best_score_))"
   ]
  },
  {
   "cell_type": "code",
   "execution_count": 117,
   "metadata": {},
   "outputs": [
    {
     "name": "stdout",
     "output_type": "stream",
     "text": [
      "Accuracy on training set: 0.948\n"
     ]
    }
   ],
   "source": [
    "clf_NB = grid_result.best_estimator_\n",
    "acc_train_NB = grid_result.best_score_\n",
    "print(f\"Accuracy on training set: {acc_train_NB:.3f}\")\n",
    "save_variable(clf_NB,\"second_layer_clf_tfidf_NB\")\n",
    "save_variable(grid_result,\"second_layer_tfidf_grid_result\")"
   ]
  },
  {
   "cell_type": "code",
   "execution_count": 118,
   "metadata": {},
   "outputs": [
    {
     "data": {
      "text/plain": [
       "Pipeline(memory=None,\n",
       "         steps=[('count',\n",
       "                 CountVectorizer(analyzer='word', binary=False,\n",
       "                                 decode_error='strict',\n",
       "                                 dtype=<class 'numpy.int64'>, encoding='utf-8',\n",
       "                                 input='content', lowercase=True, max_df=1.0,\n",
       "                                 max_features=None, min_df=1,\n",
       "                                 ngram_range=(1, 1), preprocessor=None,\n",
       "                                 stop_words=None, strip_accents=None,\n",
       "                                 token_pattern='(?u)\\\\b\\\\w\\\\w+\\\\b',\n",
       "                                 tokenizer=None, vocabulary=None)),\n",
       "                ('model',\n",
       "                 MultinomialNB(alpha=1.0, class_prior=None, fit_prior=True))],\n",
       "         verbose=False)"
      ]
     },
     "execution_count": 118,
     "metadata": {},
     "output_type": "execute_result"
    }
   ],
   "source": [
    "# For CountVectorizer\n",
    "kfold = StratifiedKFold(n_splits=10,shuffle=True,random_state=1)\n",
    "estimators = [\n",
    "                (\"count\",CountVectorizer()),\n",
    "                (\"model\",MultinomialNB())\n",
    "              ]\n",
    "pipe = Pipeline(estimators)\n",
    "\n",
    "param_grid = {\n",
    "                \"count__min_df\":[i for i in range(1,6)],\n",
    "                \"model__alpha\":[0.001,0.01,0.1,1],\n",
    "                \"model__class_prior\":[None,[1/len(topics) for i in range(len(topics))]],\n",
    "                \"model__fit_prior\":[True,False]\n",
    "             }\n",
    "pipe"
   ]
  },
  {
   "cell_type": "code",
   "execution_count": 119,
   "metadata": {},
   "outputs": [
    {
     "name": "stdout",
     "output_type": "stream",
     "text": [
      "The best parameters are {'count__min_df': 1, 'model__alpha': 0.001, 'model__class_prior': None, 'model__fit_prior': True}, with score 0.9450089659294681\n",
      "CPU times: user 14.7 s, sys: 2.88 s, total: 17.5 s\n",
      "Wall time: 12min 52s\n"
     ]
    }
   ],
   "source": [
    "%%time\n",
    "# For CountVectorizer \n",
    "count_grid_search = GridSearchCV(pipe, param_grid, cv=kfold, n_jobs=-1)\n",
    "\n",
    "# through in original text samples\n",
    "count_grid_result=count_grid_search.fit(new_train_x, smo_y)\n",
    "print(\"The best parameters are {0}, with score {1:4}\".format(count_grid_result.best_params_,count_grid_result.best_score_))"
   ]
  },
  {
   "cell_type": "code",
   "execution_count": 121,
   "metadata": {},
   "outputs": [
    {
     "name": "stdout",
     "output_type": "stream",
     "text": [
      "Accuracy on training set: 0.945\n"
     ]
    }
   ],
   "source": [
    "clf_count_NB = count_grid_result.best_estimator_\n",
    "acc_count_train_NB = count_grid_result.best_score_\n",
    "print(f\"Accuracy on training set: {acc_count_train_NB:.3f}\")\n",
    "save_variable(clf_count_NB,\"second_layer_clf_count_NB\")\n",
    "save_variable(count_grid_result,\"second_layer_count_grid_result\")"
   ]
  },
  {
   "cell_type": "markdown",
   "metadata": {},
   "source": [
    "Therefore, the second layer would be using the tfidf vectorizer."
   ]
  },
  {
   "cell_type": "markdown",
   "metadata": {},
   "source": [
    "#### Test Set at First Layer"
   ]
  },
  {
   "cell_type": "code",
   "execution_count": 123,
   "metadata": {},
   "outputs": [
    {
     "name": "stdout",
     "output_type": "stream",
     "text": [
      "F1 score for  MultinomialNB for Relevance  model is  0.8255639097744362\n",
      "Accuracy score for  MultinomialNB for Relevance  model is  0.826\n",
      "Recall score for  MultinomialNB for Relevance  model is  0.8261840498682604 \n",
      "\n"
     ]
    }
   ],
   "source": [
    "df_test = pd.read_csv(TEST_FILE)\n",
    "rel_topic = [] # relevance topic\n",
    "for i in range(df_test.shape[0]):\n",
    "    if(df_test.topic.iloc[i]==\"IRRELEVANT\"):\n",
    "        rel_topic.append(\"IRRELEVANT\")\n",
    "    else:\n",
    "        rel_topic.append(\"RELEVANT\")\n",
    "df_test['rel_topic']=rel_topic\n",
    "test_x = df_test.article_words.apply(lambda x: x.replace('_', ''))\n",
    "rel_test_y = df_test.rel_topic\n",
    "en_rel_test_y = rel_le.transform(rel_test_y)\n",
    "rel_y_pred = rel_count_clf_NB.predict(test_x)\n",
    "get_scores(en_rel_test_y,rel_y_pred,\"MultinomialNB for Relevance\")"
   ]
  },
  {
   "cell_type": "markdown",
   "metadata": {},
   "source": [
    "#### Test Set at Second Layer"
   ]
  },
  {
   "cell_type": "code",
   "execution_count": 124,
   "metadata": {},
   "outputs": [
    {
     "data": {
      "text/html": [
       "<div>\n",
       "<style scoped>\n",
       "    .dataframe tbody tr th:only-of-type {\n",
       "        vertical-align: middle;\n",
       "    }\n",
       "\n",
       "    .dataframe tbody tr th {\n",
       "        vertical-align: top;\n",
       "    }\n",
       "\n",
       "    .dataframe thead th {\n",
       "        text-align: right;\n",
       "    }\n",
       "</style>\n",
       "<table border=\"1\" class=\"dataframe\">\n",
       "  <thead>\n",
       "    <tr style=\"text-align: right;\">\n",
       "      <th></th>\n",
       "      <th>article_number</th>\n",
       "      <th>article_words</th>\n",
       "      <th>topic</th>\n",
       "      <th>rel_topic</th>\n",
       "      <th>rel_pred</th>\n",
       "    </tr>\n",
       "  </thead>\n",
       "  <tbody>\n",
       "    <tr>\n",
       "      <th>0</th>\n",
       "      <td>9501</td>\n",
       "      <td>world,complet,pharmaceut,tianjin,tianjin,chin,...</td>\n",
       "      <td>IRRELEVANT</td>\n",
       "      <td>IRRELEVANT</td>\n",
       "      <td>IRRELEVANT</td>\n",
       "    </tr>\n",
       "    <tr>\n",
       "      <th>1</th>\n",
       "      <td>9502</td>\n",
       "      <td>copy,sunday,weekend,ec,friday,eu,includ,limit,...</td>\n",
       "      <td>IRRELEVANT</td>\n",
       "      <td>IRRELEVANT</td>\n",
       "      <td>IRRELEVANT</td>\n",
       "    </tr>\n",
       "    <tr>\n",
       "      <th>2</th>\n",
       "      <td>9503</td>\n",
       "      <td>heavy,heavy,gabriel,morn,morn,equit,cent,cent,...</td>\n",
       "      <td>FOREX MARKETS</td>\n",
       "      <td>RELEVANT</td>\n",
       "      <td>RELEVANT</td>\n",
       "    </tr>\n",
       "    <tr>\n",
       "      <th>3</th>\n",
       "      <td>9504</td>\n",
       "      <td>research,jess,hit,anticip,comput,comput,comput...</td>\n",
       "      <td>IRRELEVANT</td>\n",
       "      <td>IRRELEVANT</td>\n",
       "      <td>IRRELEVANT</td>\n",
       "    </tr>\n",
       "    <tr>\n",
       "      <th>4</th>\n",
       "      <td>9505</td>\n",
       "      <td>provid,provid,luxembourg,court,court,case,opin...</td>\n",
       "      <td>IRRELEVANT</td>\n",
       "      <td>IRRELEVANT</td>\n",
       "      <td>IRRELEVANT</td>\n",
       "    </tr>\n",
       "    <tr>\n",
       "      <th>...</th>\n",
       "      <td>...</td>\n",
       "      <td>...</td>\n",
       "      <td>...</td>\n",
       "      <td>...</td>\n",
       "      <td>...</td>\n",
       "    </tr>\n",
       "    <tr>\n",
       "      <th>495</th>\n",
       "      <td>9996</td>\n",
       "      <td>symantec,soon,interfac,provid,provid,comput,co...</td>\n",
       "      <td>IRRELEVANT</td>\n",
       "      <td>IRRELEVANT</td>\n",
       "      <td>IRRELEVANT</td>\n",
       "    </tr>\n",
       "    <tr>\n",
       "      <th>496</th>\n",
       "      <td>9997</td>\n",
       "      <td>hit,hit,hit,hit,hit,hit,hit,hit,hit,beat,beat,...</td>\n",
       "      <td>SPORTS</td>\n",
       "      <td>RELEVANT</td>\n",
       "      <td>RELEVANT</td>\n",
       "    </tr>\n",
       "    <tr>\n",
       "      <th>497</th>\n",
       "      <td>9998</td>\n",
       "      <td>cent,cent,cent,cent,match,declin,act,rate,rate...</td>\n",
       "      <td>MONEY MARKETS</td>\n",
       "      <td>RELEVANT</td>\n",
       "      <td>RELEVANT</td>\n",
       "    </tr>\n",
       "    <tr>\n",
       "      <th>498</th>\n",
       "      <td>9999</td>\n",
       "      <td>cnmv,cnmv,stock,count,count,week,group,friday,...</td>\n",
       "      <td>SHARE LISTINGS</td>\n",
       "      <td>RELEVANT</td>\n",
       "      <td>RELEVANT</td>\n",
       "    </tr>\n",
       "    <tr>\n",
       "      <th>499</th>\n",
       "      <td>10000</td>\n",
       "      <td>matthey,matthey,metal,hit,morn,widen,widen,cen...</td>\n",
       "      <td>IRRELEVANT</td>\n",
       "      <td>IRRELEVANT</td>\n",
       "      <td>RELEVANT</td>\n",
       "    </tr>\n",
       "  </tbody>\n",
       "</table>\n",
       "<p>500 rows × 5 columns</p>\n",
       "</div>"
      ],
      "text/plain": [
       "     article_number                                      article_words  \\\n",
       "0              9501  world,complet,pharmaceut,tianjin,tianjin,chin,...   \n",
       "1              9502  copy,sunday,weekend,ec,friday,eu,includ,limit,...   \n",
       "2              9503  heavy,heavy,gabriel,morn,morn,equit,cent,cent,...   \n",
       "3              9504  research,jess,hit,anticip,comput,comput,comput...   \n",
       "4              9505  provid,provid,luxembourg,court,court,case,opin...   \n",
       "..              ...                                                ...   \n",
       "495            9996  symantec,soon,interfac,provid,provid,comput,co...   \n",
       "496            9997  hit,hit,hit,hit,hit,hit,hit,hit,hit,beat,beat,...   \n",
       "497            9998  cent,cent,cent,cent,match,declin,act,rate,rate...   \n",
       "498            9999  cnmv,cnmv,stock,count,count,week,group,friday,...   \n",
       "499           10000  matthey,matthey,metal,hit,morn,widen,widen,cen...   \n",
       "\n",
       "              topic   rel_topic    rel_pred  \n",
       "0        IRRELEVANT  IRRELEVANT  IRRELEVANT  \n",
       "1        IRRELEVANT  IRRELEVANT  IRRELEVANT  \n",
       "2     FOREX MARKETS    RELEVANT    RELEVANT  \n",
       "3        IRRELEVANT  IRRELEVANT  IRRELEVANT  \n",
       "4        IRRELEVANT  IRRELEVANT  IRRELEVANT  \n",
       "..              ...         ...         ...  \n",
       "495      IRRELEVANT  IRRELEVANT  IRRELEVANT  \n",
       "496          SPORTS    RELEVANT    RELEVANT  \n",
       "497   MONEY MARKETS    RELEVANT    RELEVANT  \n",
       "498  SHARE LISTINGS    RELEVANT    RELEVANT  \n",
       "499      IRRELEVANT  IRRELEVANT    RELEVANT  \n",
       "\n",
       "[500 rows x 5 columns]"
      ]
     },
     "execution_count": 124,
     "metadata": {},
     "output_type": "execute_result"
    }
   ],
   "source": [
    "rel_y_pred = rel_le.inverse_transform(rel_y_pred)\n",
    "df_test['rel_pred']=rel_y_pred\n",
    "df_test"
   ]
  },
  {
   "cell_type": "code",
   "execution_count": 126,
   "metadata": {},
   "outputs": [
    {
     "name": "stdout",
     "output_type": "stream",
     "text": [
      "F1 score for  MultinomialNB for Topic  model is  0.5210359214428982\n",
      "Accuracy score for  MultinomialNB for Topic  model is  0.5850622406639004\n",
      "Recall score for  MultinomialNB for Topic  model is  0.613816425120773 \n",
      "\n"
     ]
    }
   ],
   "source": [
    "new_df_test = df_test[df_test.rel_pred!=\"IRRELEVANT\"]\n",
    "test_x = new_df_test.article_words.apply(lambda x: x.replace('_', ''))\n",
    "topic_test_y = new_df_test.topic\n",
    "en_topic_test_y = le.transform(topic_test_y)\n",
    "topic_y_pred = clf_NB.predict(test_x)\n",
    "get_scores(en_topic_test_y,topic_y_pred,\"MultinomialNB for Topic\")"
   ]
  },
  {
   "cell_type": "code",
   "execution_count": 129,
   "metadata": {},
   "outputs": [
    {
     "name": "stdout",
     "output_type": "stream",
     "text": [
      "(241,) (241,)\n"
     ]
    }
   ],
   "source": [
    "print(test_x.shape,en_topic_test_y.shape)"
   ]
  },
  {
   "cell_type": "code",
   "execution_count": null,
   "metadata": {},
   "outputs": [],
   "source": []
  }
 ],
 "metadata": {
  "kernelspec": {
   "display_name": "Python 3",
   "language": "python",
   "name": "python3"
  },
  "language_info": {
   "codemirror_mode": {
    "name": "ipython",
    "version": 3
   },
   "file_extension": ".py",
   "mimetype": "text/x-python",
   "name": "python",
   "nbconvert_exporter": "python",
   "pygments_lexer": "ipython3",
   "version": "3.7.3"
  }
 },
 "nbformat": 4,
 "nbformat_minor": 4
}
